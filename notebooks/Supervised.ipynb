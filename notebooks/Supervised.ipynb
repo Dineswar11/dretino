{
 "cells": [
  {
   "cell_type": "code",
   "execution_count": 1,
   "id": "62176d86",
   "metadata": {},
   "outputs": [
    {
     "name": "stderr",
     "output_type": "stream",
     "text": [
      "Global seed set to 42\n"
     ]
    },
    {
     "data": {
      "text/plain": [
       "42"
      ]
     },
     "execution_count": 1,
     "metadata": {},
     "output_type": "execute_result"
    }
   ],
   "source": [
    "import os\n",
    "import wandb\n",
    "import pandas as pd\n",
    "import matplotlib.pyplot as plt\n",
    "\n",
    "from sklearn.model_selection import train_test_split,StratifiedKFold\n",
    "from mlxtend.plotting import plot_confusion_matrix\n",
    "\n",
    "import albumentations as A\n",
    "from albumentations.pytorch import ToTensorV2\n",
    "\n",
    "import pytorch_lightning as pl\n",
    "\n",
    "from dretino.dataloader.build_features import DRDataModule\n",
    "from dretino.models.predict_model import test\n",
    "from dretino.models.train_model import Model, train\n",
    "from dretino.visualization.visualize import show_images, cal_mean, plot_metrics\n",
    "from dretino.models.get_preds import create_preds_data_loader,get_perds\n",
    "\n",
    "pl.seed_everything(42)"
   ]
  },
  {
   "cell_type": "code",
   "execution_count": 2,
   "id": "b8c6b516",
   "metadata": {},
   "outputs": [
    {
     "name": "stderr",
     "output_type": "stream",
     "text": [
      "\u001b[34m\u001b[1mwandb\u001b[0m: Currently logged in as: \u001b[33mdineswar_alt\u001b[0m. Use \u001b[1m`wandb login --relogin`\u001b[0m to force relogin\n",
      "\u001b[34m\u001b[1mwandb\u001b[0m: \u001b[33mWARNING\u001b[0m If you're specifying your api key in code, ensure this code is not shared publicly.\n",
      "\u001b[34m\u001b[1mwandb\u001b[0m: \u001b[33mWARNING\u001b[0m Consider setting the WANDB_API_KEY environment variable, or running `wandb login` from the command line.\n",
      "\u001b[34m\u001b[1mwandb\u001b[0m: Appending key for api.wandb.ai to your netrc file: /nlsasfs/home/diabeticr/dineshm/.netrc\n"
     ]
    }
   ],
   "source": [
    "wandb.login(key='7068ca8ac463ce39072f958adc811bf021c1d77e')\n",
    "\n",
    "IMG_PATH = 'aptos/train_images_resize'\n",
    "\n",
    "train_transforms = A.Compose(\n",
    "    [\n",
    "        A.Resize(width=250, height=250),\n",
    "        A.RandomCrop(height=224, width=224),\n",
    "        A.HorizontalFlip(p=0.5),\n",
    "        A.VerticalFlip(p=0.5),\n",
    "        A.RandomRotate90(p=0.5),\n",
    "        A.Blur(p=0.3),\n",
    "        A.CLAHE(p=0.3),\n",
    "        A.ColorJitter(p=0.3),\n",
    "        A.Affine(shear=20, rotate=0, p=0.2),\n",
    "        A.Normalize(\n",
    "            mean=(0.5211, 0.2514, 0.0809),\n",
    "            std =(0.2653, 0.1499, 0.0861),\n",
    "            max_pixel_value=255.0,\n",
    "        ),\n",
    "        ToTensorV2(),\n",
    "    ]\n",
    ")\n",
    "\n",
    "val_transforms = A.Compose(\n",
    "    [\n",
    "        A.Resize(height=224, width=224),\n",
    "        A.Normalize(\n",
    "            mean=(0.5211, 0.2514, 0.0809),\n",
    "            std =(0.2653, 0.1499, 0.0861),\n",
    "            max_pixel_value=255.0,\n",
    "        ),\n",
    "        ToTensorV2(),\n",
    "    ]\n",
    ")\n",
    "\n",
    "test_transforms = A.Compose(\n",
    "    [\n",
    "        A.Resize(height=224, width=224),\n",
    "        A.Normalize(\n",
    "            mean=(0.5211, 0.2514, 0.0809),\n",
    "            std =(0.2653, 0.1499, 0.0861),\n",
    "            max_pixel_value=255.0,\n",
    "        ),\n",
    "        ToTensorV2(),\n",
    "    ]\n",
    ")"
   ]
  },
  {
   "cell_type": "code",
   "execution_count": 3,
   "id": "622167f8",
   "metadata": {},
   "outputs": [],
   "source": [
    "def helper(wab, fast_dev_run, overfit_batches, dm, num_classes=5, IMG_PATH=IMG_PATH, **args):\n",
    "    file_name, trainer = train(Model, dm,\n",
    "                               wab=wab,\n",
    "                               fast_dev_run=fast_dev_run,\n",
    "                               overfit_batches=overfit_batches,\n",
    "                               **args)\n",
    "\n",
    "    print(file_name)\n",
    "\n",
    "    if not fast_dev_run:\n",
    "        #plot_metrics(file_name)\n",
    "\n",
    "        test(Model, dm,\n",
    "             file_name,\n",
    "             trainer,\n",
    "             wab=wab,\n",
    "             fast_dev_run=fast_dev_run,\n",
    "             overfit_batches=overfit_batches)\n",
    "\n",
    "        train_dataloader, val_dataloader, test_dataloader = create_preds_data_loader(df_train, df_valid, df_test,\n",
    "                                                                                     train_path=IMG_PATH,\n",
    "                                                                                     valid_path=IMG_PATH,\n",
    "                                                                                     test_path=IMG_PATH,\n",
    "                                                                                     train_file_ext='.png',\n",
    "                                                                                     val_file_ext='.png',\n",
    "                                                                                     test_file_ext='.png',\n",
    "                                                                                     transforms=test_transforms)\n",
    "\n",
    "        logits_test, y_test, cfn_mtx_test = get_perds(file_name, Model, test_dataloader,\n",
    "                                              args['loss'], num_classes=5)\n",
    "\n",
    "        logits_val, y_val, cfn_mtx_val = get_perds(file_name,Model,val_dataloader,\n",
    "                                           args['loss'],num_classes=5)\n",
    "\n",
    "        #wandb.sklearn.plot_confusion_matrix(y, preds, labels=['0','1','2','3','4'])\n",
    "\n",
    "        plot_confusion_matrix(conf_mat=cfn_mtx_val,\n",
    "        class_names=['0', '1', '2', '3', '4'])\n",
    "\n",
    "        plot_confusion_matrix(conf_mat=cfn_mtx_test,\n",
    "        class_names=['0', '1', '2', '3', '4'])\n",
    "\n",
    "        plt.show()\n",
    "\n",
    "        return logits_test, logits_val, y_test, y_val"
   ]
  },
  {
   "cell_type": "code",
   "execution_count": 4,
   "id": "6951d3f7",
   "metadata": {},
   "outputs": [],
   "source": [
    "def cv(df_test,df_train,df_valid,i):\n",
    "    dm = DRDataModule(df_train, df_valid, df_test,\n",
    "                      train_path=IMG_PATH,\n",
    "                      valid_path=IMG_PATH,\n",
    "                      test_path=IMG_PATH,\n",
    "                      train_transforms=train_transforms,\n",
    "                      val_transforms=val_transforms,\n",
    "                      test_transforms=test_transforms,\n",
    "                      train_file_ext='.png',\n",
    "                      val_file_ext='.png',\n",
    "                      test_file_ext='.png',\n",
    "                      num_workers=8,\n",
    "                      batch_size=64)\n",
    "    \n",
    "    args = dict(\n",
    "        model_name='resnet50',\n",
    "        num_neurons=512,\n",
    "        num_layers=1,\n",
    "        dropout=0.2,\n",
    "        lr=3e-4,\n",
    "        loss='ce',\n",
    "        epochs=40,\n",
    "        gpus=[1],\n",
    "        strategy=None,\n",
    "        tpus=None,\n",
    "        project='Aptos_',\n",
    "        additional_layers=True,\n",
    "        save_dir='./reports'\n",
    "    )\n",
    "\n",
    "    wab = True\n",
    "    fast_dev_run = False\n",
    "    overfit_batches = False\n",
    "    \n",
    "    pl.seed_everything(i**3)\n",
    "\n",
    "\n",
    "    preds_test, preds_val, y_test, y_val = helper(wab,fast_dev_run,overfit_batches,dm,**args)\n",
    "    \n",
    "    if wab:\n",
    "        wandb.finish()\n",
    "    \n",
    "    print(y_test)\n",
    "    print(df_valid.iloc[:,1].values)\n",
    "    dfx.loc[df_valid.index,'0':'4'] = preds_val\n",
    "    df_test.iloc[:,(2+(i*5)):(7+(i*5))] = preds_test"
   ]
  },
  {
   "cell_type": "code",
   "execution_count": 5,
   "id": "974d0e5b",
   "metadata": {
    "scrolled": false
   },
   "outputs": [
    {
     "name": "stderr",
     "output_type": "stream",
     "text": [
      "/nlsasfs/home/diabeticr/dineshm/Conda/envs/pytorch/lib/python3.10/site-packages/pytorch_lightning/core/datamodule.py:95: LightningDeprecationWarning: DataModule property `train_transforms` was deprecated in v1.5 and will be removed in v1.7.\n",
      "  rank_zero_deprecation(\n"
     ]
    },
    {
     "name": "stdout",
     "output_type": "stream",
     "text": [
      "659\n",
      "0\n",
      "659\n",
      "1\n",
      "659\n",
      "2\n",
      "659\n",
      "3\n",
      "659\n",
      "4\n",
      "Fold 0\n"
     ]
    },
    {
     "name": "stderr",
     "output_type": "stream",
     "text": [
      "100%|█████████████████████████████████████████████████████████████████████████████████████████████████████████████████████████████████████████████████████████████████████| 2636/2636 [04:52<00:00,  9.01it/s]\n",
      "/nlsasfs/home/diabeticr/dineshm/Conda/envs/pytorch/lib/python3.10/site-packages/pytorch_lightning/core/datamodule.py:88: LightningDeprecationWarning: DataModule property `train_transforms` was deprecated in v1.5 and will be removed in v1.7.\n",
      "  rank_zero_deprecation(\n",
      "Global seed set to 0\n"
     ]
    },
    {
     "data": {
      "text/html": [
       "Changes to your `wandb` environment variables will be ignored because your `wandb` session has already started. For more information on how to modify your settings with `wandb.init()` arguments, please refer to <a href=\"https://wandb.me/wandb-init\" target=\"_blank\">the W&B docs</a>."
      ],
      "text/plain": [
       "<IPython.core.display.HTML object>"
      ]
     },
     "metadata": {},
     "output_type": "display_data"
    },
    {
     "data": {
      "text/html": [
       "Tracking run with wandb version 0.12.17"
      ],
      "text/plain": [
       "<IPython.core.display.HTML object>"
      ]
     },
     "metadata": {},
     "output_type": "display_data"
    },
    {
     "data": {
      "text/html": [
       "Run data is saved locally in <code>/nlsasfs/home/diabeticr/dineshm/wandb/run-20220609_053301-cmo3irt2</code>"
      ],
      "text/plain": [
       "<IPython.core.display.HTML object>"
      ]
     },
     "metadata": {},
     "output_type": "display_data"
    },
    {
     "data": {
      "text/html": [
       "Syncing run <strong><a href=\"https://wandb.ai/dineswar_alt/Aptos_/runs/cmo3irt2\" target=\"_blank\">ruby-armadillo-17</a></strong> to <a href=\"https://wandb.ai/dineswar_alt/Aptos_\" target=\"_blank\">Weights & Biases</a> (<a href=\"https://wandb.me/run\" target=\"_blank\">docs</a>)<br/>"
      ],
      "text/plain": [
       "<IPython.core.display.HTML object>"
      ]
     },
     "metadata": {},
     "output_type": "display_data"
    },
    {
     "name": "stderr",
     "output_type": "stream",
     "text": [
      "GPU available: True, used: True\n",
      "TPU available: False, using: 0 TPU cores\n",
      "IPU available: False, using: 0 IPUs\n",
      "HPU available: False, using: 0 HPUs\n",
      "\u001b[34m\u001b[1mwandb\u001b[0m: logging graph, to disable use `wandb.watch(log_graph=False)`\n",
      "GPU available: True, used: True\n",
      "TPU available: False, using: 0 TPU cores\n",
      "IPU available: False, using: 0 IPUs\n",
      "HPU available: False, using: 0 HPUs\n",
      "/nlsasfs/home/diabeticr/dineshm/Conda/envs/pytorch/lib/python3.10/site-packages/pytorch_lightning/callbacks/model_checkpoint.py:611: UserWarning: Checkpoint directory /nlsasfs/home/diabeticr/dineshm/reports exists and is not empty.\n",
      "  rank_zero_warn(f\"Checkpoint directory {dirpath} exists and is not empty.\")\n",
      "LOCAL_RANK: 0 - CUDA_VISIBLE_DEVICES: [0,1,2,3,4,5,6,7]\n",
      "\n",
      "  | Name        | Type       | Params\n",
      "-------------------------------------------\n",
      "0 | accuracy    | Accuracy   | 0     \n",
      "1 | metric      | F1Score    | 0     \n",
      "2 | kappametric | CohenKappa | 0     \n",
      "3 | model       | ModelCE    | 24.6 M\n",
      "-------------------------------------------\n",
      "24.6 M    Trainable params\n",
      "0         Non-trainable params\n",
      "24.6 M    Total params\n",
      "98.259    Total estimated model params size (MB)\n"
     ]
    },
    {
     "data": {
      "application/vnd.jupyter.widget-view+json": {
       "model_id": "",
       "version_major": 2,
       "version_minor": 0
      },
      "text/plain": [
       "Sanity Checking: 0it [00:00, ?it/s]"
      ]
     },
     "metadata": {},
     "output_type": "display_data"
    },
    {
     "name": "stderr",
     "output_type": "stream",
     "text": [
      "/nlsasfs/home/diabeticr/dineshm/Conda/envs/pytorch/lib/python3.10/site-packages/torchmetrics/utilities/prints.py:36: UserWarning: Torchmetrics v0.9 introduced a new argument class property called `full_state_update` that has\n",
      "                not been set for this class (_ResultMetric). The property determines if `update` by\n",
      "                default needs access to the full metric state. If this is not the case, significant speedups can be\n",
      "                achieved and we recommend setting this to `False`.\n",
      "                We provide an checking function\n",
      "                `from torchmetrics.utilities import check_forward_no_full_state`\n",
      "                that can be used to check if the `full_state_update=True` (old and potential slower behaviour,\n",
      "                default for now) or if `full_state_update=False` can be used safely.\n",
      "                \n",
      "  warnings.warn(*args, **kwargs)\n",
      "/nlsasfs/home/diabeticr/dineshm/Conda/envs/pytorch/lib/python3.10/site-packages/pytorch_lightning/trainer/trainer.py:1927: PossibleUserWarning: The number of training batches (42) is smaller than the logging interval Trainer(log_every_n_steps=50). Set a lower value for log_every_n_steps if you want to see logs for the training epoch.\n",
      "  rank_zero_warn(\n"
     ]
    },
    {
     "data": {
      "application/vnd.jupyter.widget-view+json": {
       "model_id": "74bc9c0a84c74b488331610a453fdd16",
       "version_major": 2,
       "version_minor": 0
      },
      "text/plain": [
       "Training: 0it [00:00, ?it/s]"
      ]
     },
     "metadata": {},
     "output_type": "display_data"
    },
    {
     "data": {
      "application/vnd.jupyter.widget-view+json": {
       "model_id": "",
       "version_major": 2,
       "version_minor": 0
      },
      "text/plain": [
       "Validation: 0it [00:00, ?it/s]"
      ]
     },
     "metadata": {},
     "output_type": "display_data"
    },
    {
     "name": "stderr",
     "output_type": "stream",
     "text": [
      "Epoch 0, global step 42: 'val_acc' reached 0.62215 (best 0.62215), saving model to '/nlsasfs/home/diabeticr/dineshm/reports/2022-06-09053301.869695_ce_512_1_0.2_0.0003.ckpt' as top 1\n"
     ]
    },
    {
     "data": {
      "application/vnd.jupyter.widget-view+json": {
       "model_id": "",
       "version_major": 2,
       "version_minor": 0
      },
      "text/plain": [
       "Validation: 0it [00:00, ?it/s]"
      ]
     },
     "metadata": {},
     "output_type": "display_data"
    },
    {
     "name": "stderr",
     "output_type": "stream",
     "text": [
      "Epoch 1, global step 84: 'val_acc' reached 0.63278 (best 0.63278), saving model to '/nlsasfs/home/diabeticr/dineshm/reports/2022-06-09053301.869695_ce_512_1_0.2_0.0003.ckpt' as top 1\n"
     ]
    },
    {
     "data": {
      "application/vnd.jupyter.widget-view+json": {
       "model_id": "",
       "version_major": 2,
       "version_minor": 0
      },
      "text/plain": [
       "Validation: 0it [00:00, ?it/s]"
      ]
     },
     "metadata": {},
     "output_type": "display_data"
    },
    {
     "name": "stderr",
     "output_type": "stream",
     "text": [
      "Epoch 2, global step 126: 'val_acc' reached 0.65554 (best 0.65554), saving model to '/nlsasfs/home/diabeticr/dineshm/reports/2022-06-09053301.869695_ce_512_1_0.2_0.0003.ckpt' as top 1\n"
     ]
    },
    {
     "data": {
      "application/vnd.jupyter.widget-view+json": {
       "model_id": "",
       "version_major": 2,
       "version_minor": 0
      },
      "text/plain": [
       "Validation: 0it [00:00, ?it/s]"
      ]
     },
     "metadata": {},
     "output_type": "display_data"
    },
    {
     "name": "stderr",
     "output_type": "stream",
     "text": [
      "Epoch 3, global step 168: 'val_acc' was not in top 1\n"
     ]
    },
    {
     "data": {
      "application/vnd.jupyter.widget-view+json": {
       "model_id": "",
       "version_major": 2,
       "version_minor": 0
      },
      "text/plain": [
       "Validation: 0it [00:00, ?it/s]"
      ]
     },
     "metadata": {},
     "output_type": "display_data"
    },
    {
     "name": "stderr",
     "output_type": "stream",
     "text": [
      "Epoch 4, global step 210: 'val_acc' reached 0.71927 (best 0.71927), saving model to '/nlsasfs/home/diabeticr/dineshm/reports/2022-06-09053301.869695_ce_512_1_0.2_0.0003.ckpt' as top 1\n"
     ]
    },
    {
     "data": {
      "application/vnd.jupyter.widget-view+json": {
       "model_id": "",
       "version_major": 2,
       "version_minor": 0
      },
      "text/plain": [
       "Validation: 0it [00:00, ?it/s]"
      ]
     },
     "metadata": {},
     "output_type": "display_data"
    },
    {
     "name": "stderr",
     "output_type": "stream",
     "text": [
      "Epoch 5, global step 252: 'val_acc' was not in top 1\n"
     ]
    },
    {
     "data": {
      "application/vnd.jupyter.widget-view+json": {
       "model_id": "",
       "version_major": 2,
       "version_minor": 0
      },
      "text/plain": [
       "Validation: 0it [00:00, ?it/s]"
      ]
     },
     "metadata": {},
     "output_type": "display_data"
    },
    {
     "name": "stderr",
     "output_type": "stream",
     "text": [
      "Epoch 6, global step 294: 'val_acc' was not in top 1\n"
     ]
    },
    {
     "data": {
      "application/vnd.jupyter.widget-view+json": {
       "model_id": "",
       "version_major": 2,
       "version_minor": 0
      },
      "text/plain": [
       "Validation: 0it [00:00, ?it/s]"
      ]
     },
     "metadata": {},
     "output_type": "display_data"
    },
    {
     "name": "stderr",
     "output_type": "stream",
     "text": [
      "Epoch 7, global step 336: 'val_acc' was not in top 1\n"
     ]
    },
    {
     "data": {
      "application/vnd.jupyter.widget-view+json": {
       "model_id": "",
       "version_major": 2,
       "version_minor": 0
      },
      "text/plain": [
       "Validation: 0it [00:00, ?it/s]"
      ]
     },
     "metadata": {},
     "output_type": "display_data"
    },
    {
     "name": "stderr",
     "output_type": "stream",
     "text": [
      "Epoch 8, global step 378: 'val_acc' reached 0.73900 (best 0.73900), saving model to '/nlsasfs/home/diabeticr/dineshm/reports/2022-06-09053301.869695_ce_512_1_0.2_0.0003.ckpt' as top 1\n"
     ]
    },
    {
     "data": {
      "application/vnd.jupyter.widget-view+json": {
       "model_id": "",
       "version_major": 2,
       "version_minor": 0
      },
      "text/plain": [
       "Validation: 0it [00:00, ?it/s]"
      ]
     },
     "metadata": {},
     "output_type": "display_data"
    },
    {
     "name": "stderr",
     "output_type": "stream",
     "text": [
      "Epoch 9, global step 420: 'val_acc' reached 0.75417 (best 0.75417), saving model to '/nlsasfs/home/diabeticr/dineshm/reports/2022-06-09053301.869695_ce_512_1_0.2_0.0003.ckpt' as top 1\n"
     ]
    },
    {
     "data": {
      "application/vnd.jupyter.widget-view+json": {
       "model_id": "",
       "version_major": 2,
       "version_minor": 0
      },
      "text/plain": [
       "Validation: 0it [00:00, ?it/s]"
      ]
     },
     "metadata": {},
     "output_type": "display_data"
    },
    {
     "name": "stderr",
     "output_type": "stream",
     "text": [
      "Epoch 10, global step 462: 'val_acc' reached 0.76935 (best 0.76935), saving model to '/nlsasfs/home/diabeticr/dineshm/reports/2022-06-09053301.869695_ce_512_1_0.2_0.0003.ckpt' as top 1\n"
     ]
    },
    {
     "data": {
      "application/vnd.jupyter.widget-view+json": {
       "model_id": "",
       "version_major": 2,
       "version_minor": 0
      },
      "text/plain": [
       "Validation: 0it [00:00, ?it/s]"
      ]
     },
     "metadata": {},
     "output_type": "display_data"
    },
    {
     "name": "stderr",
     "output_type": "stream",
     "text": [
      "Epoch 11, global step 504: 'val_acc' was not in top 1\n"
     ]
    },
    {
     "data": {
      "application/vnd.jupyter.widget-view+json": {
       "model_id": "",
       "version_major": 2,
       "version_minor": 0
      },
      "text/plain": [
       "Validation: 0it [00:00, ?it/s]"
      ]
     },
     "metadata": {},
     "output_type": "display_data"
    },
    {
     "name": "stderr",
     "output_type": "stream",
     "text": [
      "Epoch 12, global step 546: 'val_acc' was not in top 1\n"
     ]
    },
    {
     "data": {
      "application/vnd.jupyter.widget-view+json": {
       "model_id": "",
       "version_major": 2,
       "version_minor": 0
      },
      "text/plain": [
       "Validation: 0it [00:00, ?it/s]"
      ]
     },
     "metadata": {},
     "output_type": "display_data"
    },
    {
     "name": "stderr",
     "output_type": "stream",
     "text": [
      "Epoch 13, global step 588: 'val_acc' was not in top 1\n"
     ]
    },
    {
     "data": {
      "application/vnd.jupyter.widget-view+json": {
       "model_id": "",
       "version_major": 2,
       "version_minor": 0
      },
      "text/plain": [
       "Validation: 0it [00:00, ?it/s]"
      ]
     },
     "metadata": {},
     "output_type": "display_data"
    },
    {
     "name": "stderr",
     "output_type": "stream",
     "text": [
      "Epoch 14, global step 630: 'val_acc' was not in top 1\n"
     ]
    },
    {
     "data": {
      "application/vnd.jupyter.widget-view+json": {
       "model_id": "",
       "version_major": 2,
       "version_minor": 0
      },
      "text/plain": [
       "Validation: 0it [00:00, ?it/s]"
      ]
     },
     "metadata": {},
     "output_type": "display_data"
    },
    {
     "name": "stderr",
     "output_type": "stream",
     "text": [
      "Epoch 15, global step 672: 'val_acc' was not in top 1\n"
     ]
    },
    {
     "data": {
      "application/vnd.jupyter.widget-view+json": {
       "model_id": "",
       "version_major": 2,
       "version_minor": 0
      },
      "text/plain": [
       "Validation: 0it [00:00, ?it/s]"
      ]
     },
     "metadata": {},
     "output_type": "display_data"
    },
    {
     "name": "stderr",
     "output_type": "stream",
     "text": [
      "Epoch 16, global step 714: 'val_acc' was not in top 1\n"
     ]
    },
    {
     "data": {
      "application/vnd.jupyter.widget-view+json": {
       "model_id": "",
       "version_major": 2,
       "version_minor": 0
      },
      "text/plain": [
       "Validation: 0it [00:00, ?it/s]"
      ]
     },
     "metadata": {},
     "output_type": "display_data"
    },
    {
     "name": "stderr",
     "output_type": "stream",
     "text": [
      "Epoch 17, global step 756: 'val_acc' was not in top 1\n"
     ]
    },
    {
     "data": {
      "application/vnd.jupyter.widget-view+json": {
       "model_id": "",
       "version_major": 2,
       "version_minor": 0
      },
      "text/plain": [
       "Validation: 0it [00:00, ?it/s]"
      ]
     },
     "metadata": {},
     "output_type": "display_data"
    },
    {
     "name": "stderr",
     "output_type": "stream",
     "text": [
      "Epoch 18, global step 798: 'val_acc' reached 0.78300 (best 0.78300), saving model to '/nlsasfs/home/diabeticr/dineshm/reports/2022-06-09053301.869695_ce_512_1_0.2_0.0003.ckpt' as top 1\n"
     ]
    },
    {
     "data": {
      "application/vnd.jupyter.widget-view+json": {
       "model_id": "",
       "version_major": 2,
       "version_minor": 0
      },
      "text/plain": [
       "Validation: 0it [00:00, ?it/s]"
      ]
     },
     "metadata": {},
     "output_type": "display_data"
    },
    {
     "name": "stderr",
     "output_type": "stream",
     "text": [
      "Epoch 19, global step 840: 'val_acc' reached 0.80121 (best 0.80121), saving model to '/nlsasfs/home/diabeticr/dineshm/reports/2022-06-09053301.869695_ce_512_1_0.2_0.0003.ckpt' as top 1\n"
     ]
    },
    {
     "data": {
      "application/vnd.jupyter.widget-view+json": {
       "model_id": "",
       "version_major": 2,
       "version_minor": 0
      },
      "text/plain": [
       "Validation: 0it [00:00, ?it/s]"
      ]
     },
     "metadata": {},
     "output_type": "display_data"
    },
    {
     "name": "stderr",
     "output_type": "stream",
     "text": [
      "Epoch 20, global step 882: 'val_acc' was not in top 1\n"
     ]
    },
    {
     "data": {
      "application/vnd.jupyter.widget-view+json": {
       "model_id": "",
       "version_major": 2,
       "version_minor": 0
      },
      "text/plain": [
       "Validation: 0it [00:00, ?it/s]"
      ]
     },
     "metadata": {},
     "output_type": "display_data"
    },
    {
     "name": "stderr",
     "output_type": "stream",
     "text": [
      "Epoch 21, global step 924: 'val_acc' was not in top 1\n"
     ]
    },
    {
     "data": {
      "application/vnd.jupyter.widget-view+json": {
       "model_id": "",
       "version_major": 2,
       "version_minor": 0
      },
      "text/plain": [
       "Validation: 0it [00:00, ?it/s]"
      ]
     },
     "metadata": {},
     "output_type": "display_data"
    },
    {
     "name": "stderr",
     "output_type": "stream",
     "text": [
      "Epoch 22, global step 966: 'val_acc' was not in top 1\n"
     ]
    },
    {
     "data": {
      "application/vnd.jupyter.widget-view+json": {
       "model_id": "",
       "version_major": 2,
       "version_minor": 0
      },
      "text/plain": [
       "Validation: 0it [00:00, ?it/s]"
      ]
     },
     "metadata": {},
     "output_type": "display_data"
    },
    {
     "name": "stderr",
     "output_type": "stream",
     "text": [
      "Epoch 23, global step 1008: 'val_acc' was not in top 1\n"
     ]
    },
    {
     "data": {
      "application/vnd.jupyter.widget-view+json": {
       "model_id": "",
       "version_major": 2,
       "version_minor": 0
      },
      "text/plain": [
       "Validation: 0it [00:00, ?it/s]"
      ]
     },
     "metadata": {},
     "output_type": "display_data"
    },
    {
     "name": "stderr",
     "output_type": "stream",
     "text": [
      "Epoch 24, global step 1050: 'val_acc' was not in top 1\n"
     ]
    },
    {
     "data": {
      "application/vnd.jupyter.widget-view+json": {
       "model_id": "",
       "version_major": 2,
       "version_minor": 0
      },
      "text/plain": [
       "Validation: 0it [00:00, ?it/s]"
      ]
     },
     "metadata": {},
     "output_type": "display_data"
    },
    {
     "name": "stderr",
     "output_type": "stream",
     "text": [
      "Epoch 25, global step 1092: 'val_acc' was not in top 1\n"
     ]
    },
    {
     "data": {
      "application/vnd.jupyter.widget-view+json": {
       "model_id": "",
       "version_major": 2,
       "version_minor": 0
      },
      "text/plain": [
       "Validation: 0it [00:00, ?it/s]"
      ]
     },
     "metadata": {},
     "output_type": "display_data"
    },
    {
     "name": "stderr",
     "output_type": "stream",
     "text": [
      "Epoch 26, global step 1134: 'val_acc' was not in top 1\n"
     ]
    },
    {
     "data": {
      "application/vnd.jupyter.widget-view+json": {
       "model_id": "",
       "version_major": 2,
       "version_minor": 0
      },
      "text/plain": [
       "Validation: 0it [00:00, ?it/s]"
      ]
     },
     "metadata": {},
     "output_type": "display_data"
    },
    {
     "name": "stderr",
     "output_type": "stream",
     "text": [
      "Epoch 27, global step 1176: 'val_acc' was not in top 1\n"
     ]
    },
    {
     "data": {
      "application/vnd.jupyter.widget-view+json": {
       "model_id": "",
       "version_major": 2,
       "version_minor": 0
      },
      "text/plain": [
       "Validation: 0it [00:00, ?it/s]"
      ]
     },
     "metadata": {},
     "output_type": "display_data"
    },
    {
     "name": "stderr",
     "output_type": "stream",
     "text": [
      "Epoch 28, global step 1218: 'val_acc' was not in top 1\n"
     ]
    },
    {
     "data": {
      "application/vnd.jupyter.widget-view+json": {
       "model_id": "",
       "version_major": 2,
       "version_minor": 0
      },
      "text/plain": [
       "Validation: 0it [00:00, ?it/s]"
      ]
     },
     "metadata": {},
     "output_type": "display_data"
    },
    {
     "name": "stderr",
     "output_type": "stream",
     "text": [
      "Epoch 29, global step 1260: 'val_acc' was not in top 1\n"
     ]
    },
    {
     "data": {
      "application/vnd.jupyter.widget-view+json": {
       "model_id": "",
       "version_major": 2,
       "version_minor": 0
      },
      "text/plain": [
       "Validation: 0it [00:00, ?it/s]"
      ]
     },
     "metadata": {},
     "output_type": "display_data"
    },
    {
     "name": "stderr",
     "output_type": "stream",
     "text": [
      "Epoch 30, global step 1302: 'val_acc' was not in top 1\n"
     ]
    },
    {
     "data": {
      "application/vnd.jupyter.widget-view+json": {
       "model_id": "",
       "version_major": 2,
       "version_minor": 0
      },
      "text/plain": [
       "Validation: 0it [00:00, ?it/s]"
      ]
     },
     "metadata": {},
     "output_type": "display_data"
    },
    {
     "name": "stderr",
     "output_type": "stream",
     "text": [
      "Epoch 31, global step 1344: 'val_acc' was not in top 1\n"
     ]
    },
    {
     "data": {
      "application/vnd.jupyter.widget-view+json": {
       "model_id": "",
       "version_major": 2,
       "version_minor": 0
      },
      "text/plain": [
       "Validation: 0it [00:00, ?it/s]"
      ]
     },
     "metadata": {},
     "output_type": "display_data"
    },
    {
     "name": "stderr",
     "output_type": "stream",
     "text": [
      "Epoch 32, global step 1386: 'val_acc' was not in top 1\n"
     ]
    },
    {
     "data": {
      "application/vnd.jupyter.widget-view+json": {
       "model_id": "",
       "version_major": 2,
       "version_minor": 0
      },
      "text/plain": [
       "Validation: 0it [00:00, ?it/s]"
      ]
     },
     "metadata": {},
     "output_type": "display_data"
    },
    {
     "name": "stderr",
     "output_type": "stream",
     "text": [
      "Epoch 33, global step 1428: 'val_acc' was not in top 1\n"
     ]
    },
    {
     "data": {
      "application/vnd.jupyter.widget-view+json": {
       "model_id": "",
       "version_major": 2,
       "version_minor": 0
      },
      "text/plain": [
       "Validation: 0it [00:00, ?it/s]"
      ]
     },
     "metadata": {},
     "output_type": "display_data"
    },
    {
     "name": "stderr",
     "output_type": "stream",
     "text": [
      "Epoch 34, global step 1470: 'val_acc' was not in top 1\n"
     ]
    },
    {
     "data": {
      "application/vnd.jupyter.widget-view+json": {
       "model_id": "",
       "version_major": 2,
       "version_minor": 0
      },
      "text/plain": [
       "Validation: 0it [00:00, ?it/s]"
      ]
     },
     "metadata": {},
     "output_type": "display_data"
    },
    {
     "name": "stderr",
     "output_type": "stream",
     "text": [
      "Epoch 35, global step 1512: 'val_acc' was not in top 1\n"
     ]
    },
    {
     "data": {
      "application/vnd.jupyter.widget-view+json": {
       "model_id": "",
       "version_major": 2,
       "version_minor": 0
      },
      "text/plain": [
       "Validation: 0it [00:00, ?it/s]"
      ]
     },
     "metadata": {},
     "output_type": "display_data"
    },
    {
     "name": "stderr",
     "output_type": "stream",
     "text": [
      "Epoch 36, global step 1554: 'val_acc' was not in top 1\n"
     ]
    },
    {
     "data": {
      "application/vnd.jupyter.widget-view+json": {
       "model_id": "",
       "version_major": 2,
       "version_minor": 0
      },
      "text/plain": [
       "Validation: 0it [00:00, ?it/s]"
      ]
     },
     "metadata": {},
     "output_type": "display_data"
    },
    {
     "name": "stderr",
     "output_type": "stream",
     "text": [
      "Epoch 37, global step 1596: 'val_acc' was not in top 1\n"
     ]
    },
    {
     "data": {
      "application/vnd.jupyter.widget-view+json": {
       "model_id": "",
       "version_major": 2,
       "version_minor": 0
      },
      "text/plain": [
       "Validation: 0it [00:00, ?it/s]"
      ]
     },
     "metadata": {},
     "output_type": "display_data"
    },
    {
     "name": "stderr",
     "output_type": "stream",
     "text": [
      "Epoch 38, global step 1638: 'val_acc' was not in top 1\n"
     ]
    },
    {
     "data": {
      "application/vnd.jupyter.widget-view+json": {
       "model_id": "",
       "version_major": 2,
       "version_minor": 0
      },
      "text/plain": [
       "Validation: 0it [00:00, ?it/s]"
      ]
     },
     "metadata": {},
     "output_type": "display_data"
    },
    {
     "name": "stderr",
     "output_type": "stream",
     "text": [
      "Epoch 39, global step 1680: 'val_acc' was not in top 1\n"
     ]
    },
    {
     "name": "stdout",
     "output_type": "stream",
     "text": [
      "./reports/2022-06-09053301.869695_ce_512_1_0.2_0.0003\n"
     ]
    },
    {
     "name": "stderr",
     "output_type": "stream",
     "text": [
      "LOCAL_RANK: 0 - CUDA_VISIBLE_DEVICES: [0,1,2,3,4,5,6,7]\n"
     ]
    },
    {
     "data": {
      "application/vnd.jupyter.widget-view+json": {
       "model_id": "9b66e6e69deb40c9bb6edd9525829dc7",
       "version_major": 2,
       "version_minor": 0
      },
      "text/plain": [
       "Testing: 0it [00:00, ?it/s]"
      ]
     },
     "metadata": {},
     "output_type": "display_data"
    },
    {
     "name": "stdout",
     "output_type": "stream",
     "text": [
      "────────────────────────────────────────────────────────────────────────────────────────────────────────────────────────\n",
      "       Test metric             DataLoader 0\n",
      "────────────────────────────────────────────────────────────────────────────────────────────────────────────────────────\n",
      "      test_F1_score         0.6163143515586853\n",
      "      test_accuracy         0.7874659299850464\n",
      "       test_kappa           0.6789159774780273\n",
      "        test_loss           0.5929625630378723\n",
      "────────────────────────────────────────────────────────────────────────────────────────────────────────────────────────\n"
     ]
    },
    {
     "name": "stderr",
     "output_type": "stream",
     "text": [
      "100%|███████████████████████████████████████████████████████████████████████████████████████████████████████████████████████████████████████████████████████████████████████| 367/367 [00:31<00:00, 11.68it/s]\n",
      "100%|███████████████████████████████████████████████████████████████████████████████████████████████████████████████████████████████████████████████████████████████████████| 659/659 [00:41<00:00, 15.75it/s]\n"
     ]
    },
    {
     "data": {
      "image/png": "[encoded data removed]",
      "text/plain": [
       "<Figure size 432x288 with 1 Axes>"
      ]
     },
     "metadata": {
      "needs_background": "light"
     },
     "output_type": "display_data"
    },
    {
     "data": {
      "image/png": "[encoded data removed]",
      "text/plain": [
       "<Figure size 432x288 with 1 Axes>"
      ]
     },
     "metadata": {
      "needs_background": "light"
     },
     "output_type": "display_data"
    },
    {
     "data": {
      "text/html": [
       "Waiting for W&B process to finish... <strong style=\"color:green\">(success).</strong>"
      ],
      "text/plain": [
       "<IPython.core.display.HTML object>"
      ]
     },
     "metadata": {},
     "output_type": "display_data"
    },
    {
     "data": {
      "application/vnd.jupyter.widget-view+json": {
       "model_id": "",
       "version_major": 2,
       "version_minor": 0
      },
      "text/plain": [
       "VBox(children=(Label(value='0.021 MB of 0.021 MB uploaded (0.000 MB deduped)\\r'), FloatProgress(value=1.0, max…"
      ]
     },
     "metadata": {},
     "output_type": "display_data"
    },
    {
     "data": {
      "text/html": [
       "<style>\n",
       "    table.wandb td:nth-child(1) { padding: 0 10px; text-align: left ; width: auto;} td:nth-child(2) {text-align: left ; width: 100%}\n",
       "    .wandb-row { display: flex; flex-direction: row; flex-wrap: wrap; justify-content: flex-start; width: 100% }\n",
       "    .wandb-col { display: flex; flex-direction: column; flex-basis: 100%; flex: 1; padding: 10px; }\n",
       "    </style>\n",
       "<div class=\"wandb-row\"><div class=\"wandb-col\"><h3>Run history:</h3><br/><table class=\"wandb\"><tr><td>epoch</td><td>▁▁▁▂▂▂▂▂▂▃▃▃▃▃▃▄▄▄▄▅▅▅▅▅▅▆▆▆▆▆▆▇▇▇▇▇▇███</td></tr><tr><td>test_F1_score</td><td>▁</td></tr><tr><td>test_accuracy</td><td>▁</td></tr><tr><td>test_kappa</td><td>▁</td></tr><tr><td>test_loss</td><td>▁</td></tr><tr><td>train_acc_epoch</td><td>▁▃▃▃▄▄▄▅▅▅▅▅▆▆▆▆▆▆▇▆▇▇▇▇▇▇██████████████</td></tr><tr><td>train_acc_step</td><td>▁▃▃▄▃▄▄▅▅▄▄▅▆▅▄▅▅▆▆▅▅█▆▇▆▇▆▇▇█▅█▆</td></tr><tr><td>train_kappa_epoch</td><td>▁▃▃▃▄▄▄▅▅▅▅▅▆▆▆▆▆▆▇▆▇▇▇▇▇▇██████████████</td></tr><tr><td>train_kappa_step</td><td>▁▃▃▄▂▄▄▅▅▄▄▅▆▅▄▅▅▆▆▅▅█▆▇▆▇▆▇▇█▅█▆</td></tr><tr><td>train_loss_epoch</td><td>█▇▆▆▅▅▅▄▄▄▄▃▃▄▃▃▃▃▂▂▂▂▂▂▂▂▂▁▁▁▁▁▁▁▁▁▁▁▁▁</td></tr><tr><td>train_loss_step</td><td>█▆▅▅▇▄▄▄▄▄▅▄▃▃▄▃▃▂▂▃▂▁▃▁▂▂▁▁▁▁▃▁▂</td></tr><tr><td>trainer/global_step</td><td>▁▁▁▁▂▂▂▂▂▃▃▃▃▃▄▄▄▄▄▄▅▅▅▅▅▅▆▆▆▆▆▇▇▇▇▇▇███</td></tr><tr><td>val_acc</td><td>▁▁▂▂▅▄▄▅▆▆▇▅▅▅▅▄▆▆▇█▇▇▆▆▇▇▇▇▇▇▇▇▇▇█▇▇▇▇▇</td></tr><tr><td>val_kappa</td><td>▁▂▃▂▅▄▅▅▆▆▇▅▅▅▅▅▇▆▇█▇▇▇▇▇▇▇▇▇▇▇▇▇▇█▇▇▇▇▇</td></tr><tr><td>val_loss</td><td>▇▇██▄▅▄▄▃▂▂▃▃▃▄▄▂▂▁▁▂▁▂▂▁▁▂▁▂▂▂▂▁▂▁▁▂▂▂▂</td></tr><tr><td>valid_F1_score</td><td>▁▂▃▃▅▅▅▅▆▆▇▅▅▅▅▄▇▆▇█▇▇▇▇▇▇▇▇▇▇▇▇█▇▇▇▆▇▇▆</td></tr></table><br/></div><div class=\"wandb-col\"><h3>Run summary:</h3><br/><table class=\"wandb\"><tr><td>epoch</td><td>40</td></tr><tr><td>test_F1_score</td><td>0.61631</td></tr><tr><td>test_accuracy</td><td>0.78747</td></tr><tr><td>test_kappa</td><td>0.67892</td></tr><tr><td>test_loss</td><td>0.59296</td></tr><tr><td>train_acc_epoch</td><td>0.76783</td></tr><tr><td>train_acc_step</td><td>0.75</td></tr><tr><td>train_kappa_epoch</td><td>0.70767</td></tr><tr><td>train_kappa_step</td><td>0.68512</td></tr><tr><td>train_loss_epoch</td><td>0.60061</td></tr><tr><td>train_loss_step</td><td>0.53415</td></tr><tr><td>trainer/global_step</td><td>1680</td></tr><tr><td>val_acc</td><td>0.76631</td></tr><tr><td>val_kappa</td><td>0.63734</td></tr><tr><td>val_loss</td><td>0.63771</td></tr><tr><td>valid_F1_score</td><td>0.59034</td></tr></table><br/></div></div>"
      ],
      "text/plain": [
       "<IPython.core.display.HTML object>"
      ]
     },
     "metadata": {},
     "output_type": "display_data"
    },
    {
     "data": {
      "text/html": [
       "Synced <strong style=\"color:#cdcd00\">ruby-armadillo-17</strong>: <a href=\"https://wandb.ai/dineswar_alt/Aptos_/runs/cmo3irt2\" target=\"_blank\">https://wandb.ai/dineswar_alt/Aptos_/runs/cmo3irt2</a><br/>Synced 6 W&B file(s), 1 media file(s), 0 artifact file(s) and 0 other file(s)"
      ],
      "text/plain": [
       "<IPython.core.display.HTML object>"
      ]
     },
     "metadata": {},
     "output_type": "display_data"
    },
    {
     "data": {
      "text/html": [
       "Find logs at: <code>./wandb/run-20220609_053301-cmo3irt2/logs</code>"
      ],
      "text/plain": [
       "<IPython.core.display.HTML object>"
      ]
     },
     "metadata": {},
     "output_type": "display_data"
    },
    {
     "name": "stdout",
     "output_type": "stream",
     "text": [
      "[0 1 3 4 0 0 0 4 2 2 0 0 2 2 2 0 0 0 0 0 0 0 4 1 1 2 2 1 1 0 2 2 0 0 0 4 0\n",
      " 0 2 0 4 4 0 1 2 4 0 3 0 2 0 2 0 3 0 2 0 0 2 2 4 3 2 0 2 0 0 0 0 0 1 0 2 2\n",
      " 2 0 0 0 2 0 0 0 2 1 2 2 0 2 0 0 4 0 0 4 2 0 3 4 0 0 0 3 0 2 0 2 0 2 0 1 2\n",
      " 4 2 2 0 2 1 2 0 0 0 2 1 2 2 0 0 0 2 2 0 4 0 0 0 2 0 0 0 0 2 4 1 2 1 2 2 0\n",
      " 3 4 0 0 0 0 0 0 0 3 2 0 0 0 0 1 0 0 0 0 2 0 0 4 0 2 0 2 0 0 2 0 0 0 3 2 0\n",
      " 0 0 0 0 0 2 3 0 2 2 4 3 3 4 4 4 0 0 2 0 3 1 0 2 1 2 0 2 0 2 2 0 0 2 0 3 2\n",
      " 0 2 0 1 1 0 2 0 2 2 0 4 0 2 0 4 2 2 0 0 2 0 2 1 1 0 2 0 2 0 2 1 4 3 1 0 0\n",
      " 0 0 0 2 0 1 4 0 2 2 2 1 0 0 0 2 0 0 0 3 4 0 2 4 1 0 3 2 0 0 2 1 0 2 0 1 0\n",
      " 2 2 2 1 2 3 1 4 0 2 0 0 0 2 0 0 4 0 0 0 1 2 0 2 0 1 2 0 2 0 2 2 0 1 4 0 2\n",
      " 0 2 4 0 0 2 2 2 2 0 1 0 0 2 0 0 2 2 0 0 0 1 0 0 2 2 0 0 4 4 0 4 2 2]\n",
      "[0 2 0 2 2 0 0 0 1 0 0 2 2 0 2 0 4 0 1 2 0 0 0 2 4 4 0 2 0 0 2 0 0 0 2 1 2\n",
      " 0 1 1 0 0 0 3 0 1 1 2 2 3 2 0 2 3 2 2 0 1 4 0 2 0 1 1 2 2 3 0 1 0 0 0 2 0\n",
      " 0 0 2 0 2 0 4 2 0 2 0 0 0 0 3 4 2 0 0 0 2 4 0 2 0 0 0 2 2 0 2 0 0 0 2 0 0\n",
      " 0 3 3 0 0 4 2 0 2 2 0 0 1 0 2 2 3 0 3 3 0 1 0 4 2 4 2 2 0 0 0 0 0 0 0 4 1\n",
      " 2 1 0 0 1 0 2 0 0 4 0 0 0 0 1 0 4 4 1 0 3 4 2 2 0 0 2 4 0 2 4 0 1 2 0 4 0\n",
      " 2 0 0 0 0 2 4 1 0 0 3 4 0 2 0 0 0 2 4 0 4 0 0 2 1 0 3 0 2 0 0 0 4 0 2 2 1\n",
      " 0 2 0 0 0 0 0 0 0 0 0 1 3 2 2 0 2 2 0 3 3 1 4 0 2 2 2 4 4 0 0 1 4 2 3 2 3\n",
      " 0 0 0 2 0 2 0 1 0 0 0 0 2 0 2 0 2 1 0 2 3 0 1 1 4 0 0 2 2 2 3 2 2 4 0 4 0\n",
      " 1 0 0 2 0 0 2 0 0 3 0 0 0 1 0 0 0 0 0 0 2 3 3 2 4 2 2 4 0 2 0 1 0 0 0 1 0\n",
      " 0 0 0 0 0 0 0 0 2 2 0 2 2 4 1 0 0 4 2 4 2 2 0 0 2 1 0 2 2 0 0 1 4 2 0 0 2\n",
      " 0 2 2 0 0 0 2 0 1 2 0 1 3 0 2 2 0 0 2 2 0 0 0 2 0 0 0 0 0 1 0 0 1 0 1 0 0\n",
      " 2 1 2 0 0 0 2 1 0 0 0 0 0 1 2 0 0 0 2 0 2 2 1 0 0 0 0 2 2 2 0 3 0 3 0 1 0\n",
      " 1 0 2 0 0 2 0 0 2 0 1 0 0 2 2 0 0 2 2 2 0 0 4 0 1 2 2 0 0 4 2 2 0 1 2 2 0\n",
      " 1 0 0 2 2 2 4 3 0 4 0 3 2 2 0 0 1 2 0 2 2 2 2 0 0 0 0 2 2 0 0 1 0 0 2 4 0\n",
      " 0 0 2 2 0 0 2 0 1 3 3 0 0 2 2 0 2 2 3 2 0 0 4 1 0 0 1 0 0 2 0 0 2 0 0 2 0\n",
      " 0 2 4 2 0 1 0 2 1 2 0 2 0 0 2 0 0 2 0 0 0 0 2 2 2 0 2 1 2 2 2 4 2 0 0 0 1\n",
      " 0 4 2 0 4 0 3 0 0 0 4 1 2 2 0 1 4 0 2 0 1 3 0 2 0 0 2 0 0 4 0 1 1 0 2 2 0\n",
      " 0 0 2 0 0 0 2 0 0 0 1 0 0 4 4 1 4 0 2 3 0 3 0 0 0 0 0 0 0 0]\n",
      "Fold 1\n"
     ]
    },
    {
     "name": "stderr",
     "output_type": "stream",
     "text": [
      "100%|█████████████████████████████████████████████████████████████████████████████████████████████████████████████████████████████████████████████████████████████████████| 2636/2636 [03:42<00:00, 11.83it/s]\n",
      "Global seed set to 1\n"
     ]
    },
    {
     "data": {
      "text/html": [
       "Changes to your `wandb` environment variables will be ignored because your `wandb` session has already started. For more information on how to modify your settings with `wandb.init()` arguments, please refer to <a href=\"https://wandb.me/wandb-init\" target=\"_blank\">the W&B docs</a>."
      ],
      "text/plain": [
       "<IPython.core.display.HTML object>"
      ]
     },
     "metadata": {},
     "output_type": "display_data"
    },
    {
     "data": {
      "text/html": [
       "Tracking run with wandb version 0.12.17"
      ],
      "text/plain": [
       "<IPython.core.display.HTML object>"
      ]
     },
     "metadata": {},
     "output_type": "display_data"
    },
    {
     "data": {
      "text/html": [
       "Run data is saved locally in <code>/nlsasfs/home/diabeticr/dineshm/wandb/run-20220609_061825-3elojdyv</code>"
      ],
      "text/plain": [
       "<IPython.core.display.HTML object>"
      ]
     },
     "metadata": {},
     "output_type": "display_data"
    },
    {
     "data": {
      "text/html": [
       "Syncing run <strong><a href=\"https://wandb.ai/dineswar_alt/Aptos_/runs/3elojdyv\" target=\"_blank\">proud-resonance-18</a></strong> to <a href=\"https://wandb.ai/dineswar_alt/Aptos_\" target=\"_blank\">Weights & Biases</a> (<a href=\"https://wandb.me/run\" target=\"_blank\">docs</a>)<br/>"
      ],
      "text/plain": [
       "<IPython.core.display.HTML object>"
      ]
     },
     "metadata": {},
     "output_type": "display_data"
    },
    {
     "name": "stderr",
     "output_type": "stream",
     "text": [
      "GPU available: True, used: True\n",
      "TPU available: False, using: 0 TPU cores\n",
      "IPU available: False, using: 0 IPUs\n",
      "HPU available: False, using: 0 HPUs\n",
      "\u001b[34m\u001b[1mwandb\u001b[0m: logging graph, to disable use `wandb.watch(log_graph=False)`\n",
      "GPU available: True, used: True\n",
      "TPU available: False, using: 0 TPU cores\n",
      "IPU available: False, using: 0 IPUs\n",
      "HPU available: False, using: 0 HPUs\n",
      "LOCAL_RANK: 0 - CUDA_VISIBLE_DEVICES: [0,1,2,3,4,5,6,7]\n",
      "\n",
      "  | Name        | Type       | Params\n",
      "-------------------------------------------\n",
      "0 | accuracy    | Accuracy   | 0     \n",
      "1 | metric      | F1Score    | 0     \n",
      "2 | kappametric | CohenKappa | 0     \n",
      "3 | model       | ModelCE    | 24.6 M\n",
      "-------------------------------------------\n",
      "24.6 M    Trainable params\n",
      "0         Non-trainable params\n",
      "24.6 M    Total params\n",
      "98.259    Total estimated model params size (MB)\n"
     ]
    },
    {
     "data": {
      "application/vnd.jupyter.widget-view+json": {
       "model_id": "",
       "version_major": 2,
       "version_minor": 0
      },
      "text/plain": [
       "Sanity Checking: 0it [00:00, ?it/s]"
      ]
     },
     "metadata": {},
     "output_type": "display_data"
    },
    {
     "data": {
      "application/vnd.jupyter.widget-view+json": {
       "model_id": "c7aa552eed3340e382ad4b5515979b3c",
       "version_major": 2,
       "version_minor": 0
      },
      "text/plain": [
       "Training: 0it [00:00, ?it/s]"
      ]
     },
     "metadata": {},
     "output_type": "display_data"
    },
    {
     "data": {
      "application/vnd.jupyter.widget-view+json": {
       "model_id": "",
       "version_major": 2,
       "version_minor": 0
      },
      "text/plain": [
       "Validation: 0it [00:00, ?it/s]"
      ]
     },
     "metadata": {},
     "output_type": "display_data"
    },
    {
     "name": "stderr",
     "output_type": "stream",
     "text": [
      "Epoch 0, global step 42: 'val_acc' reached 0.61457 (best 0.61457), saving model to '/nlsasfs/home/diabeticr/dineshm/reports/2022-06-09061825.754492_ce_512_1_0.2_0.0003.ckpt' as top 1\n"
     ]
    },
    {
     "data": {
      "application/vnd.jupyter.widget-view+json": {
       "model_id": "",
       "version_major": 2,
       "version_minor": 0
      },
      "text/plain": [
       "Validation: 0it [00:00, ?it/s]"
      ]
     },
     "metadata": {},
     "output_type": "display_data"
    },
    {
     "name": "stderr",
     "output_type": "stream",
     "text": [
      "Epoch 1, global step 84: 'val_acc' reached 0.64492 (best 0.64492), saving model to '/nlsasfs/home/diabeticr/dineshm/reports/2022-06-09061825.754492_ce_512_1_0.2_0.0003.ckpt' as top 1\n"
     ]
    },
    {
     "data": {
      "application/vnd.jupyter.widget-view+json": {
       "model_id": "",
       "version_major": 2,
       "version_minor": 0
      },
      "text/plain": [
       "Validation: 0it [00:00, ?it/s]"
      ]
     },
     "metadata": {},
     "output_type": "display_data"
    },
    {
     "name": "stderr",
     "output_type": "stream",
     "text": [
      "Epoch 2, global step 126: 'val_acc' reached 0.68285 (best 0.68285), saving model to '/nlsasfs/home/diabeticr/dineshm/reports/2022-06-09061825.754492_ce_512_1_0.2_0.0003.ckpt' as top 1\n"
     ]
    },
    {
     "data": {
      "application/vnd.jupyter.widget-view+json": {
       "model_id": "",
       "version_major": 2,
       "version_minor": 0
      },
      "text/plain": [
       "Validation: 0it [00:00, ?it/s]"
      ]
     },
     "metadata": {},
     "output_type": "display_data"
    },
    {
     "name": "stderr",
     "output_type": "stream",
     "text": [
      "Epoch 3, global step 168: 'val_acc' was not in top 1\n"
     ]
    },
    {
     "data": {
      "application/vnd.jupyter.widget-view+json": {
       "model_id": "",
       "version_major": 2,
       "version_minor": 0
      },
      "text/plain": [
       "Validation: 0it [00:00, ?it/s]"
      ]
     },
     "metadata": {},
     "output_type": "display_data"
    },
    {
     "name": "stderr",
     "output_type": "stream",
     "text": [
      "Epoch 4, global step 210: 'val_acc' reached 0.71017 (best 0.71017), saving model to '/nlsasfs/home/diabeticr/dineshm/reports/2022-06-09061825.754492_ce_512_1_0.2_0.0003.ckpt' as top 1\n"
     ]
    },
    {
     "data": {
      "application/vnd.jupyter.widget-view+json": {
       "model_id": "",
       "version_major": 2,
       "version_minor": 0
      },
      "text/plain": [
       "Validation: 0it [00:00, ?it/s]"
      ]
     },
     "metadata": {},
     "output_type": "display_data"
    },
    {
     "name": "stderr",
     "output_type": "stream",
     "text": [
      "Epoch 5, global step 252: 'val_acc' reached 0.71320 (best 0.71320), saving model to '/nlsasfs/home/diabeticr/dineshm/reports/2022-06-09061825.754492_ce_512_1_0.2_0.0003.ckpt' as top 1\n"
     ]
    },
    {
     "data": {
      "application/vnd.jupyter.widget-view+json": {
       "model_id": "",
       "version_major": 2,
       "version_minor": 0
      },
      "text/plain": [
       "Validation: 0it [00:00, ?it/s]"
      ]
     },
     "metadata": {},
     "output_type": "display_data"
    },
    {
     "name": "stderr",
     "output_type": "stream",
     "text": [
      "Epoch 6, global step 294: 'val_acc' reached 0.74203 (best 0.74203), saving model to '/nlsasfs/home/diabeticr/dineshm/reports/2022-06-09061825.754492_ce_512_1_0.2_0.0003.ckpt' as top 1\n"
     ]
    },
    {
     "data": {
      "application/vnd.jupyter.widget-view+json": {
       "model_id": "",
       "version_major": 2,
       "version_minor": 0
      },
      "text/plain": [
       "Validation: 0it [00:00, ?it/s]"
      ]
     },
     "metadata": {},
     "output_type": "display_data"
    },
    {
     "name": "stderr",
     "output_type": "stream",
     "text": [
      "Epoch 7, global step 336: 'val_acc' reached 0.74810 (best 0.74810), saving model to '/nlsasfs/home/diabeticr/dineshm/reports/2022-06-09061825.754492_ce_512_1_0.2_0.0003.ckpt' as top 1\n"
     ]
    },
    {
     "data": {
      "application/vnd.jupyter.widget-view+json": {
       "model_id": "",
       "version_major": 2,
       "version_minor": 0
      },
      "text/plain": [
       "Validation: 0it [00:00, ?it/s]"
      ]
     },
     "metadata": {},
     "output_type": "display_data"
    },
    {
     "name": "stderr",
     "output_type": "stream",
     "text": [
      "Epoch 8, global step 378: 'val_acc' reached 0.75873 (best 0.75873), saving model to '/nlsasfs/home/diabeticr/dineshm/reports/2022-06-09061825.754492_ce_512_1_0.2_0.0003.ckpt' as top 1\n"
     ]
    },
    {
     "data": {
      "application/vnd.jupyter.widget-view+json": {
       "model_id": "",
       "version_major": 2,
       "version_minor": 0
      },
      "text/plain": [
       "Validation: 0it [00:00, ?it/s]"
      ]
     },
     "metadata": {},
     "output_type": "display_data"
    },
    {
     "name": "stderr",
     "output_type": "stream",
     "text": [
      "Epoch 9, global step 420: 'val_acc' was not in top 1\n"
     ]
    },
    {
     "data": {
      "application/vnd.jupyter.widget-view+json": {
       "model_id": "",
       "version_major": 2,
       "version_minor": 0
      },
      "text/plain": [
       "Validation: 0it [00:00, ?it/s]"
      ]
     },
     "metadata": {},
     "output_type": "display_data"
    },
    {
     "name": "stderr",
     "output_type": "stream",
     "text": [
      "Epoch 10, global step 462: 'val_acc' reached 0.76631 (best 0.76631), saving model to '/nlsasfs/home/diabeticr/dineshm/reports/2022-06-09061825.754492_ce_512_1_0.2_0.0003.ckpt' as top 1\n"
     ]
    },
    {
     "data": {
      "application/vnd.jupyter.widget-view+json": {
       "model_id": "",
       "version_major": 2,
       "version_minor": 0
      },
      "text/plain": [
       "Validation: 0it [00:00, ?it/s]"
      ]
     },
     "metadata": {},
     "output_type": "display_data"
    },
    {
     "name": "stderr",
     "output_type": "stream",
     "text": [
      "Epoch 11, global step 504: 'val_acc' was not in top 1\n"
     ]
    },
    {
     "data": {
      "application/vnd.jupyter.widget-view+json": {
       "model_id": "",
       "version_major": 2,
       "version_minor": 0
      },
      "text/plain": [
       "Validation: 0it [00:00, ?it/s]"
      ]
     },
     "metadata": {},
     "output_type": "display_data"
    },
    {
     "name": "stderr",
     "output_type": "stream",
     "text": [
      "Epoch 12, global step 546: 'val_acc' was not in top 1\n"
     ]
    },
    {
     "data": {
      "application/vnd.jupyter.widget-view+json": {
       "model_id": "",
       "version_major": 2,
       "version_minor": 0
      },
      "text/plain": [
       "Validation: 0it [00:00, ?it/s]"
      ]
     },
     "metadata": {},
     "output_type": "display_data"
    },
    {
     "name": "stderr",
     "output_type": "stream",
     "text": [
      "Epoch 13, global step 588: 'val_acc' reached 0.78300 (best 0.78300), saving model to '/nlsasfs/home/diabeticr/dineshm/reports/2022-06-09061825.754492_ce_512_1_0.2_0.0003.ckpt' as top 1\n"
     ]
    },
    {
     "data": {
      "application/vnd.jupyter.widget-view+json": {
       "model_id": "",
       "version_major": 2,
       "version_minor": 0
      },
      "text/plain": [
       "Validation: 0it [00:00, ?it/s]"
      ]
     },
     "metadata": {},
     "output_type": "display_data"
    },
    {
     "name": "stderr",
     "output_type": "stream",
     "text": [
      "Epoch 14, global step 630: 'val_acc' was not in top 1\n"
     ]
    },
    {
     "data": {
      "application/vnd.jupyter.widget-view+json": {
       "model_id": "",
       "version_major": 2,
       "version_minor": 0
      },
      "text/plain": [
       "Validation: 0it [00:00, ?it/s]"
      ]
     },
     "metadata": {},
     "output_type": "display_data"
    },
    {
     "name": "stderr",
     "output_type": "stream",
     "text": [
      "Epoch 15, global step 672: 'val_acc' was not in top 1\n"
     ]
    },
    {
     "data": {
      "application/vnd.jupyter.widget-view+json": {
       "model_id": "",
       "version_major": 2,
       "version_minor": 0
      },
      "text/plain": [
       "Validation: 0it [00:00, ?it/s]"
      ]
     },
     "metadata": {},
     "output_type": "display_data"
    },
    {
     "name": "stderr",
     "output_type": "stream",
     "text": [
      "Epoch 16, global step 714: 'val_acc' was not in top 1\n"
     ]
    },
    {
     "data": {
      "application/vnd.jupyter.widget-view+json": {
       "model_id": "",
       "version_major": 2,
       "version_minor": 0
      },
      "text/plain": [
       "Validation: 0it [00:00, ?it/s]"
      ]
     },
     "metadata": {},
     "output_type": "display_data"
    },
    {
     "name": "stderr",
     "output_type": "stream",
     "text": [
      "Epoch 17, global step 756: 'val_acc' was not in top 1\n"
     ]
    },
    {
     "data": {
      "application/vnd.jupyter.widget-view+json": {
       "model_id": "",
       "version_major": 2,
       "version_minor": 0
      },
      "text/plain": [
       "Validation: 0it [00:00, ?it/s]"
      ]
     },
     "metadata": {},
     "output_type": "display_data"
    },
    {
     "name": "stderr",
     "output_type": "stream",
     "text": [
      "Epoch 18, global step 798: 'val_acc' reached 0.78452 (best 0.78452), saving model to '/nlsasfs/home/diabeticr/dineshm/reports/2022-06-09061825.754492_ce_512_1_0.2_0.0003.ckpt' as top 1\n"
     ]
    },
    {
     "data": {
      "application/vnd.jupyter.widget-view+json": {
       "model_id": "",
       "version_major": 2,
       "version_minor": 0
      },
      "text/plain": [
       "Validation: 0it [00:00, ?it/s]"
      ]
     },
     "metadata": {},
     "output_type": "display_data"
    },
    {
     "name": "stderr",
     "output_type": "stream",
     "text": [
      "Epoch 19, global step 840: 'val_acc' reached 0.78756 (best 0.78756), saving model to '/nlsasfs/home/diabeticr/dineshm/reports/2022-06-09061825.754492_ce_512_1_0.2_0.0003.ckpt' as top 1\n"
     ]
    },
    {
     "data": {
      "application/vnd.jupyter.widget-view+json": {
       "model_id": "",
       "version_major": 2,
       "version_minor": 0
      },
      "text/plain": [
       "Validation: 0it [00:00, ?it/s]"
      ]
     },
     "metadata": {},
     "output_type": "display_data"
    },
    {
     "name": "stderr",
     "output_type": "stream",
     "text": [
      "Epoch 20, global step 882: 'val_acc' was not in top 1\n"
     ]
    },
    {
     "data": {
      "application/vnd.jupyter.widget-view+json": {
       "model_id": "",
       "version_major": 2,
       "version_minor": 0
      },
      "text/plain": [
       "Validation: 0it [00:00, ?it/s]"
      ]
     },
     "metadata": {},
     "output_type": "display_data"
    },
    {
     "name": "stderr",
     "output_type": "stream",
     "text": [
      "Epoch 21, global step 924: 'val_acc' was not in top 1\n"
     ]
    },
    {
     "data": {
      "application/vnd.jupyter.widget-view+json": {
       "model_id": "",
       "version_major": 2,
       "version_minor": 0
      },
      "text/plain": [
       "Validation: 0it [00:00, ?it/s]"
      ]
     },
     "metadata": {},
     "output_type": "display_data"
    },
    {
     "name": "stderr",
     "output_type": "stream",
     "text": [
      "Epoch 22, global step 966: 'val_acc' was not in top 1\n"
     ]
    },
    {
     "data": {
      "application/vnd.jupyter.widget-view+json": {
       "model_id": "",
       "version_major": 2,
       "version_minor": 0
      },
      "text/plain": [
       "Validation: 0it [00:00, ?it/s]"
      ]
     },
     "metadata": {},
     "output_type": "display_data"
    },
    {
     "name": "stderr",
     "output_type": "stream",
     "text": [
      "Epoch 23, global step 1008: 'val_acc' was not in top 1\n"
     ]
    },
    {
     "data": {
      "application/vnd.jupyter.widget-view+json": {
       "model_id": "",
       "version_major": 2,
       "version_minor": 0
      },
      "text/plain": [
       "Validation: 0it [00:00, ?it/s]"
      ]
     },
     "metadata": {},
     "output_type": "display_data"
    },
    {
     "name": "stderr",
     "output_type": "stream",
     "text": [
      "Epoch 24, global step 1050: 'val_acc' was not in top 1\n"
     ]
    },
    {
     "data": {
      "application/vnd.jupyter.widget-view+json": {
       "model_id": "",
       "version_major": 2,
       "version_minor": 0
      },
      "text/plain": [
       "Validation: 0it [00:00, ?it/s]"
      ]
     },
     "metadata": {},
     "output_type": "display_data"
    },
    {
     "name": "stderr",
     "output_type": "stream",
     "text": [
      "Epoch 25, global step 1092: 'val_acc' was not in top 1\n"
     ]
    },
    {
     "data": {
      "application/vnd.jupyter.widget-view+json": {
       "model_id": "",
       "version_major": 2,
       "version_minor": 0
      },
      "text/plain": [
       "Validation: 0it [00:00, ?it/s]"
      ]
     },
     "metadata": {},
     "output_type": "display_data"
    },
    {
     "name": "stderr",
     "output_type": "stream",
     "text": [
      "Epoch 26, global step 1134: 'val_acc' was not in top 1\n"
     ]
    },
    {
     "data": {
      "application/vnd.jupyter.widget-view+json": {
       "model_id": "",
       "version_major": 2,
       "version_minor": 0
      },
      "text/plain": [
       "Validation: 0it [00:00, ?it/s]"
      ]
     },
     "metadata": {},
     "output_type": "display_data"
    },
    {
     "name": "stderr",
     "output_type": "stream",
     "text": [
      "Epoch 27, global step 1176: 'val_acc' reached 0.78907 (best 0.78907), saving model to '/nlsasfs/home/diabeticr/dineshm/reports/2022-06-09061825.754492_ce_512_1_0.2_0.0003.ckpt' as top 1\n"
     ]
    },
    {
     "data": {
      "application/vnd.jupyter.widget-view+json": {
       "model_id": "",
       "version_major": 2,
       "version_minor": 0
      },
      "text/plain": [
       "Validation: 0it [00:00, ?it/s]"
      ]
     },
     "metadata": {},
     "output_type": "display_data"
    },
    {
     "name": "stderr",
     "output_type": "stream",
     "text": [
      "Epoch 28, global step 1218: 'val_acc' reached 0.79514 (best 0.79514), saving model to '/nlsasfs/home/diabeticr/dineshm/reports/2022-06-09061825.754492_ce_512_1_0.2_0.0003.ckpt' as top 1\n"
     ]
    },
    {
     "data": {
      "application/vnd.jupyter.widget-view+json": {
       "model_id": "",
       "version_major": 2,
       "version_minor": 0
      },
      "text/plain": [
       "Validation: 0it [00:00, ?it/s]"
      ]
     },
     "metadata": {},
     "output_type": "display_data"
    },
    {
     "name": "stderr",
     "output_type": "stream",
     "text": [
      "Epoch 29, global step 1260: 'val_acc' was not in top 1\n"
     ]
    },
    {
     "data": {
      "application/vnd.jupyter.widget-view+json": {
       "model_id": "",
       "version_major": 2,
       "version_minor": 0
      },
      "text/plain": [
       "Validation: 0it [00:00, ?it/s]"
      ]
     },
     "metadata": {},
     "output_type": "display_data"
    },
    {
     "name": "stderr",
     "output_type": "stream",
     "text": [
      "Epoch 30, global step 1302: 'val_acc' reached 0.79818 (best 0.79818), saving model to '/nlsasfs/home/diabeticr/dineshm/reports/2022-06-09061825.754492_ce_512_1_0.2_0.0003.ckpt' as top 1\n"
     ]
    },
    {
     "data": {
      "application/vnd.jupyter.widget-view+json": {
       "model_id": "",
       "version_major": 2,
       "version_minor": 0
      },
      "text/plain": [
       "Validation: 0it [00:00, ?it/s]"
      ]
     },
     "metadata": {},
     "output_type": "display_data"
    },
    {
     "name": "stderr",
     "output_type": "stream",
     "text": [
      "Epoch 31, global step 1344: 'val_acc' was not in top 1\n"
     ]
    },
    {
     "data": {
      "application/vnd.jupyter.widget-view+json": {
       "model_id": "",
       "version_major": 2,
       "version_minor": 0
      },
      "text/plain": [
       "Validation: 0it [00:00, ?it/s]"
      ]
     },
     "metadata": {},
     "output_type": "display_data"
    },
    {
     "name": "stderr",
     "output_type": "stream",
     "text": [
      "Epoch 32, global step 1386: 'val_acc' was not in top 1\n"
     ]
    },
    {
     "data": {
      "application/vnd.jupyter.widget-view+json": {
       "model_id": "",
       "version_major": 2,
       "version_minor": 0
      },
      "text/plain": [
       "Validation: 0it [00:00, ?it/s]"
      ]
     },
     "metadata": {},
     "output_type": "display_data"
    },
    {
     "name": "stderr",
     "output_type": "stream",
     "text": [
      "Epoch 33, global step 1428: 'val_acc' was not in top 1\n"
     ]
    },
    {
     "data": {
      "application/vnd.jupyter.widget-view+json": {
       "model_id": "",
       "version_major": 2,
       "version_minor": 0
      },
      "text/plain": [
       "Validation: 0it [00:00, ?it/s]"
      ]
     },
     "metadata": {},
     "output_type": "display_data"
    },
    {
     "name": "stderr",
     "output_type": "stream",
     "text": [
      "Epoch 34, global step 1470: 'val_acc' reached 0.81184 (best 0.81184), saving model to '/nlsasfs/home/diabeticr/dineshm/reports/2022-06-09061825.754492_ce_512_1_0.2_0.0003.ckpt' as top 1\n"
     ]
    },
    {
     "data": {
      "application/vnd.jupyter.widget-view+json": {
       "model_id": "",
       "version_major": 2,
       "version_minor": 0
      },
      "text/plain": [
       "Validation: 0it [00:00, ?it/s]"
      ]
     },
     "metadata": {},
     "output_type": "display_data"
    },
    {
     "name": "stderr",
     "output_type": "stream",
     "text": [
      "Epoch 35, global step 1512: 'val_acc' was not in top 1\n"
     ]
    },
    {
     "data": {
      "application/vnd.jupyter.widget-view+json": {
       "model_id": "",
       "version_major": 2,
       "version_minor": 0
      },
      "text/plain": [
       "Validation: 0it [00:00, ?it/s]"
      ]
     },
     "metadata": {},
     "output_type": "display_data"
    },
    {
     "name": "stderr",
     "output_type": "stream",
     "text": [
      "Epoch 36, global step 1554: 'val_acc' was not in top 1\n"
     ]
    },
    {
     "data": {
      "application/vnd.jupyter.widget-view+json": {
       "model_id": "",
       "version_major": 2,
       "version_minor": 0
      },
      "text/plain": [
       "Validation: 0it [00:00, ?it/s]"
      ]
     },
     "metadata": {},
     "output_type": "display_data"
    },
    {
     "name": "stderr",
     "output_type": "stream",
     "text": [
      "Epoch 37, global step 1596: 'val_acc' was not in top 1\n"
     ]
    },
    {
     "data": {
      "application/vnd.jupyter.widget-view+json": {
       "model_id": "",
       "version_major": 2,
       "version_minor": 0
      },
      "text/plain": [
       "Validation: 0it [00:00, ?it/s]"
      ]
     },
     "metadata": {},
     "output_type": "display_data"
    },
    {
     "name": "stderr",
     "output_type": "stream",
     "text": [
      "Epoch 38, global step 1638: 'val_acc' was not in top 1\n"
     ]
    },
    {
     "data": {
      "application/vnd.jupyter.widget-view+json": {
       "model_id": "",
       "version_major": 2,
       "version_minor": 0
      },
      "text/plain": [
       "Validation: 0it [00:00, ?it/s]"
      ]
     },
     "metadata": {},
     "output_type": "display_data"
    },
    {
     "name": "stderr",
     "output_type": "stream",
     "text": [
      "Epoch 39, global step 1680: 'val_acc' was not in top 1\n"
     ]
    },
    {
     "name": "stdout",
     "output_type": "stream",
     "text": [
      "./reports/2022-06-09061825.754492_ce_512_1_0.2_0.0003\n"
     ]
    },
    {
     "name": "stderr",
     "output_type": "stream",
     "text": [
      "LOCAL_RANK: 0 - CUDA_VISIBLE_DEVICES: [0,1,2,3,4,5,6,7]\n"
     ]
    },
    {
     "data": {
      "application/vnd.jupyter.widget-view+json": {
       "model_id": "42e025da56134372b3b23b5b6cc6803e",
       "version_major": 2,
       "version_minor": 0
      },
      "text/plain": [
       "Testing: 0it [00:00, ?it/s]"
      ]
     },
     "metadata": {},
     "output_type": "display_data"
    },
    {
     "name": "stdout",
     "output_type": "stream",
     "text": [
      "────────────────────────────────────────────────────────────────────────────────────────────────────────────────────────\n",
      "       Test metric             DataLoader 0\n",
      "────────────────────────────────────────────────────────────────────────────────────────────────────────────────────────\n",
      "      test_F1_score         0.6231679320335388\n",
      "      test_accuracy         0.7874659299850464\n",
      "       test_kappa           0.6808602213859558\n",
      "        test_loss           0.6367512345314026\n",
      "────────────────────────────────────────────────────────────────────────────────────────────────────────────────────────\n"
     ]
    },
    {
     "name": "stderr",
     "output_type": "stream",
     "text": [
      "100%|███████████████████████████████████████████████████████████████████████████████████████████████████████████████████████████████████████████████████████████████████████| 367/367 [00:32<00:00, 11.40it/s]\n",
      "100%|███████████████████████████████████████████████████████████████████████████████████████████████████████████████████████████████████████████████████████████████████████| 659/659 [00:47<00:00, 13.97it/s]\n"
     ]
    },
    {
     "data": {
      "image/png": "[encoded data removed]",
      "text/plain": [
       "<Figure size 432x288 with 1 Axes>"
      ]
     },
     "metadata": {
      "needs_background": "light"
     },
     "output_type": "display_data"
    },
    {
     "data": {
      "image/png": "[encoded data removed]",
      "text/plain": [
       "<Figure size 432x288 with 1 Axes>"
      ]
     },
     "metadata": {
      "needs_background": "light"
     },
     "output_type": "display_data"
    },
    {
     "data": {
      "text/html": [
       "Waiting for W&B process to finish... <strong style=\"color:green\">(success).</strong>"
      ],
      "text/plain": [
       "<IPython.core.display.HTML object>"
      ]
     },
     "metadata": {},
     "output_type": "display_data"
    },
    {
     "data": {
      "application/vnd.jupyter.widget-view+json": {
       "model_id": "",
       "version_major": 2,
       "version_minor": 0
      },
      "text/plain": [
       "VBox(children=(Label(value='0.021 MB of 0.021 MB uploaded (0.000 MB deduped)\\r'), FloatProgress(value=1.0, max…"
      ]
     },
     "metadata": {},
     "output_type": "display_data"
    },
    {
     "data": {
      "text/html": [
       "<style>\n",
       "    table.wandb td:nth-child(1) { padding: 0 10px; text-align: left ; width: auto;} td:nth-child(2) {text-align: left ; width: 100%}\n",
       "    .wandb-row { display: flex; flex-direction: row; flex-wrap: wrap; justify-content: flex-start; width: 100% }\n",
       "    .wandb-col { display: flex; flex-direction: column; flex-basis: 100%; flex: 1; padding: 10px; }\n",
       "    </style>\n",
       "<div class=\"wandb-row\"><div class=\"wandb-col\"><h3>Run history:</h3><br/><table class=\"wandb\"><tr><td>epoch</td><td>▁▁▁▂▂▂▂▂▂▃▃▃▃▃▃▄▄▄▄▅▅▅▅▅▅▆▆▆▆▆▆▇▇▇▇▇▇███</td></tr><tr><td>test_F1_score</td><td>▁</td></tr><tr><td>test_accuracy</td><td>▁</td></tr><tr><td>test_kappa</td><td>▁</td></tr><tr><td>test_loss</td><td>▁</td></tr><tr><td>train_acc_epoch</td><td>▁▃▃▄▄▄▄▅▅▅▆▆▅▆▆▆▆▇▆▆▇▇▇▇▇█▇█████▇███████</td></tr><tr><td>train_acc_step</td><td>▁▂▃▃▂▂▃▂▃▆▄▆▅▄▇▅▇█▇▅██▆▇▅██▆█▇▆▆▇</td></tr><tr><td>train_kappa_epoch</td><td>▁▃▃▄▄▄▄▅▅▅▆▆▅▆▆▆▆▇▆▆▇▇▇▇▇█▇█████▇███████</td></tr><tr><td>train_kappa_step</td><td>▁▂▃▃▂▂▃▃▃▆▄▆▅▄▇▅▇█▇▅▇█▆▇▅██▆█▇▆▆▇</td></tr><tr><td>train_loss_epoch</td><td>█▇▆▅▅▅▅▄▄▄▃▃▄▃▃▃▃▂▂▂▂▂▂▂▂▁▂▁▁▁▁▁▁▁▁▁▁▁▁▁</td></tr><tr><td>train_loss_step</td><td>█▇▇▆▆▇▆▇▅▄▄▄▃▅▂▄▂▂▃▂▃▂▃▂▄▁▂▃▂▂▃▃▂</td></tr><tr><td>trainer/global_step</td><td>▁▁▁▁▂▂▂▂▂▃▃▃▃▃▄▄▄▄▄▄▅▅▅▅▅▅▆▆▆▆▆▇▇▇▇▇▇███</td></tr><tr><td>val_acc</td><td>▁▂▃▂▄▄▆▆▆▆▆▆▅▇▆▇▆▇▇▇▇▇▇▇▇▇▇▇▇▇█▇▇▇█▇███▇</td></tr><tr><td>val_kappa</td><td>▁▂▃▁▄▅▅▆▆▆▆▆▅▇▆▇▆▇▇▇▇▇▇▇▇▇▇▇▇▇▇█▇▇█▇█▇▇▇</td></tr><tr><td>val_loss</td><td>▇▇▆█▄▄▃▂▂▃▂▂▃▁▂▁▂▁▂▂▂▁▂▂▂▁▂▂▁▂▂▁▂▂▁▂▁▁▁▂</td></tr><tr><td>valid_F1_score</td><td>▁▂▄▂▅▅▆▆▆▆▇▆▆▇▇▇▇▇▇▇▇▇▇▇▇▇▇▇████▇██▇███▇</td></tr></table><br/></div><div class=\"wandb-col\"><h3>Run summary:</h3><br/><table class=\"wandb\"><tr><td>epoch</td><td>40</td></tr><tr><td>test_F1_score</td><td>0.62317</td></tr><tr><td>test_accuracy</td><td>0.78747</td></tr><tr><td>test_kappa</td><td>0.68086</td></tr><tr><td>test_loss</td><td>0.63675</td></tr><tr><td>train_acc_epoch</td><td>0.78149</td></tr><tr><td>train_acc_step</td><td>0.8125</td></tr><tr><td>train_kappa_epoch</td><td>0.72545</td></tr><tr><td>train_kappa_step</td><td>0.76564</td></tr><tr><td>train_loss_epoch</td><td>0.5478</td></tr><tr><td>train_loss_step</td><td>0.54519</td></tr><tr><td>trainer/global_step</td><td>1680</td></tr><tr><td>val_acc</td><td>0.78604</td></tr><tr><td>val_kappa</td><td>0.67244</td></tr><tr><td>val_loss</td><td>0.63356</td></tr><tr><td>valid_F1_score</td><td>0.61258</td></tr></table><br/></div></div>"
      ],
      "text/plain": [
       "<IPython.core.display.HTML object>"
      ]
     },
     "metadata": {},
     "output_type": "display_data"
    },
    {
     "data": {
      "text/html": [
       "Synced <strong style=\"color:#cdcd00\">proud-resonance-18</strong>: <a href=\"https://wandb.ai/dineswar_alt/Aptos_/runs/3elojdyv\" target=\"_blank\">https://wandb.ai/dineswar_alt/Aptos_/runs/3elojdyv</a><br/>Synced 6 W&B file(s), 1 media file(s), 0 artifact file(s) and 0 other file(s)"
      ],
      "text/plain": [
       "<IPython.core.display.HTML object>"
      ]
     },
     "metadata": {},
     "output_type": "display_data"
    },
    {
     "data": {
      "text/html": [
       "Find logs at: <code>./wandb/run-20220609_061825-3elojdyv/logs</code>"
      ],
      "text/plain": [
       "<IPython.core.display.HTML object>"
      ]
     },
     "metadata": {},
     "output_type": "display_data"
    },
    {
     "name": "stdout",
     "output_type": "stream",
     "text": [
      "[0 1 3 4 0 0 0 4 2 2 0 0 2 2 2 0 0 0 0 0 0 0 4 1 1 2 2 1 1 0 2 2 0 0 0 4 0\n",
      " 0 2 0 4 4 0 1 2 4 0 3 0 2 0 2 0 3 0 2 0 0 2 2 4 3 2 0 2 0 0 0 0 0 1 0 2 2\n",
      " 2 0 0 0 2 0 0 0 2 1 2 2 0 2 0 0 4 0 0 4 2 0 3 4 0 0 0 3 0 2 0 2 0 2 0 1 2\n",
      " 4 2 2 0 2 1 2 0 0 0 2 1 2 2 0 0 0 2 2 0 4 0 0 0 2 0 0 0 0 2 4 1 2 1 2 2 0\n",
      " 3 4 0 0 0 0 0 0 0 3 2 0 0 0 0 1 0 0 0 0 2 0 0 4 0 2 0 2 0 0 2 0 0 0 3 2 0\n",
      " 0 0 0 0 0 2 3 0 2 2 4 3 3 4 4 4 0 0 2 0 3 1 0 2 1 2 0 2 0 2 2 0 0 2 0 3 2\n",
      " 0 2 0 1 1 0 2 0 2 2 0 4 0 2 0 4 2 2 0 0 2 0 2 1 1 0 2 0 2 0 2 1 4 3 1 0 0\n",
      " 0 0 0 2 0 1 4 0 2 2 2 1 0 0 0 2 0 0 0 3 4 0 2 4 1 0 3 2 0 0 2 1 0 2 0 1 0\n",
      " 2 2 2 1 2 3 1 4 0 2 0 0 0 2 0 0 4 0 0 0 1 2 0 2 0 1 2 0 2 0 2 2 0 1 4 0 2\n",
      " 0 2 4 0 0 2 2 2 2 0 1 0 0 2 0 0 2 2 0 0 0 1 0 0 2 2 0 0 4 4 0 4 2 2]\n",
      "[0 0 0 2 0 0 0 0 0 2 0 2 0 4 0 0 0 0 2 0 0 0 4 1 2 0 2 0 2 0 4 0 0 0 4 0 0\n",
      " 3 0 0 2 4 0 3 0 2 0 4 3 0 3 3 0 4 2 0 0 2 0 0 2 0 0 4 2 2 0 0 0 1 3 1 0 2\n",
      " 0 4 4 0 0 0 4 1 0 0 0 1 0 1 2 2 4 2 0 2 4 0 0 2 2 0 2 0 3 2 0 2 0 4 0 0 2\n",
      " 4 0 0 0 1 4 3 0 2 2 1 0 2 1 0 0 2 0 4 2 1 0 0 2 2 3 0 0 2 0 0 2 1 0 2 0 0\n",
      " 0 1 0 4 2 0 0 2 2 2 0 2 0 0 1 1 2 2 2 0 1 0 1 0 3 2 2 3 2 0 0 0 0 2 1 2 1\n",
      " 0 2 2 2 2 2 0 2 0 0 1 0 0 0 1 0 2 1 2 2 0 0 0 0 4 2 0 1 0 2 0 0 0 2 3 2 0\n",
      " 3 0 2 0 0 2 0 1 2 2 2 0 1 0 0 0 0 2 0 0 0 0 0 3 0 2 4 2 2 2 0 0 0 4 0 2 4\n",
      " 2 1 2 0 0 4 0 0 0 0 0 1 2 0 0 2 2 0 4 2 2 0 0 4 0 0 0 0 1 1 2 0 0 2 1 1 2\n",
      " 0 2 2 2 4 2 0 1 1 0 0 2 3 2 1 4 0 0 4 0 3 0 0 0 2 3 2 0 4 0 1 0 0 2 0 0 2\n",
      " 2 0 1 0 2 3 1 0 0 0 4 0 0 2 0 2 0 0 2 0 0 3 2 2 2 0 1 2 2 0 0 4 0 0 2 0 4\n",
      " 0 0 0 0 2 0 4 3 0 4 0 0 0 1 2 0 2 2 2 2 0 0 0 0 2 0 0 0 4 0 1 1 2 4 0 0 2\n",
      " 2 2 0 3 0 0 4 1 0 0 0 0 0 0 0 0 0 4 3 1 0 0 0 0 0 1 0 0 0 0 1 1 2 2 1 2 0\n",
      " 0 1 0 0 2 2 0 0 0 2 2 2 0 2 2 0 0 0 0 0 2 0 0 0 1 0 2 2 0 2 3 0 0 0 0 0 3\n",
      " 2 4 2 2 0 0 0 4 3 2 2 0 2 2 0 3 2 0 2 2 0 0 0 1 0 4 0 2 0 0 0 1 0 1 0 2 0\n",
      " 0 2 2 0 0 2 2 0 4 0 1 0 2 2 0 0 0 0 0 3 0 0 1 0 1 1 0 1 0 2 0 2 2 2 2 1 0\n",
      " 0 4 2 0 2 0 3 1 0 3 0 2 0 0 1 4 1 0 0 0 0 0 2 0 3 2 2 0 1 3 0 4 0 2 3 2 0\n",
      " 0 2 0 0 0 3 4 2 0 4 4 0 0 1 2 2 2 3 1 2 2 4 0 2 2 0 3 2 0 2 2 0 0 0 1 0 0\n",
      " 4 4 2 1 0 0 0 0 4 0 0 0 0 0 2 0 0 2 0 2 2 2 0 1 0 0 1 0 2 0]\n",
      "Fold 2\n"
     ]
    },
    {
     "name": "stderr",
     "output_type": "stream",
     "text": [
      "100%|█████████████████████████████████████████████████████████████████████████████████████████████████████████████████████████████████████████████████████████████████████| 2636/2636 [04:22<00:00, 10.06it/s]\n",
      "Global seed set to 8\n"
     ]
    },
    {
     "data": {
      "text/html": [
       "Changes to your `wandb` environment variables will be ignored because your `wandb` session has already started. For more information on how to modify your settings with `wandb.init()` arguments, please refer to <a href=\"https://wandb.me/wandb-init\" target=\"_blank\">the W&B docs</a>."
      ],
      "text/plain": [
       "<IPython.core.display.HTML object>"
      ]
     },
     "metadata": {},
     "output_type": "display_data"
    },
    {
     "data": {
      "text/html": [
       "Tracking run with wandb version 0.12.17"
      ],
      "text/plain": [
       "<IPython.core.display.HTML object>"
      ]
     },
     "metadata": {},
     "output_type": "display_data"
    },
    {
     "data": {
      "text/html": [
       "Run data is saved locally in <code>/nlsasfs/home/diabeticr/dineshm/wandb/run-20220609_070928-1jamc721</code>"
      ],
      "text/plain": [
       "<IPython.core.display.HTML object>"
      ]
     },
     "metadata": {},
     "output_type": "display_data"
    },
    {
     "data": {
      "text/html": [
       "Syncing run <strong><a href=\"https://wandb.ai/dineswar_alt/Aptos_/runs/1jamc721\" target=\"_blank\">dandy-snowflake-19</a></strong> to <a href=\"https://wandb.ai/dineswar_alt/Aptos_\" target=\"_blank\">Weights & Biases</a> (<a href=\"https://wandb.me/run\" target=\"_blank\">docs</a>)<br/>"
      ],
      "text/plain": [
       "<IPython.core.display.HTML object>"
      ]
     },
     "metadata": {},
     "output_type": "display_data"
    },
    {
     "name": "stderr",
     "output_type": "stream",
     "text": [
      "GPU available: True, used: True\n",
      "TPU available: False, using: 0 TPU cores\n",
      "IPU available: False, using: 0 IPUs\n",
      "HPU available: False, using: 0 HPUs\n",
      "\u001b[34m\u001b[1mwandb\u001b[0m: logging graph, to disable use `wandb.watch(log_graph=False)`\n",
      "GPU available: True, used: True\n",
      "TPU available: False, using: 0 TPU cores\n",
      "IPU available: False, using: 0 IPUs\n",
      "HPU available: False, using: 0 HPUs\n",
      "LOCAL_RANK: 0 - CUDA_VISIBLE_DEVICES: [0,1,2,3,4,5,6,7]\n",
      "\n",
      "  | Name        | Type       | Params\n",
      "-------------------------------------------\n",
      "0 | accuracy    | Accuracy   | 0     \n",
      "1 | metric      | F1Score    | 0     \n",
      "2 | kappametric | CohenKappa | 0     \n",
      "3 | model       | ModelCE    | 24.6 M\n",
      "-------------------------------------------\n",
      "24.6 M    Trainable params\n",
      "0         Non-trainable params\n",
      "24.6 M    Total params\n",
      "98.259    Total estimated model params size (MB)\n"
     ]
    },
    {
     "data": {
      "application/vnd.jupyter.widget-view+json": {
       "model_id": "",
       "version_major": 2,
       "version_minor": 0
      },
      "text/plain": [
       "Sanity Checking: 0it [00:00, ?it/s]"
      ]
     },
     "metadata": {},
     "output_type": "display_data"
    },
    {
     "data": {
      "application/vnd.jupyter.widget-view+json": {
       "model_id": "54ae02a5b10a47a7a0108c304df96982",
       "version_major": 2,
       "version_minor": 0
      },
      "text/plain": [
       "Training: 0it [00:00, ?it/s]"
      ]
     },
     "metadata": {},
     "output_type": "display_data"
    },
    {
     "data": {
      "application/vnd.jupyter.widget-view+json": {
       "model_id": "",
       "version_major": 2,
       "version_minor": 0
      },
      "text/plain": [
       "Validation: 0it [00:00, ?it/s]"
      ]
     },
     "metadata": {},
     "output_type": "display_data"
    },
    {
     "name": "stderr",
     "output_type": "stream",
     "text": [
      "Epoch 0, global step 42: 'val_acc' reached 0.61002 (best 0.61002), saving model to '/nlsasfs/home/diabeticr/dineshm/reports/2022-06-09070928.007058_ce_512_1_0.2_0.0003.ckpt' as top 1\n"
     ]
    },
    {
     "data": {
      "application/vnd.jupyter.widget-view+json": {
       "model_id": "",
       "version_major": 2,
       "version_minor": 0
      },
      "text/plain": [
       "Validation: 0it [00:00, ?it/s]"
      ]
     },
     "metadata": {},
     "output_type": "display_data"
    },
    {
     "name": "stderr",
     "output_type": "stream",
     "text": [
      "Epoch 1, global step 84: 'val_acc' reached 0.61912 (best 0.61912), saving model to '/nlsasfs/home/diabeticr/dineshm/reports/2022-06-09070928.007058_ce_512_1_0.2_0.0003.ckpt' as top 1\n"
     ]
    },
    {
     "data": {
      "application/vnd.jupyter.widget-view+json": {
       "model_id": "",
       "version_major": 2,
       "version_minor": 0
      },
      "text/plain": [
       "Validation: 0it [00:00, ?it/s]"
      ]
     },
     "metadata": {},
     "output_type": "display_data"
    },
    {
     "name": "stderr",
     "output_type": "stream",
     "text": [
      "Epoch 2, global step 126: 'val_acc' reached 0.64795 (best 0.64795), saving model to '/nlsasfs/home/diabeticr/dineshm/reports/2022-06-09070928.007058_ce_512_1_0.2_0.0003.ckpt' as top 1\n"
     ]
    },
    {
     "data": {
      "application/vnd.jupyter.widget-view+json": {
       "model_id": "",
       "version_major": 2,
       "version_minor": 0
      },
      "text/plain": [
       "Validation: 0it [00:00, ?it/s]"
      ]
     },
     "metadata": {},
     "output_type": "display_data"
    },
    {
     "name": "stderr",
     "output_type": "stream",
     "text": [
      "Epoch 3, global step 168: 'val_acc' reached 0.67982 (best 0.67982), saving model to '/nlsasfs/home/diabeticr/dineshm/reports/2022-06-09070928.007058_ce_512_1_0.2_0.0003.ckpt' as top 1\n"
     ]
    },
    {
     "data": {
      "application/vnd.jupyter.widget-view+json": {
       "model_id": "",
       "version_major": 2,
       "version_minor": 0
      },
      "text/plain": [
       "Validation: 0it [00:00, ?it/s]"
      ]
     },
     "metadata": {},
     "output_type": "display_data"
    },
    {
     "name": "stderr",
     "output_type": "stream",
     "text": [
      "Epoch 4, global step 210: 'val_acc' reached 0.71168 (best 0.71168), saving model to '/nlsasfs/home/diabeticr/dineshm/reports/2022-06-09070928.007058_ce_512_1_0.2_0.0003.ckpt' as top 1\n"
     ]
    },
    {
     "data": {
      "application/vnd.jupyter.widget-view+json": {
       "model_id": "",
       "version_major": 2,
       "version_minor": 0
      },
      "text/plain": [
       "Validation: 0it [00:00, ?it/s]"
      ]
     },
     "metadata": {},
     "output_type": "display_data"
    },
    {
     "name": "stderr",
     "output_type": "stream",
     "text": [
      "Epoch 5, global step 252: 'val_acc' reached 0.71472 (best 0.71472), saving model to '/nlsasfs/home/diabeticr/dineshm/reports/2022-06-09070928.007058_ce_512_1_0.2_0.0003.ckpt' as top 1\n"
     ]
    },
    {
     "data": {
      "application/vnd.jupyter.widget-view+json": {
       "model_id": "",
       "version_major": 2,
       "version_minor": 0
      },
      "text/plain": [
       "Validation: 0it [00:00, ?it/s]"
      ]
     },
     "metadata": {},
     "output_type": "display_data"
    },
    {
     "name": "stderr",
     "output_type": "stream",
     "text": [
      "Epoch 6, global step 294: 'val_acc' was not in top 1\n"
     ]
    },
    {
     "data": {
      "application/vnd.jupyter.widget-view+json": {
       "model_id": "",
       "version_major": 2,
       "version_minor": 0
      },
      "text/plain": [
       "Validation: 0it [00:00, ?it/s]"
      ]
     },
     "metadata": {},
     "output_type": "display_data"
    },
    {
     "name": "stderr",
     "output_type": "stream",
     "text": [
      "Epoch 7, global step 336: 'val_acc' was not in top 1\n"
     ]
    },
    {
     "data": {
      "application/vnd.jupyter.widget-view+json": {
       "model_id": "",
       "version_major": 2,
       "version_minor": 0
      },
      "text/plain": [
       "Validation: 0it [00:00, ?it/s]"
      ]
     },
     "metadata": {},
     "output_type": "display_data"
    },
    {
     "name": "stderr",
     "output_type": "stream",
     "text": [
      "Epoch 8, global step 378: 'val_acc' reached 0.74810 (best 0.74810), saving model to '/nlsasfs/home/diabeticr/dineshm/reports/2022-06-09070928.007058_ce_512_1_0.2_0.0003.ckpt' as top 1\n"
     ]
    },
    {
     "data": {
      "application/vnd.jupyter.widget-view+json": {
       "model_id": "",
       "version_major": 2,
       "version_minor": 0
      },
      "text/plain": [
       "Validation: 0it [00:00, ?it/s]"
      ]
     },
     "metadata": {},
     "output_type": "display_data"
    },
    {
     "name": "stderr",
     "output_type": "stream",
     "text": [
      "Epoch 9, global step 420: 'val_acc' was not in top 1\n"
     ]
    },
    {
     "data": {
      "application/vnd.jupyter.widget-view+json": {
       "model_id": "",
       "version_major": 2,
       "version_minor": 0
      },
      "text/plain": [
       "Validation: 0it [00:00, ?it/s]"
      ]
     },
     "metadata": {},
     "output_type": "display_data"
    },
    {
     "name": "stderr",
     "output_type": "stream",
     "text": [
      "Epoch 10, global step 462: 'val_acc' was not in top 1\n"
     ]
    },
    {
     "data": {
      "application/vnd.jupyter.widget-view+json": {
       "model_id": "",
       "version_major": 2,
       "version_minor": 0
      },
      "text/plain": [
       "Validation: 0it [00:00, ?it/s]"
      ]
     },
     "metadata": {},
     "output_type": "display_data"
    },
    {
     "name": "stderr",
     "output_type": "stream",
     "text": [
      "Epoch 11, global step 504: 'val_acc' was not in top 1\n"
     ]
    },
    {
     "data": {
      "application/vnd.jupyter.widget-view+json": {
       "model_id": "",
       "version_major": 2,
       "version_minor": 0
      },
      "text/plain": [
       "Validation: 0it [00:00, ?it/s]"
      ]
     },
     "metadata": {},
     "output_type": "display_data"
    },
    {
     "name": "stderr",
     "output_type": "stream",
     "text": [
      "Epoch 12, global step 546: 'val_acc' was not in top 1\n"
     ]
    },
    {
     "data": {
      "application/vnd.jupyter.widget-view+json": {
       "model_id": "",
       "version_major": 2,
       "version_minor": 0
      },
      "text/plain": [
       "Validation: 0it [00:00, ?it/s]"
      ]
     },
     "metadata": {},
     "output_type": "display_data"
    },
    {
     "name": "stderr",
     "output_type": "stream",
     "text": [
      "Epoch 13, global step 588: 'val_acc' reached 0.74962 (best 0.74962), saving model to '/nlsasfs/home/diabeticr/dineshm/reports/2022-06-09070928.007058_ce_512_1_0.2_0.0003.ckpt' as top 1\n"
     ]
    },
    {
     "data": {
      "application/vnd.jupyter.widget-view+json": {
       "model_id": "",
       "version_major": 2,
       "version_minor": 0
      },
      "text/plain": [
       "Validation: 0it [00:00, ?it/s]"
      ]
     },
     "metadata": {},
     "output_type": "display_data"
    },
    {
     "name": "stderr",
     "output_type": "stream",
     "text": [
      "Epoch 14, global step 630: 'val_acc' reached 0.76024 (best 0.76024), saving model to '/nlsasfs/home/diabeticr/dineshm/reports/2022-06-09070928.007058_ce_512_1_0.2_0.0003.ckpt' as top 1\n"
     ]
    },
    {
     "data": {
      "application/vnd.jupyter.widget-view+json": {
       "model_id": "",
       "version_major": 2,
       "version_minor": 0
      },
      "text/plain": [
       "Validation: 0it [00:00, ?it/s]"
      ]
     },
     "metadata": {},
     "output_type": "display_data"
    },
    {
     "name": "stderr",
     "output_type": "stream",
     "text": [
      "Epoch 15, global step 672: 'val_acc' was not in top 1\n"
     ]
    },
    {
     "data": {
      "application/vnd.jupyter.widget-view+json": {
       "model_id": "",
       "version_major": 2,
       "version_minor": 0
      },
      "text/plain": [
       "Validation: 0it [00:00, ?it/s]"
      ]
     },
     "metadata": {},
     "output_type": "display_data"
    },
    {
     "name": "stderr",
     "output_type": "stream",
     "text": [
      "Epoch 16, global step 714: 'val_acc' reached 0.76631 (best 0.76631), saving model to '/nlsasfs/home/diabeticr/dineshm/reports/2022-06-09070928.007058_ce_512_1_0.2_0.0003.ckpt' as top 1\n"
     ]
    },
    {
     "data": {
      "application/vnd.jupyter.widget-view+json": {
       "model_id": "",
       "version_major": 2,
       "version_minor": 0
      },
      "text/plain": [
       "Validation: 0it [00:00, ?it/s]"
      ]
     },
     "metadata": {},
     "output_type": "display_data"
    },
    {
     "name": "stderr",
     "output_type": "stream",
     "text": [
      "Epoch 17, global step 756: 'val_acc' was not in top 1\n"
     ]
    },
    {
     "data": {
      "application/vnd.jupyter.widget-view+json": {
       "model_id": "",
       "version_major": 2,
       "version_minor": 0
      },
      "text/plain": [
       "Validation: 0it [00:00, ?it/s]"
      ]
     },
     "metadata": {},
     "output_type": "display_data"
    },
    {
     "name": "stderr",
     "output_type": "stream",
     "text": [
      "Epoch 18, global step 798: 'val_acc' reached 0.79059 (best 0.79059), saving model to '/nlsasfs/home/diabeticr/dineshm/reports/2022-06-09070928.007058_ce_512_1_0.2_0.0003.ckpt' as top 1\n"
     ]
    },
    {
     "data": {
      "application/vnd.jupyter.widget-view+json": {
       "model_id": "",
       "version_major": 2,
       "version_minor": 0
      },
      "text/plain": [
       "Validation: 0it [00:00, ?it/s]"
      ]
     },
     "metadata": {},
     "output_type": "display_data"
    },
    {
     "name": "stderr",
     "output_type": "stream",
     "text": [
      "Epoch 19, global step 840: 'val_acc' was not in top 1\n"
     ]
    },
    {
     "data": {
      "application/vnd.jupyter.widget-view+json": {
       "model_id": "",
       "version_major": 2,
       "version_minor": 0
      },
      "text/plain": [
       "Validation: 0it [00:00, ?it/s]"
      ]
     },
     "metadata": {},
     "output_type": "display_data"
    },
    {
     "name": "stderr",
     "output_type": "stream",
     "text": [
      "Epoch 20, global step 882: 'val_acc' was not in top 1\n"
     ]
    },
    {
     "data": {
      "application/vnd.jupyter.widget-view+json": {
       "model_id": "",
       "version_major": 2,
       "version_minor": 0
      },
      "text/plain": [
       "Validation: 0it [00:00, ?it/s]"
      ]
     },
     "metadata": {},
     "output_type": "display_data"
    },
    {
     "name": "stderr",
     "output_type": "stream",
     "text": [
      "Epoch 21, global step 924: 'val_acc' was not in top 1\n"
     ]
    },
    {
     "data": {
      "application/vnd.jupyter.widget-view+json": {
       "model_id": "",
       "version_major": 2,
       "version_minor": 0
      },
      "text/plain": [
       "Validation: 0it [00:00, ?it/s]"
      ]
     },
     "metadata": {},
     "output_type": "display_data"
    },
    {
     "name": "stderr",
     "output_type": "stream",
     "text": [
      "Epoch 22, global step 966: 'val_acc' was not in top 1\n"
     ]
    },
    {
     "data": {
      "application/vnd.jupyter.widget-view+json": {
       "model_id": "",
       "version_major": 2,
       "version_minor": 0
      },
      "text/plain": [
       "Validation: 0it [00:00, ?it/s]"
      ]
     },
     "metadata": {},
     "output_type": "display_data"
    },
    {
     "name": "stderr",
     "output_type": "stream",
     "text": [
      "Epoch 23, global step 1008: 'val_acc' was not in top 1\n"
     ]
    },
    {
     "data": {
      "application/vnd.jupyter.widget-view+json": {
       "model_id": "",
       "version_major": 2,
       "version_minor": 0
      },
      "text/plain": [
       "Validation: 0it [00:00, ?it/s]"
      ]
     },
     "metadata": {},
     "output_type": "display_data"
    },
    {
     "name": "stderr",
     "output_type": "stream",
     "text": [
      "Epoch 24, global step 1050: 'val_acc' was not in top 1\n"
     ]
    },
    {
     "data": {
      "application/vnd.jupyter.widget-view+json": {
       "model_id": "",
       "version_major": 2,
       "version_minor": 0
      },
      "text/plain": [
       "Validation: 0it [00:00, ?it/s]"
      ]
     },
     "metadata": {},
     "output_type": "display_data"
    },
    {
     "name": "stderr",
     "output_type": "stream",
     "text": [
      "Epoch 25, global step 1092: 'val_acc' reached 0.79514 (best 0.79514), saving model to '/nlsasfs/home/diabeticr/dineshm/reports/2022-06-09070928.007058_ce_512_1_0.2_0.0003.ckpt' as top 1\n"
     ]
    },
    {
     "data": {
      "application/vnd.jupyter.widget-view+json": {
       "model_id": "",
       "version_major": 2,
       "version_minor": 0
      },
      "text/plain": [
       "Validation: 0it [00:00, ?it/s]"
      ]
     },
     "metadata": {},
     "output_type": "display_data"
    },
    {
     "name": "stderr",
     "output_type": "stream",
     "text": [
      "Epoch 26, global step 1134: 'val_acc' was not in top 1\n"
     ]
    },
    {
     "data": {
      "application/vnd.jupyter.widget-view+json": {
       "model_id": "",
       "version_major": 2,
       "version_minor": 0
      },
      "text/plain": [
       "Validation: 0it [00:00, ?it/s]"
      ]
     },
     "metadata": {},
     "output_type": "display_data"
    },
    {
     "name": "stderr",
     "output_type": "stream",
     "text": [
      "Epoch 27, global step 1176: 'val_acc' was not in top 1\n"
     ]
    },
    {
     "data": {
      "application/vnd.jupyter.widget-view+json": {
       "model_id": "",
       "version_major": 2,
       "version_minor": 0
      },
      "text/plain": [
       "Validation: 0it [00:00, ?it/s]"
      ]
     },
     "metadata": {},
     "output_type": "display_data"
    },
    {
     "name": "stderr",
     "output_type": "stream",
     "text": [
      "Epoch 28, global step 1218: 'val_acc' was not in top 1\n"
     ]
    },
    {
     "data": {
      "application/vnd.jupyter.widget-view+json": {
       "model_id": "",
       "version_major": 2,
       "version_minor": 0
      },
      "text/plain": [
       "Validation: 0it [00:00, ?it/s]"
      ]
     },
     "metadata": {},
     "output_type": "display_data"
    },
    {
     "name": "stderr",
     "output_type": "stream",
     "text": [
      "Epoch 29, global step 1260: 'val_acc' was not in top 1\n"
     ]
    },
    {
     "data": {
      "application/vnd.jupyter.widget-view+json": {
       "model_id": "",
       "version_major": 2,
       "version_minor": 0
      },
      "text/plain": [
       "Validation: 0it [00:00, ?it/s]"
      ]
     },
     "metadata": {},
     "output_type": "display_data"
    },
    {
     "name": "stderr",
     "output_type": "stream",
     "text": [
      "Epoch 30, global step 1302: 'val_acc' was not in top 1\n"
     ]
    },
    {
     "data": {
      "application/vnd.jupyter.widget-view+json": {
       "model_id": "",
       "version_major": 2,
       "version_minor": 0
      },
      "text/plain": [
       "Validation: 0it [00:00, ?it/s]"
      ]
     },
     "metadata": {},
     "output_type": "display_data"
    },
    {
     "name": "stderr",
     "output_type": "stream",
     "text": [
      "Epoch 31, global step 1344: 'val_acc' was not in top 1\n"
     ]
    },
    {
     "data": {
      "application/vnd.jupyter.widget-view+json": {
       "model_id": "",
       "version_major": 2,
       "version_minor": 0
      },
      "text/plain": [
       "Validation: 0it [00:00, ?it/s]"
      ]
     },
     "metadata": {},
     "output_type": "display_data"
    },
    {
     "name": "stderr",
     "output_type": "stream",
     "text": [
      "Epoch 32, global step 1386: 'val_acc' was not in top 1\n"
     ]
    },
    {
     "data": {
      "application/vnd.jupyter.widget-view+json": {
       "model_id": "",
       "version_major": 2,
       "version_minor": 0
      },
      "text/plain": [
       "Validation: 0it [00:00, ?it/s]"
      ]
     },
     "metadata": {},
     "output_type": "display_data"
    },
    {
     "name": "stderr",
     "output_type": "stream",
     "text": [
      "Epoch 33, global step 1428: 'val_acc' was not in top 1\n"
     ]
    },
    {
     "data": {
      "application/vnd.jupyter.widget-view+json": {
       "model_id": "",
       "version_major": 2,
       "version_minor": 0
      },
      "text/plain": [
       "Validation: 0it [00:00, ?it/s]"
      ]
     },
     "metadata": {},
     "output_type": "display_data"
    },
    {
     "name": "stderr",
     "output_type": "stream",
     "text": [
      "Epoch 34, global step 1470: 'val_acc' was not in top 1\n"
     ]
    },
    {
     "data": {
      "application/vnd.jupyter.widget-view+json": {
       "model_id": "",
       "version_major": 2,
       "version_minor": 0
      },
      "text/plain": [
       "Validation: 0it [00:00, ?it/s]"
      ]
     },
     "metadata": {},
     "output_type": "display_data"
    },
    {
     "name": "stderr",
     "output_type": "stream",
     "text": [
      "Epoch 35, global step 1512: 'val_acc' was not in top 1\n"
     ]
    },
    {
     "data": {
      "application/vnd.jupyter.widget-view+json": {
       "model_id": "",
       "version_major": 2,
       "version_minor": 0
      },
      "text/plain": [
       "Validation: 0it [00:00, ?it/s]"
      ]
     },
     "metadata": {},
     "output_type": "display_data"
    },
    {
     "name": "stderr",
     "output_type": "stream",
     "text": [
      "Epoch 36, global step 1554: 'val_acc' was not in top 1\n"
     ]
    },
    {
     "data": {
      "application/vnd.jupyter.widget-view+json": {
       "model_id": "",
       "version_major": 2,
       "version_minor": 0
      },
      "text/plain": [
       "Validation: 0it [00:00, ?it/s]"
      ]
     },
     "metadata": {},
     "output_type": "display_data"
    },
    {
     "name": "stderr",
     "output_type": "stream",
     "text": [
      "Epoch 37, global step 1596: 'val_acc' was not in top 1\n"
     ]
    },
    {
     "data": {
      "application/vnd.jupyter.widget-view+json": {
       "model_id": "",
       "version_major": 2,
       "version_minor": 0
      },
      "text/plain": [
       "Validation: 0it [00:00, ?it/s]"
      ]
     },
     "metadata": {},
     "output_type": "display_data"
    },
    {
     "name": "stderr",
     "output_type": "stream",
     "text": [
      "Epoch 38, global step 1638: 'val_acc' was not in top 1\n"
     ]
    },
    {
     "data": {
      "application/vnd.jupyter.widget-view+json": {
       "model_id": "",
       "version_major": 2,
       "version_minor": 0
      },
      "text/plain": [
       "Validation: 0it [00:00, ?it/s]"
      ]
     },
     "metadata": {},
     "output_type": "display_data"
    },
    {
     "name": "stderr",
     "output_type": "stream",
     "text": [
      "Epoch 39, global step 1680: 'val_acc' was not in top 1\n"
     ]
    },
    {
     "name": "stdout",
     "output_type": "stream",
     "text": [
      "./reports/2022-06-09070928.007058_ce_512_1_0.2_0.0003\n"
     ]
    },
    {
     "name": "stderr",
     "output_type": "stream",
     "text": [
      "LOCAL_RANK: 0 - CUDA_VISIBLE_DEVICES: [0,1,2,3,4,5,6,7]\n"
     ]
    },
    {
     "data": {
      "application/vnd.jupyter.widget-view+json": {
       "model_id": "d3b39c7607534408b298f98ddc6a33b3",
       "version_major": 2,
       "version_minor": 0
      },
      "text/plain": [
       "Testing: 0it [00:00, ?it/s]"
      ]
     },
     "metadata": {},
     "output_type": "display_data"
    },
    {
     "name": "stdout",
     "output_type": "stream",
     "text": [
      "────────────────────────────────────────────────────────────────────────────────────────────────────────────────────────\n",
      "       Test metric             DataLoader 0\n",
      "────────────────────────────────────────────────────────────────────────────────────────────────────────────────────────\n",
      "      test_F1_score         0.6441527605056763\n",
      "      test_accuracy         0.7956403493881226\n",
      "       test_kappa           0.6943648457527161\n",
      "        test_loss           0.5954746007919312\n",
      "────────────────────────────────────────────────────────────────────────────────────────────────────────────────────────\n"
     ]
    },
    {
     "name": "stderr",
     "output_type": "stream",
     "text": [
      "100%|███████████████████████████████████████████████████████████████████████████████████████████████████████████████████████████████████████████████████████████████████████| 367/367 [00:31<00:00, 11.77it/s]\n",
      "100%|███████████████████████████████████████████████████████████████████████████████████████████████████████████████████████████████████████████████████████████████████████| 659/659 [00:46<00:00, 14.05it/s]\n"
     ]
    },
    {
     "data": {
      "image/png": "[encoded data removed]",
      "text/plain": [
       "<Figure size 432x288 with 1 Axes>"
      ]
     },
     "metadata": {
      "needs_background": "light"
     },
     "output_type": "display_data"
    },
    {
     "data": {
      "image/png": "[encoded data removed]",
      "text/plain": [
       "<Figure size 432x288 with 1 Axes>"
      ]
     },
     "metadata": {
      "needs_background": "light"
     },
     "output_type": "display_data"
    },
    {
     "data": {
      "text/html": [
       "Waiting for W&B process to finish... <strong style=\"color:green\">(success).</strong>"
      ],
      "text/plain": [
       "<IPython.core.display.HTML object>"
      ]
     },
     "metadata": {},
     "output_type": "display_data"
    },
    {
     "data": {
      "application/vnd.jupyter.widget-view+json": {
       "model_id": "",
       "version_major": 2,
       "version_minor": 0
      },
      "text/plain": [
       "VBox(children=(Label(value='0.021 MB of 0.021 MB uploaded (0.000 MB deduped)\\r'), FloatProgress(value=1.0, max…"
      ]
     },
     "metadata": {},
     "output_type": "display_data"
    },
    {
     "data": {
      "text/html": [
       "<style>\n",
       "    table.wandb td:nth-child(1) { padding: 0 10px; text-align: left ; width: auto;} td:nth-child(2) {text-align: left ; width: 100%}\n",
       "    .wandb-row { display: flex; flex-direction: row; flex-wrap: wrap; justify-content: flex-start; width: 100% }\n",
       "    .wandb-col { display: flex; flex-direction: column; flex-basis: 100%; flex: 1; padding: 10px; }\n",
       "    </style>\n",
       "<div class=\"wandb-row\"><div class=\"wandb-col\"><h3>Run history:</h3><br/><table class=\"wandb\"><tr><td>epoch</td><td>▁▁▁▂▂▂▂▂▂▃▃▃▃▃▃▄▄▄▄▅▅▅▅▅▅▆▆▆▆▆▆▇▇▇▇▇▇███</td></tr><tr><td>test_F1_score</td><td>▁</td></tr><tr><td>test_accuracy</td><td>▁</td></tr><tr><td>test_kappa</td><td>▁</td></tr><tr><td>test_loss</td><td>▁</td></tr><tr><td>train_acc_epoch</td><td>▁▂▃▄▄▄▅▅▅▆▆▆▆▆▆▆▆▇▇▇▇▇▇▇▇▇▇█████████████</td></tr><tr><td>train_acc_step</td><td>▃▂▁▃▄▆▆▄▃▅▃▅▅▅▆▅▅▆▅▆▁▇▅▅█▇▅▇▆▅▇▇▇</td></tr><tr><td>train_kappa_epoch</td><td>▁▂▃▄▄▄▅▅▅▆▆▆▆▆▆▆▆▇▇▇▇▇▇▇▇▇▇█████████████</td></tr><tr><td>train_kappa_step</td><td>▃▂▁▃▄▆▆▄▃▅▃▅▅▅▆▅▆▆▅▆▁▇▅▅█▇▅▇▆▅▇▇▇</td></tr><tr><td>train_loss_epoch</td><td>█▇▆▅▅▅▄▅▄▄▃▃▃▃▃▃▃▃▂▂▂▂▂▂▂▂▁▁▁▁▁▁▁▁▁▁▁▁▁▁</td></tr><tr><td>train_loss_step</td><td>▇▇█▅▅▄▃▄▄▄▅▄▃▄▄▃▂▃▃▃▆▂▃▃▁▁▃▂▃▄▁▂▃</td></tr><tr><td>trainer/global_step</td><td>▁▁▁▁▂▂▂▂▂▃▃▃▃▃▄▄▄▄▄▄▅▅▅▅▅▅▆▆▆▆▆▇▇▇▇▇▇███</td></tr><tr><td>val_acc</td><td>▁▁▂▄▅▅▄▅▆▆▆▅▆▆▇▆▇▇█▇▇▇█▇▇█▇▇▇██▇▇▇██████</td></tr><tr><td>val_kappa</td><td>▁▁▃▄▅▅▅▅▇▆▆▆▇▇▇▇▇▇█▇▇▇█▇███▇▇██▇▇███████</td></tr><tr><td>val_loss</td><td>▆█▆▄▃▃▄▃▂▃▂▃▂▂▁▂▁▁▂▂▁▂▂▁▁▁▁▂▂▁▁▂▂▂▂▂▂▂▂▂</td></tr><tr><td>valid_F1_score</td><td>▁▁▃▄▅▅▅▄▇▇▆▅▇▆▆▆▇▆█▆▇▇█▇███▇▇▇▇▇▇▇▇▇▇▇██</td></tr></table><br/></div><div class=\"wandb-col\"><h3>Run summary:</h3><br/><table class=\"wandb\"><tr><td>epoch</td><td>40</td></tr><tr><td>test_F1_score</td><td>0.64415</td></tr><tr><td>test_accuracy</td><td>0.79564</td></tr><tr><td>test_kappa</td><td>0.69436</td></tr><tr><td>test_loss</td><td>0.59547</td></tr><tr><td>train_acc_epoch</td><td>0.79894</td></tr><tr><td>train_acc_step</td><td>0.8125</td></tr><tr><td>train_kappa_epoch</td><td>0.74707</td></tr><tr><td>train_kappa_step</td><td>0.76362</td></tr><tr><td>train_loss_epoch</td><td>0.53784</td></tr><tr><td>train_loss_step</td><td>0.57788</td></tr><tr><td>trainer/global_step</td><td>1680</td></tr><tr><td>val_acc</td><td>0.79514</td></tr><tr><td>val_kappa</td><td>0.6838</td></tr><tr><td>val_loss</td><td>0.66055</td></tr><tr><td>valid_F1_score</td><td>0.60637</td></tr></table><br/></div></div>"
      ],
      "text/plain": [
       "<IPython.core.display.HTML object>"
      ]
     },
     "metadata": {},
     "output_type": "display_data"
    },
    {
     "data": {
      "text/html": [
       "Synced <strong style=\"color:#cdcd00\">dandy-snowflake-19</strong>: <a href=\"https://wandb.ai/dineswar_alt/Aptos_/runs/1jamc721\" target=\"_blank\">https://wandb.ai/dineswar_alt/Aptos_/runs/1jamc721</a><br/>Synced 6 W&B file(s), 1 media file(s), 0 artifact file(s) and 0 other file(s)"
      ],
      "text/plain": [
       "<IPython.core.display.HTML object>"
      ]
     },
     "metadata": {},
     "output_type": "display_data"
    },
    {
     "data": {
      "text/html": [
       "Find logs at: <code>./wandb/run-20220609_070928-1jamc721/logs</code>"
      ],
      "text/plain": [
       "<IPython.core.display.HTML object>"
      ]
     },
     "metadata": {},
     "output_type": "display_data"
    },
    {
     "name": "stdout",
     "output_type": "stream",
     "text": [
      "[0 1 3 4 0 0 0 4 2 2 0 0 2 2 2 0 0 0 0 0 0 0 4 1 1 2 2 1 1 0 2 2 0 0 0 4 0\n",
      " 0 2 0 4 4 0 1 2 4 0 3 0 2 0 2 0 3 0 2 0 0 2 2 4 3 2 0 2 0 0 0 0 0 1 0 2 2\n",
      " 2 0 0 0 2 0 0 0 2 1 2 2 0 2 0 0 4 0 0 4 2 0 3 4 0 0 0 3 0 2 0 2 0 2 0 1 2\n",
      " 4 2 2 0 2 1 2 0 0 0 2 1 2 2 0 0 0 2 2 0 4 0 0 0 2 0 0 0 0 2 4 1 2 1 2 2 0\n",
      " 3 4 0 0 0 0 0 0 0 3 2 0 0 0 0 1 0 0 0 0 2 0 0 4 0 2 0 2 0 0 2 0 0 0 3 2 0\n",
      " 0 0 0 0 0 2 3 0 2 2 4 3 3 4 4 4 0 0 2 0 3 1 0 2 1 2 0 2 0 2 2 0 0 2 0 3 2\n",
      " 0 2 0 1 1 0 2 0 2 2 0 4 0 2 0 4 2 2 0 0 2 0 2 1 1 0 2 0 2 0 2 1 4 3 1 0 0\n",
      " 0 0 0 2 0 1 4 0 2 2 2 1 0 0 0 2 0 0 0 3 4 0 2 4 1 0 3 2 0 0 2 1 0 2 0 1 0\n",
      " 2 2 2 1 2 3 1 4 0 2 0 0 0 2 0 0 4 0 0 0 1 2 0 2 0 1 2 0 2 0 2 2 0 1 4 0 2\n",
      " 0 2 4 0 0 2 2 2 2 0 1 0 0 2 0 0 2 2 0 0 0 1 0 0 2 2 0 0 4 4 0 4 2 2]\n",
      "[2 0 0 0 2 0 0 0 2 2 1 2 2 0 2 2 0 3 2 0 0 2 4 1 0 0 4 1 0 2 0 2 0 0 2 0 0\n",
      " 0 2 2 0 0 0 0 0 2 2 0 4 0 0 1 2 4 2 0 0 2 2 1 4 0 0 0 0 0 2 1 1 0 0 2 2 0\n",
      " 2 0 0 0 2 0 1 0 0 2 0 0 1 0 0 0 0 2 2 0 2 1 4 0 0 0 0 2 2 0 0 2 0 4 1 0 4\n",
      " 1 2 0 4 3 4 4 0 2 0 1 2 4 0 0 0 0 0 2 4 0 2 2 2 0 4 0 2 2 0 0 0 0 0 1 0 2\n",
      " 0 0 0 0 2 3 0 0 2 2 4 0 1 2 0 0 0 1 0 3 4 0 1 0 0 0 0 2 3 0 2 2 2 0 0 2 0\n",
      " 1 2 2 2 1 2 3 0 0 2 1 4 0 0 4 0 2 0 0 2 3 4 2 1 0 0 0 0 0 2 0 0 0 2 2 0 0\n",
      " 3 2 2 0 2 0 2 4 0 0 3 3 2 4 0 0 0 0 0 3 2 0 2 0 1 0 4 3 0 1 0 0 2 1 0 2 0\n",
      " 2 1 0 0 2 0 2 2 2 0 1 2 2 0 2 2 0 2 0 2 4 1 2 1 2 0 0 4 1 2 4 2 1 0 3 4 0\n",
      " 0 0 0 0 0 4 0 2 2 3 3 2 0 2 1 2 1 0 2 3 2 2 2 3 0 3 0 2 1 0 0 0 0 2 4 0 2\n",
      " 0 0 0 0 3 4 0 0 2 1 1 1 4 2 0 0 2 3 0 0 0 0 4 0 0 0 0 0 0 1 0 0 1 0 2 2 2\n",
      " 0 1 1 0 0 1 2 2 0 2 0 0 2 2 0 0 0 4 0 0 1 2 0 0 0 2 2 2 2 2 2 4 0 0 2 2 0\n",
      " 0 0 0 0 1 0 0 1 2 4 0 2 4 0 2 0 2 0 2 1 0 0 0 0 1 0 0 0 0 0 0 2 0 0 2 0 4\n",
      " 0 0 2 0 4 0 2 4 2 0 0 2 0 1 0 2 0 0 2 0 3 3 0 1 0 0 2 0 1 0 3 1 0 0 1 2 2\n",
      " 0 2 2 0 2 0 4 4 2 4 0 1 0 2 0 3 0 3 0 0 0 4 3 0 0 0 0 4 2 0 2 1 2 0 0 1 2\n",
      " 0 0 1 2 3 4 0 2 2 2 0 2 2 2 0 0 2 2 0 2 0 0 0 0 0 0 0 0 0 4 2 2 0 2 2 0 1\n",
      " 0 0 0 0 0 0 0 0 0 0 0 2 3 0 2 4 1 0 0 0 0 0 4 2 1 0 0 0 2 0 0 0 0 2 0 2 0\n",
      " 4 2 1 1 0 2 0 0 1 0 2 2 1 1 0 0 0 0 3 0 0 0 0 0 0 0 4 3 0 2 2 0 0 0 3 3 2\n",
      " 1 0 4 1 2 0 2 4 2 1 3 0 2 0 0 1 4 3 0 3 4 2 2 0 0 0 2 0 0 0]\n",
      "Fold 3\n"
     ]
    },
    {
     "name": "stderr",
     "output_type": "stream",
     "text": [
      "100%|█████████████████████████████████████████████████████████████████████████████████████████████████████████████████████████████████████████████████████████████████████| 2636/2636 [03:44<00:00, 11.73it/s]\n",
      "Global seed set to 27\n"
     ]
    },
    {
     "data": {
      "text/html": [
       "Changes to your `wandb` environment variables will be ignored because your `wandb` session has already started. For more information on how to modify your settings with `wandb.init()` arguments, please refer to <a href=\"https://wandb.me/wandb-init\" target=\"_blank\">the W&B docs</a>."
      ],
      "text/plain": [
       "<IPython.core.display.HTML object>"
      ]
     },
     "metadata": {},
     "output_type": "display_data"
    },
    {
     "data": {
      "text/html": [
       "Tracking run with wandb version 0.12.17"
      ],
      "text/plain": [
       "<IPython.core.display.HTML object>"
      ]
     },
     "metadata": {},
     "output_type": "display_data"
    },
    {
     "data": {
      "text/html": [
       "Run data is saved locally in <code>/nlsasfs/home/diabeticr/dineshm/wandb/run-20220609_081011-33x961om</code>"
      ],
      "text/plain": [
       "<IPython.core.display.HTML object>"
      ]
     },
     "metadata": {},
     "output_type": "display_data"
    },
    {
     "data": {
      "text/html": [
       "Syncing run <strong><a href=\"https://wandb.ai/dineswar_alt/Aptos_/runs/33x961om\" target=\"_blank\">polished-sunset-20</a></strong> to <a href=\"https://wandb.ai/dineswar_alt/Aptos_\" target=\"_blank\">Weights & Biases</a> (<a href=\"https://wandb.me/run\" target=\"_blank\">docs</a>)<br/>"
      ],
      "text/plain": [
       "<IPython.core.display.HTML object>"
      ]
     },
     "metadata": {},
     "output_type": "display_data"
    },
    {
     "name": "stderr",
     "output_type": "stream",
     "text": [
      "GPU available: True, used: True\n",
      "TPU available: False, using: 0 TPU cores\n",
      "IPU available: False, using: 0 IPUs\n",
      "HPU available: False, using: 0 HPUs\n",
      "\u001b[34m\u001b[1mwandb\u001b[0m: logging graph, to disable use `wandb.watch(log_graph=False)`\n",
      "GPU available: True, used: True\n",
      "TPU available: False, using: 0 TPU cores\n",
      "IPU available: False, using: 0 IPUs\n",
      "HPU available: False, using: 0 HPUs\n",
      "LOCAL_RANK: 0 - CUDA_VISIBLE_DEVICES: [0,1,2,3,4,5,6,7]\n",
      "\n",
      "  | Name        | Type       | Params\n",
      "-------------------------------------------\n",
      "0 | accuracy    | Accuracy   | 0     \n",
      "1 | metric      | F1Score    | 0     \n",
      "2 | kappametric | CohenKappa | 0     \n",
      "3 | model       | ModelCE    | 24.6 M\n",
      "-------------------------------------------\n",
      "24.6 M    Trainable params\n",
      "0         Non-trainable params\n",
      "24.6 M    Total params\n",
      "98.259    Total estimated model params size (MB)\n"
     ]
    },
    {
     "data": {
      "application/vnd.jupyter.widget-view+json": {
       "model_id": "",
       "version_major": 2,
       "version_minor": 0
      },
      "text/plain": [
       "Sanity Checking: 0it [00:00, ?it/s]"
      ]
     },
     "metadata": {},
     "output_type": "display_data"
    },
    {
     "data": {
      "application/vnd.jupyter.widget-view+json": {
       "model_id": "d6183f1e41984f768f8ffc4f59ecd977",
       "version_major": 2,
       "version_minor": 0
      },
      "text/plain": [
       "Training: 0it [00:00, ?it/s]"
      ]
     },
     "metadata": {},
     "output_type": "display_data"
    },
    {
     "data": {
      "application/vnd.jupyter.widget-view+json": {
       "model_id": "",
       "version_major": 2,
       "version_minor": 0
      },
      "text/plain": [
       "Validation: 0it [00:00, ?it/s]"
      ]
     },
     "metadata": {},
     "output_type": "display_data"
    },
    {
     "name": "stderr",
     "output_type": "stream",
     "text": [
      "Epoch 0, global step 42: 'val_acc' reached 0.64492 (best 0.64492), saving model to '/nlsasfs/home/diabeticr/dineshm/reports/2022-06-09081011.173936_ce_512_1_0.2_0.0003.ckpt' as top 1\n"
     ]
    },
    {
     "data": {
      "application/vnd.jupyter.widget-view+json": {
       "model_id": "",
       "version_major": 2,
       "version_minor": 0
      },
      "text/plain": [
       "Validation: 0it [00:00, ?it/s]"
      ]
     },
     "metadata": {},
     "output_type": "display_data"
    },
    {
     "name": "stderr",
     "output_type": "stream",
     "text": [
      "Epoch 1, global step 84: 'val_acc' was not in top 1\n"
     ]
    },
    {
     "data": {
      "application/vnd.jupyter.widget-view+json": {
       "model_id": "",
       "version_major": 2,
       "version_minor": 0
      },
      "text/plain": [
       "Validation: 0it [00:00, ?it/s]"
      ]
     },
     "metadata": {},
     "output_type": "display_data"
    },
    {
     "name": "stderr",
     "output_type": "stream",
     "text": [
      "Epoch 2, global step 126: 'val_acc' reached 0.66161 (best 0.66161), saving model to '/nlsasfs/home/diabeticr/dineshm/reports/2022-06-09081011.173936_ce_512_1_0.2_0.0003.ckpt' as top 1\n"
     ]
    },
    {
     "data": {
      "application/vnd.jupyter.widget-view+json": {
       "model_id": "",
       "version_major": 2,
       "version_minor": 0
      },
      "text/plain": [
       "Validation: 0it [00:00, ?it/s]"
      ]
     },
     "metadata": {},
     "output_type": "display_data"
    },
    {
     "name": "stderr",
     "output_type": "stream",
     "text": [
      "Epoch 3, global step 168: 'val_acc' was not in top 1\n"
     ]
    },
    {
     "data": {
      "application/vnd.jupyter.widget-view+json": {
       "model_id": "",
       "version_major": 2,
       "version_minor": 0
      },
      "text/plain": [
       "Validation: 0it [00:00, ?it/s]"
      ]
     },
     "metadata": {},
     "output_type": "display_data"
    },
    {
     "name": "stderr",
     "output_type": "stream",
     "text": [
      "Epoch 4, global step 210: 'val_acc' reached 0.70106 (best 0.70106), saving model to '/nlsasfs/home/diabeticr/dineshm/reports/2022-06-09081011.173936_ce_512_1_0.2_0.0003.ckpt' as top 1\n"
     ]
    },
    {
     "data": {
      "application/vnd.jupyter.widget-view+json": {
       "model_id": "",
       "version_major": 2,
       "version_minor": 0
      },
      "text/plain": [
       "Validation: 0it [00:00, ?it/s]"
      ]
     },
     "metadata": {},
     "output_type": "display_data"
    },
    {
     "name": "stderr",
     "output_type": "stream",
     "text": [
      "Epoch 5, global step 252: 'val_acc' reached 0.74659 (best 0.74659), saving model to '/nlsasfs/home/diabeticr/dineshm/reports/2022-06-09081011.173936_ce_512_1_0.2_0.0003.ckpt' as top 1\n"
     ]
    },
    {
     "data": {
      "application/vnd.jupyter.widget-view+json": {
       "model_id": "",
       "version_major": 2,
       "version_minor": 0
      },
      "text/plain": [
       "Validation: 0it [00:00, ?it/s]"
      ]
     },
     "metadata": {},
     "output_type": "display_data"
    },
    {
     "name": "stderr",
     "output_type": "stream",
     "text": [
      "Epoch 6, global step 294: 'val_acc' was not in top 1\n"
     ]
    },
    {
     "data": {
      "application/vnd.jupyter.widget-view+json": {
       "model_id": "",
       "version_major": 2,
       "version_minor": 0
      },
      "text/plain": [
       "Validation: 0it [00:00, ?it/s]"
      ]
     },
     "metadata": {},
     "output_type": "display_data"
    },
    {
     "name": "stderr",
     "output_type": "stream",
     "text": [
      "Epoch 7, global step 336: 'val_acc' was not in top 1\n"
     ]
    },
    {
     "data": {
      "application/vnd.jupyter.widget-view+json": {
       "model_id": "",
       "version_major": 2,
       "version_minor": 0
      },
      "text/plain": [
       "Validation: 0it [00:00, ?it/s]"
      ]
     },
     "metadata": {},
     "output_type": "display_data"
    },
    {
     "name": "stderr",
     "output_type": "stream",
     "text": [
      "Epoch 8, global step 378: 'val_acc' was not in top 1\n"
     ]
    },
    {
     "data": {
      "application/vnd.jupyter.widget-view+json": {
       "model_id": "",
       "version_major": 2,
       "version_minor": 0
      },
      "text/plain": [
       "Validation: 0it [00:00, ?it/s]"
      ]
     },
     "metadata": {},
     "output_type": "display_data"
    },
    {
     "name": "stderr",
     "output_type": "stream",
     "text": [
      "Epoch 9, global step 420: 'val_acc' was not in top 1\n"
     ]
    },
    {
     "data": {
      "application/vnd.jupyter.widget-view+json": {
       "model_id": "",
       "version_major": 2,
       "version_minor": 0
      },
      "text/plain": [
       "Validation: 0it [00:00, ?it/s]"
      ]
     },
     "metadata": {},
     "output_type": "display_data"
    },
    {
     "name": "stderr",
     "output_type": "stream",
     "text": [
      "Epoch 10, global step 462: 'val_acc' reached 0.76631 (best 0.76631), saving model to '/nlsasfs/home/diabeticr/dineshm/reports/2022-06-09081011.173936_ce_512_1_0.2_0.0003.ckpt' as top 1\n"
     ]
    },
    {
     "data": {
      "application/vnd.jupyter.widget-view+json": {
       "model_id": "",
       "version_major": 2,
       "version_minor": 0
      },
      "text/plain": [
       "Validation: 0it [00:00, ?it/s]"
      ]
     },
     "metadata": {},
     "output_type": "display_data"
    },
    {
     "name": "stderr",
     "output_type": "stream",
     "text": [
      "Epoch 11, global step 504: 'val_acc' was not in top 1\n"
     ]
    },
    {
     "data": {
      "application/vnd.jupyter.widget-view+json": {
       "model_id": "",
       "version_major": 2,
       "version_minor": 0
      },
      "text/plain": [
       "Validation: 0it [00:00, ?it/s]"
      ]
     },
     "metadata": {},
     "output_type": "display_data"
    },
    {
     "name": "stderr",
     "output_type": "stream",
     "text": [
      "Epoch 12, global step 546: 'val_acc' reached 0.77542 (best 0.77542), saving model to '/nlsasfs/home/diabeticr/dineshm/reports/2022-06-09081011.173936_ce_512_1_0.2_0.0003.ckpt' as top 1\n"
     ]
    },
    {
     "data": {
      "application/vnd.jupyter.widget-view+json": {
       "model_id": "",
       "version_major": 2,
       "version_minor": 0
      },
      "text/plain": [
       "Validation: 0it [00:00, ?it/s]"
      ]
     },
     "metadata": {},
     "output_type": "display_data"
    },
    {
     "name": "stderr",
     "output_type": "stream",
     "text": [
      "Epoch 13, global step 588: 'val_acc' was not in top 1\n"
     ]
    },
    {
     "data": {
      "application/vnd.jupyter.widget-view+json": {
       "model_id": "",
       "version_major": 2,
       "version_minor": 0
      },
      "text/plain": [
       "Validation: 0it [00:00, ?it/s]"
      ]
     },
     "metadata": {},
     "output_type": "display_data"
    },
    {
     "name": "stderr",
     "output_type": "stream",
     "text": [
      "Epoch 14, global step 630: 'val_acc' was not in top 1\n"
     ]
    },
    {
     "data": {
      "application/vnd.jupyter.widget-view+json": {
       "model_id": "",
       "version_major": 2,
       "version_minor": 0
      },
      "text/plain": [
       "Validation: 0it [00:00, ?it/s]"
      ]
     },
     "metadata": {},
     "output_type": "display_data"
    },
    {
     "name": "stderr",
     "output_type": "stream",
     "text": [
      "Epoch 15, global step 672: 'val_acc' was not in top 1\n"
     ]
    },
    {
     "data": {
      "application/vnd.jupyter.widget-view+json": {
       "model_id": "",
       "version_major": 2,
       "version_minor": 0
      },
      "text/plain": [
       "Validation: 0it [00:00, ?it/s]"
      ]
     },
     "metadata": {},
     "output_type": "display_data"
    },
    {
     "name": "stderr",
     "output_type": "stream",
     "text": [
      "Epoch 16, global step 714: 'val_acc' was not in top 1\n"
     ]
    },
    {
     "data": {
      "application/vnd.jupyter.widget-view+json": {
       "model_id": "",
       "version_major": 2,
       "version_minor": 0
      },
      "text/plain": [
       "Validation: 0it [00:00, ?it/s]"
      ]
     },
     "metadata": {},
     "output_type": "display_data"
    },
    {
     "name": "stderr",
     "output_type": "stream",
     "text": [
      "Epoch 17, global step 756: 'val_acc' was not in top 1\n"
     ]
    },
    {
     "data": {
      "application/vnd.jupyter.widget-view+json": {
       "model_id": "",
       "version_major": 2,
       "version_minor": 0
      },
      "text/plain": [
       "Validation: 0it [00:00, ?it/s]"
      ]
     },
     "metadata": {},
     "output_type": "display_data"
    },
    {
     "name": "stderr",
     "output_type": "stream",
     "text": [
      "Epoch 18, global step 798: 'val_acc' was not in top 1\n"
     ]
    },
    {
     "data": {
      "application/vnd.jupyter.widget-view+json": {
       "model_id": "",
       "version_major": 2,
       "version_minor": 0
      },
      "text/plain": [
       "Validation: 0it [00:00, ?it/s]"
      ]
     },
     "metadata": {},
     "output_type": "display_data"
    },
    {
     "name": "stderr",
     "output_type": "stream",
     "text": [
      "Epoch 19, global step 840: 'val_acc' was not in top 1\n"
     ]
    },
    {
     "data": {
      "application/vnd.jupyter.widget-view+json": {
       "model_id": "",
       "version_major": 2,
       "version_minor": 0
      },
      "text/plain": [
       "Validation: 0it [00:00, ?it/s]"
      ]
     },
     "metadata": {},
     "output_type": "display_data"
    },
    {
     "name": "stderr",
     "output_type": "stream",
     "text": [
      "Epoch 20, global step 882: 'val_acc' was not in top 1\n"
     ]
    },
    {
     "data": {
      "application/vnd.jupyter.widget-view+json": {
       "model_id": "",
       "version_major": 2,
       "version_minor": 0
      },
      "text/plain": [
       "Validation: 0it [00:00, ?it/s]"
      ]
     },
     "metadata": {},
     "output_type": "display_data"
    },
    {
     "name": "stderr",
     "output_type": "stream",
     "text": [
      "Epoch 21, global step 924: 'val_acc' was not in top 1\n"
     ]
    },
    {
     "data": {
      "application/vnd.jupyter.widget-view+json": {
       "model_id": "",
       "version_major": 2,
       "version_minor": 0
      },
      "text/plain": [
       "Validation: 0it [00:00, ?it/s]"
      ]
     },
     "metadata": {},
     "output_type": "display_data"
    },
    {
     "name": "stderr",
     "output_type": "stream",
     "text": [
      "Epoch 22, global step 966: 'val_acc' reached 0.78756 (best 0.78756), saving model to '/nlsasfs/home/diabeticr/dineshm/reports/2022-06-09081011.173936_ce_512_1_0.2_0.0003.ckpt' as top 1\n"
     ]
    },
    {
     "data": {
      "application/vnd.jupyter.widget-view+json": {
       "model_id": "",
       "version_major": 2,
       "version_minor": 0
      },
      "text/plain": [
       "Validation: 0it [00:00, ?it/s]"
      ]
     },
     "metadata": {},
     "output_type": "display_data"
    },
    {
     "name": "stderr",
     "output_type": "stream",
     "text": [
      "Epoch 23, global step 1008: 'val_acc' was not in top 1\n"
     ]
    },
    {
     "data": {
      "application/vnd.jupyter.widget-view+json": {
       "model_id": "",
       "version_major": 2,
       "version_minor": 0
      },
      "text/plain": [
       "Validation: 0it [00:00, ?it/s]"
      ]
     },
     "metadata": {},
     "output_type": "display_data"
    },
    {
     "name": "stderr",
     "output_type": "stream",
     "text": [
      "Epoch 24, global step 1050: 'val_acc' was not in top 1\n"
     ]
    },
    {
     "data": {
      "application/vnd.jupyter.widget-view+json": {
       "model_id": "",
       "version_major": 2,
       "version_minor": 0
      },
      "text/plain": [
       "Validation: 0it [00:00, ?it/s]"
      ]
     },
     "metadata": {},
     "output_type": "display_data"
    },
    {
     "name": "stderr",
     "output_type": "stream",
     "text": [
      "Epoch 25, global step 1092: 'val_acc' was not in top 1\n"
     ]
    },
    {
     "data": {
      "application/vnd.jupyter.widget-view+json": {
       "model_id": "",
       "version_major": 2,
       "version_minor": 0
      },
      "text/plain": [
       "Validation: 0it [00:00, ?it/s]"
      ]
     },
     "metadata": {},
     "output_type": "display_data"
    },
    {
     "name": "stderr",
     "output_type": "stream",
     "text": [
      "Epoch 26, global step 1134: 'val_acc' was not in top 1\n"
     ]
    },
    {
     "data": {
      "application/vnd.jupyter.widget-view+json": {
       "model_id": "",
       "version_major": 2,
       "version_minor": 0
      },
      "text/plain": [
       "Validation: 0it [00:00, ?it/s]"
      ]
     },
     "metadata": {},
     "output_type": "display_data"
    },
    {
     "name": "stderr",
     "output_type": "stream",
     "text": [
      "Epoch 27, global step 1176: 'val_acc' was not in top 1\n"
     ]
    },
    {
     "data": {
      "application/vnd.jupyter.widget-view+json": {
       "model_id": "",
       "version_major": 2,
       "version_minor": 0
      },
      "text/plain": [
       "Validation: 0it [00:00, ?it/s]"
      ]
     },
     "metadata": {},
     "output_type": "display_data"
    },
    {
     "name": "stderr",
     "output_type": "stream",
     "text": [
      "Epoch 28, global step 1218: 'val_acc' was not in top 1\n"
     ]
    },
    {
     "data": {
      "application/vnd.jupyter.widget-view+json": {
       "model_id": "",
       "version_major": 2,
       "version_minor": 0
      },
      "text/plain": [
       "Validation: 0it [00:00, ?it/s]"
      ]
     },
     "metadata": {},
     "output_type": "display_data"
    },
    {
     "name": "stderr",
     "output_type": "stream",
     "text": [
      "Epoch 29, global step 1260: 'val_acc' was not in top 1\n"
     ]
    },
    {
     "data": {
      "application/vnd.jupyter.widget-view+json": {
       "model_id": "",
       "version_major": 2,
       "version_minor": 0
      },
      "text/plain": [
       "Validation: 0it [00:00, ?it/s]"
      ]
     },
     "metadata": {},
     "output_type": "display_data"
    },
    {
     "name": "stderr",
     "output_type": "stream",
     "text": [
      "Epoch 30, global step 1302: 'val_acc' was not in top 1\n"
     ]
    },
    {
     "data": {
      "application/vnd.jupyter.widget-view+json": {
       "model_id": "",
       "version_major": 2,
       "version_minor": 0
      },
      "text/plain": [
       "Validation: 0it [00:00, ?it/s]"
      ]
     },
     "metadata": {},
     "output_type": "display_data"
    },
    {
     "name": "stderr",
     "output_type": "stream",
     "text": [
      "Epoch 31, global step 1344: 'val_acc' was not in top 1\n"
     ]
    },
    {
     "data": {
      "application/vnd.jupyter.widget-view+json": {
       "model_id": "",
       "version_major": 2,
       "version_minor": 0
      },
      "text/plain": [
       "Validation: 0it [00:00, ?it/s]"
      ]
     },
     "metadata": {},
     "output_type": "display_data"
    },
    {
     "name": "stderr",
     "output_type": "stream",
     "text": [
      "Epoch 32, global step 1386: 'val_acc' was not in top 1\n"
     ]
    },
    {
     "data": {
      "application/vnd.jupyter.widget-view+json": {
       "model_id": "",
       "version_major": 2,
       "version_minor": 0
      },
      "text/plain": [
       "Validation: 0it [00:00, ?it/s]"
      ]
     },
     "metadata": {},
     "output_type": "display_data"
    },
    {
     "name": "stderr",
     "output_type": "stream",
     "text": [
      "Epoch 33, global step 1428: 'val_acc' was not in top 1\n"
     ]
    },
    {
     "data": {
      "application/vnd.jupyter.widget-view+json": {
       "model_id": "",
       "version_major": 2,
       "version_minor": 0
      },
      "text/plain": [
       "Validation: 0it [00:00, ?it/s]"
      ]
     },
     "metadata": {},
     "output_type": "display_data"
    },
    {
     "name": "stderr",
     "output_type": "stream",
     "text": [
      "Epoch 34, global step 1470: 'val_acc' was not in top 1\n"
     ]
    },
    {
     "data": {
      "application/vnd.jupyter.widget-view+json": {
       "model_id": "",
       "version_major": 2,
       "version_minor": 0
      },
      "text/plain": [
       "Validation: 0it [00:00, ?it/s]"
      ]
     },
     "metadata": {},
     "output_type": "display_data"
    },
    {
     "name": "stderr",
     "output_type": "stream",
     "text": [
      "Epoch 35, global step 1512: 'val_acc' was not in top 1\n"
     ]
    },
    {
     "data": {
      "application/vnd.jupyter.widget-view+json": {
       "model_id": "",
       "version_major": 2,
       "version_minor": 0
      },
      "text/plain": [
       "Validation: 0it [00:00, ?it/s]"
      ]
     },
     "metadata": {},
     "output_type": "display_data"
    },
    {
     "name": "stderr",
     "output_type": "stream",
     "text": [
      "Epoch 36, global step 1554: 'val_acc' was not in top 1\n"
     ]
    },
    {
     "data": {
      "application/vnd.jupyter.widget-view+json": {
       "model_id": "",
       "version_major": 2,
       "version_minor": 0
      },
      "text/plain": [
       "Validation: 0it [00:00, ?it/s]"
      ]
     },
     "metadata": {},
     "output_type": "display_data"
    },
    {
     "name": "stderr",
     "output_type": "stream",
     "text": [
      "Epoch 37, global step 1596: 'val_acc' was not in top 1\n"
     ]
    },
    {
     "data": {
      "application/vnd.jupyter.widget-view+json": {
       "model_id": "",
       "version_major": 2,
       "version_minor": 0
      },
      "text/plain": [
       "Validation: 0it [00:00, ?it/s]"
      ]
     },
     "metadata": {},
     "output_type": "display_data"
    },
    {
     "name": "stderr",
     "output_type": "stream",
     "text": [
      "Epoch 38, global step 1638: 'val_acc' was not in top 1\n"
     ]
    },
    {
     "data": {
      "application/vnd.jupyter.widget-view+json": {
       "model_id": "",
       "version_major": 2,
       "version_minor": 0
      },
      "text/plain": [
       "Validation: 0it [00:00, ?it/s]"
      ]
     },
     "metadata": {},
     "output_type": "display_data"
    },
    {
     "name": "stderr",
     "output_type": "stream",
     "text": [
      "Epoch 39, global step 1680: 'val_acc' was not in top 1\n"
     ]
    },
    {
     "name": "stdout",
     "output_type": "stream",
     "text": [
      "./reports/2022-06-09081011.173936_ce_512_1_0.2_0.0003\n"
     ]
    },
    {
     "name": "stderr",
     "output_type": "stream",
     "text": [
      "LOCAL_RANK: 0 - CUDA_VISIBLE_DEVICES: [0,1,2,3,4,5,6,7]\n"
     ]
    },
    {
     "data": {
      "application/vnd.jupyter.widget-view+json": {
       "model_id": "1648fa1d0e7a488f957a8d307688e3e0",
       "version_major": 2,
       "version_minor": 0
      },
      "text/plain": [
       "Testing: 0it [00:00, ?it/s]"
      ]
     },
     "metadata": {},
     "output_type": "display_data"
    },
    {
     "name": "stdout",
     "output_type": "stream",
     "text": [
      "────────────────────────────────────────────────────────────────────────────────────────────────────────────────────────\n",
      "       Test metric             DataLoader 0\n",
      "────────────────────────────────────────────────────────────────────────────────────────────────────────────────────────\n",
      "      test_F1_score         0.6477833986282349\n",
      "      test_accuracy         0.8010899424552917\n",
      "       test_kappa           0.7007890939712524\n",
      "        test_loss           0.5950808525085449\n",
      "────────────────────────────────────────────────────────────────────────────────────────────────────────────────────────\n"
     ]
    },
    {
     "name": "stderr",
     "output_type": "stream",
     "text": [
      "100%|███████████████████████████████████████████████████████████████████████████████████████████████████████████████████████████████████████████████████████████████████████| 367/367 [00:27<00:00, 13.45it/s]\n",
      "100%|███████████████████████████████████████████████████████████████████████████████████████████████████████████████████████████████████████████████████████████████████████| 659/659 [00:48<00:00, 13.71it/s]\n"
     ]
    },
    {
     "data": {
      "image/png": "[encoded data removed]",
      "text/plain": [
       "<Figure size 432x288 with 1 Axes>"
      ]
     },
     "metadata": {
      "needs_background": "light"
     },
     "output_type": "display_data"
    },
    {
     "data": {
      "image/png": "[encoded data removed]",
      "text/plain": [
       "<Figure size 432x288 with 1 Axes>"
      ]
     },
     "metadata": {
      "needs_background": "light"
     },
     "output_type": "display_data"
    },
    {
     "data": {
      "text/html": [
       "Waiting for W&B process to finish... <strong style=\"color:green\">(success).</strong>"
      ],
      "text/plain": [
       "<IPython.core.display.HTML object>"
      ]
     },
     "metadata": {},
     "output_type": "display_data"
    },
    {
     "data": {
      "application/vnd.jupyter.widget-view+json": {
       "model_id": "",
       "version_major": 2,
       "version_minor": 0
      },
      "text/plain": [
       "VBox(children=(Label(value='0.021 MB of 0.021 MB uploaded (0.000 MB deduped)\\r'), FloatProgress(value=1.0, max…"
      ]
     },
     "metadata": {},
     "output_type": "display_data"
    },
    {
     "data": {
      "text/html": [
       "<style>\n",
       "    table.wandb td:nth-child(1) { padding: 0 10px; text-align: left ; width: auto;} td:nth-child(2) {text-align: left ; width: 100%}\n",
       "    .wandb-row { display: flex; flex-direction: row; flex-wrap: wrap; justify-content: flex-start; width: 100% }\n",
       "    .wandb-col { display: flex; flex-direction: column; flex-basis: 100%; flex: 1; padding: 10px; }\n",
       "    </style>\n",
       "<div class=\"wandb-row\"><div class=\"wandb-col\"><h3>Run history:</h3><br/><table class=\"wandb\"><tr><td>epoch</td><td>▁▁▁▂▂▂▂▂▂▃▃▃▃▃▃▄▄▄▄▅▅▅▅▅▅▆▆▆▆▆▆▇▇▇▇▇▇███</td></tr><tr><td>test_F1_score</td><td>▁</td></tr><tr><td>test_accuracy</td><td>▁</td></tr><tr><td>test_kappa</td><td>▁</td></tr><tr><td>test_loss</td><td>▁</td></tr><tr><td>train_acc_epoch</td><td>▁▂▄▄▄▅▄▅▅▅▅▅▆▆▆▆▆▇▆▆▇▇▇▇▇▇▇▇▇▇▇████████▇</td></tr><tr><td>train_acc_step</td><td>▂▂▄▁▂▄▃▄▃▃▇▄▃▅▄▅▄▆▆▅▄▆▅▆▆█▆▇▅▆▇▅▅</td></tr><tr><td>train_kappa_epoch</td><td>▁▂▃▄▄▄▄▅▅▅▅▅▆▆▆▆▆▇▆▆▇▇▇▇▇▇▇▇▇▇▇████████▇</td></tr><tr><td>train_kappa_step</td><td>▂▁▄▁▂▄▃▄▃▃▇▄▃▅▄▅▄▆▆▅▄▆▅▆▆█▆▇▅▆▇▅▅</td></tr><tr><td>train_loss_epoch</td><td>█▇▆▆▅▅▅▅▄▄▄▄▃▃▃▃▃▂▂▂▂▂▂▂▂▂▂▂▂▂▂▁▁▁▁▁▁▁▁▁</td></tr><tr><td>train_loss_step</td><td>█▆▅▇▆▄▅▄▅▅▃▄▄▄▃▃▃▂▂▄▃▂▃▃▂▁▃▂▂▃▁▃▃</td></tr><tr><td>trainer/global_step</td><td>▁▁▁▁▂▂▂▂▂▃▃▃▃▃▄▄▄▄▄▄▅▅▅▅▅▅▆▆▆▆▆▇▇▇▇▇▇███</td></tr><tr><td>val_acc</td><td>▂▁▃▂▄▆▅▆▆▅▇▇█▇▇▇▇▇▇▇▇▇███████▇█▇▇███▇██▇</td></tr><tr><td>val_kappa</td><td>▂▁▄▂▅▇▅▆▆▆▇▇█▇▇▇▇▇▇▇▇▇███████▇██▇███▇██▇</td></tr><tr><td>val_loss</td><td>▅█▅▆▄▃▄▃▃▄▂▂▂▂▃▂▂▂▂▂▂▂▁▁▁▁▁▁▁▂▁▁▂▁▁▁▂▁▁▂</td></tr><tr><td>valid_F1_score</td><td>▂▁▃▂▅▇▆▆▆▆▇▇█▇▇▇▇▇▇█▇▇█▇███▇▇▇▇▇▇▇█▇▇▇█▇</td></tr></table><br/></div><div class=\"wandb-col\"><h3>Run summary:</h3><br/><table class=\"wandb\"><tr><td>epoch</td><td>40</td></tr><tr><td>test_F1_score</td><td>0.64778</td></tr><tr><td>test_accuracy</td><td>0.80109</td></tr><tr><td>test_kappa</td><td>0.70079</td></tr><tr><td>test_loss</td><td>0.59508</td></tr><tr><td>train_acc_epoch</td><td>0.75683</td></tr><tr><td>train_acc_step</td><td>0.73438</td></tr><tr><td>train_kappa_epoch</td><td>0.69438</td></tr><tr><td>train_kappa_step</td><td>0.66839</td></tr><tr><td>train_loss_epoch</td><td>0.59553</td></tr><tr><td>train_loss_step</td><td>0.6053</td></tr><tr><td>trainer/global_step</td><td>1680</td></tr><tr><td>val_acc</td><td>0.7739</td></tr><tr><td>val_kappa</td><td>0.65645</td></tr><tr><td>val_loss</td><td>0.598</td></tr><tr><td>valid_F1_score</td><td>0.61667</td></tr></table><br/></div></div>"
      ],
      "text/plain": [
       "<IPython.core.display.HTML object>"
      ]
     },
     "metadata": {},
     "output_type": "display_data"
    },
    {
     "data": {
      "text/html": [
       "Synced <strong style=\"color:#cdcd00\">polished-sunset-20</strong>: <a href=\"https://wandb.ai/dineswar_alt/Aptos_/runs/33x961om\" target=\"_blank\">https://wandb.ai/dineswar_alt/Aptos_/runs/33x961om</a><br/>Synced 6 W&B file(s), 1 media file(s), 0 artifact file(s) and 0 other file(s)"
      ],
      "text/plain": [
       "<IPython.core.display.HTML object>"
      ]
     },
     "metadata": {},
     "output_type": "display_data"
    },
    {
     "data": {
      "text/html": [
       "Find logs at: <code>./wandb/run-20220609_081011-33x961om/logs</code>"
      ],
      "text/plain": [
       "<IPython.core.display.HTML object>"
      ]
     },
     "metadata": {},
     "output_type": "display_data"
    },
    {
     "name": "stdout",
     "output_type": "stream",
     "text": [
      "[0 1 3 4 0 0 0 4 2 2 0 0 2 2 2 0 0 0 0 0 0 0 4 1 1 2 2 1 1 0 2 2 0 0 0 4 0\n",
      " 0 2 0 4 4 0 1 2 4 0 3 0 2 0 2 0 3 0 2 0 0 2 2 4 3 2 0 2 0 0 0 0 0 1 0 2 2\n",
      " 2 0 0 0 2 0 0 0 2 1 2 2 0 2 0 0 4 0 0 4 2 0 3 4 0 0 0 3 0 2 0 2 0 2 0 1 2\n",
      " 4 2 2 0 2 1 2 0 0 0 2 1 2 2 0 0 0 2 2 0 4 0 0 0 2 0 0 0 0 2 4 1 2 1 2 2 0\n",
      " 3 4 0 0 0 0 0 0 0 3 2 0 0 0 0 1 0 0 0 0 2 0 0 4 0 2 0 2 0 0 2 0 0 0 3 2 0\n",
      " 0 0 0 0 0 2 3 0 2 2 4 3 3 4 4 4 0 0 2 0 3 1 0 2 1 2 0 2 0 2 2 0 0 2 0 3 2\n",
      " 0 2 0 1 1 0 2 0 2 2 0 4 0 2 0 4 2 2 0 0 2 0 2 1 1 0 2 0 2 0 2 1 4 3 1 0 0\n",
      " 0 0 0 2 0 1 4 0 2 2 2 1 0 0 0 2 0 0 0 3 4 0 2 4 1 0 3 2 0 0 2 1 0 2 0 1 0\n",
      " 2 2 2 1 2 3 1 4 0 2 0 0 0 2 0 0 4 0 0 0 1 2 0 2 0 1 2 0 2 0 2 2 0 1 4 0 2\n",
      " 0 2 4 0 0 2 2 2 2 0 1 0 0 2 0 0 2 2 0 0 0 1 0 0 2 2 0 0 4 4 0 4 2 2]\n",
      "[2 4 2 2 0 2 2 2 1 0 1 0 2 2 2 0 0 1 1 0 2 2 2 4 2 0 3 0 2 0 0 2 0 0 3 0 0\n",
      " 2 1 0 3 4 0 1 0 0 0 4 0 2 4 0 2 3 4 0 2 2 0 0 0 0 0 0 0 3 1 2 0 4 2 0 0 0\n",
      " 4 0 3 0 2 0 1 2 1 4 2 0 0 1 0 0 0 0 3 0 0 0 2 2 0 0 0 0 0 3 1 2 2 4 0 4 0\n",
      " 4 1 0 0 0 2 0 1 0 2 0 0 0 0 0 2 2 0 0 4 3 0 2 0 3 0 0 0 0 1 1 0 0 3 0 0 2\n",
      " 2 0 2 0 4 0 0 0 2 1 1 0 2 4 2 1 2 0 0 3 0 0 0 0 4 0 2 2 0 0 0 2 3 0 4 0 0\n",
      " 0 2 2 0 2 0 4 2 2 0 2 0 2 2 0 1 4 0 1 0 2 2 2 1 0 0 1 0 0 0 0 0 4 0 0 2 0\n",
      " 0 1 1 0 0 2 4 0 4 2 2 1 1 0 0 3 2 0 0 2 2 4 0 2 4 2 0 0 2 0 0 2 0 0 2 0 0\n",
      " 0 2 0 0 2 2 2 0 3 2 2 1 0 2 0 3 1 2 0 0 0 3 1 0 2 0 1 2 2 1 2 0 2 0 2 4 0\n",
      " 0 0 2 4 0 0 0 1 0 0 4 3 0 2 0 2 2 2 2 2 0 4 2 0 2 0 0 0 3 2 2 2 4 1 4 0 0\n",
      " 0 0 1 2 2 0 1 0 2 3 0 0 0 0 0 0 2 2 0 1 0 4 4 0 2 1 0 1 2 1 0 0 0 0 1 0 0\n",
      " 2 0 0 4 0 3 0 0 0 2 1 0 2 3 2 0 0 2 0 0 2 1 2 0 2 0 0 3 2 2 2 2 0 4 3 3 0\n",
      " 3 0 2 0 2 1 2 2 4 1 2 0 1 2 0 0 0 1 0 0 0 4 0 0 0 4 1 2 0 0 0 0 0 4 0 1 0\n",
      " 0 2 0 0 2 2 4 4 0 0 0 2 0 0 0 1 0 4 4 2 2 0 0 0 2 4 1 0 0 0 0 0 0 2 0 0 0\n",
      " 0 2 0 2 0 0 2 2 0 1 0 3 2 2 4 0 0 2 2 2 2 0 0 0 0 0 2 2 0 2 0 0 1 0 0 0 0\n",
      " 1 3 4 0 0 2 0 2 0 3 2 2 0 0 0 2 2 2 0 4 1 0 1 0 0 0 1 4 0 2 0 2 1 3 0 0 0\n",
      " 1 0 1 4 0 2 0 2 0 2 2 0 1 0 0 0 0 2 0 4 0 2 2 2 0 2 0 0 3 0 0 0 0 2 0 0 0\n",
      " 1 2 0 4 0 2 0 0 0 0 0 0 3 1 0 0 4 0 2 2 0 0 2 0 0 0 0 2 2 2 0 3 0 0 0 2 3\n",
      " 4 0 0 0 0 2 4 2 2 0 1 3 0 2 2 0 1 2 0 0 0 2 2 0 0 1 2 1 2 1]\n",
      "Fold 4\n"
     ]
    },
    {
     "name": "stderr",
     "output_type": "stream",
     "text": [
      "100%|█████████████████████████████████████████████████████████████████████████████████████████████████████████████████████████████████████████████████████████████████████| 2636/2636 [03:47<00:00, 11.60it/s]\n",
      "Global seed set to 64\n"
     ]
    },
    {
     "data": {
      "text/html": [
       "Changes to your `wandb` environment variables will be ignored because your `wandb` session has already started. For more information on how to modify your settings with `wandb.init()` arguments, please refer to <a href=\"https://wandb.me/wandb-init\" target=\"_blank\">the W&B docs</a>."
      ],
      "text/plain": [
       "<IPython.core.display.HTML object>"
      ]
     },
     "metadata": {},
     "output_type": "display_data"
    },
    {
     "data": {
      "text/html": [
       "Tracking run with wandb version 0.12.17"
      ],
      "text/plain": [
       "<IPython.core.display.HTML object>"
      ]
     },
     "metadata": {},
     "output_type": "display_data"
    },
    {
     "data": {
      "text/html": [
       "Run data is saved locally in <code>/nlsasfs/home/diabeticr/dineshm/wandb/run-20220609_085501-isdtqgh7</code>"
      ],
      "text/plain": [
       "<IPython.core.display.HTML object>"
      ]
     },
     "metadata": {},
     "output_type": "display_data"
    },
    {
     "data": {
      "text/html": [
       "Syncing run <strong><a href=\"https://wandb.ai/dineswar_alt/Aptos_/runs/isdtqgh7\" target=\"_blank\">upbeat-eon-21</a></strong> to <a href=\"https://wandb.ai/dineswar_alt/Aptos_\" target=\"_blank\">Weights & Biases</a> (<a href=\"https://wandb.me/run\" target=\"_blank\">docs</a>)<br/>"
      ],
      "text/plain": [
       "<IPython.core.display.HTML object>"
      ]
     },
     "metadata": {},
     "output_type": "display_data"
    },
    {
     "name": "stderr",
     "output_type": "stream",
     "text": [
      "GPU available: True, used: True\n",
      "TPU available: False, using: 0 TPU cores\n",
      "IPU available: False, using: 0 IPUs\n",
      "HPU available: False, using: 0 HPUs\n",
      "\u001b[34m\u001b[1mwandb\u001b[0m: logging graph, to disable use `wandb.watch(log_graph=False)`\n",
      "GPU available: True, used: True\n",
      "TPU available: False, using: 0 TPU cores\n",
      "IPU available: False, using: 0 IPUs\n",
      "HPU available: False, using: 0 HPUs\n",
      "LOCAL_RANK: 0 - CUDA_VISIBLE_DEVICES: [0,1,2,3,4,5,6,7]\n",
      "\n",
      "  | Name        | Type       | Params\n",
      "-------------------------------------------\n",
      "0 | accuracy    | Accuracy   | 0     \n",
      "1 | metric      | F1Score    | 0     \n",
      "2 | kappametric | CohenKappa | 0     \n",
      "3 | model       | ModelCE    | 24.6 M\n",
      "-------------------------------------------\n",
      "24.6 M    Trainable params\n",
      "0         Non-trainable params\n",
      "24.6 M    Total params\n",
      "98.259    Total estimated model params size (MB)\n"
     ]
    },
    {
     "data": {
      "application/vnd.jupyter.widget-view+json": {
       "model_id": "",
       "version_major": 2,
       "version_minor": 0
      },
      "text/plain": [
       "Sanity Checking: 0it [00:00, ?it/s]"
      ]
     },
     "metadata": {},
     "output_type": "display_data"
    },
    {
     "data": {
      "application/vnd.jupyter.widget-view+json": {
       "model_id": "79f4ff20f37943adbcc11babf1971ec2",
       "version_major": 2,
       "version_minor": 0
      },
      "text/plain": [
       "Training: 0it [00:00, ?it/s]"
      ]
     },
     "metadata": {},
     "output_type": "display_data"
    },
    {
     "data": {
      "application/vnd.jupyter.widget-view+json": {
       "model_id": "",
       "version_major": 2,
       "version_minor": 0
      },
      "text/plain": [
       "Validation: 0it [00:00, ?it/s]"
      ]
     },
     "metadata": {},
     "output_type": "display_data"
    },
    {
     "name": "stderr",
     "output_type": "stream",
     "text": [
      "Epoch 0, global step 42: 'val_acc' reached 0.56297 (best 0.56297), saving model to '/nlsasfs/home/diabeticr/dineshm/reports/2022-06-09085501.190546_ce_512_1_0.2_0.0003.ckpt' as top 1\n"
     ]
    },
    {
     "data": {
      "application/vnd.jupyter.widget-view+json": {
       "model_id": "",
       "version_major": 2,
       "version_minor": 0
      },
      "text/plain": [
       "Validation: 0it [00:00, ?it/s]"
      ]
     },
     "metadata": {},
     "output_type": "display_data"
    },
    {
     "name": "stderr",
     "output_type": "stream",
     "text": [
      "Epoch 1, global step 84: 'val_acc' reached 0.64947 (best 0.64947), saving model to '/nlsasfs/home/diabeticr/dineshm/reports/2022-06-09085501.190546_ce_512_1_0.2_0.0003.ckpt' as top 1\n"
     ]
    },
    {
     "data": {
      "application/vnd.jupyter.widget-view+json": {
       "model_id": "",
       "version_major": 2,
       "version_minor": 0
      },
      "text/plain": [
       "Validation: 0it [00:00, ?it/s]"
      ]
     },
     "metadata": {},
     "output_type": "display_data"
    },
    {
     "name": "stderr",
     "output_type": "stream",
     "text": [
      "Epoch 2, global step 126: 'val_acc' reached 0.66768 (best 0.66768), saving model to '/nlsasfs/home/diabeticr/dineshm/reports/2022-06-09085501.190546_ce_512_1_0.2_0.0003.ckpt' as top 1\n"
     ]
    },
    {
     "data": {
      "application/vnd.jupyter.widget-view+json": {
       "model_id": "",
       "version_major": 2,
       "version_minor": 0
      },
      "text/plain": [
       "Validation: 0it [00:00, ?it/s]"
      ]
     },
     "metadata": {},
     "output_type": "display_data"
    },
    {
     "name": "stderr",
     "output_type": "stream",
     "text": [
      "Epoch 3, global step 168: 'val_acc' reached 0.70410 (best 0.70410), saving model to '/nlsasfs/home/diabeticr/dineshm/reports/2022-06-09085501.190546_ce_512_1_0.2_0.0003.ckpt' as top 1\n"
     ]
    },
    {
     "data": {
      "application/vnd.jupyter.widget-view+json": {
       "model_id": "",
       "version_major": 2,
       "version_minor": 0
      },
      "text/plain": [
       "Validation: 0it [00:00, ?it/s]"
      ]
     },
     "metadata": {},
     "output_type": "display_data"
    },
    {
     "name": "stderr",
     "output_type": "stream",
     "text": [
      "Epoch 4, global step 210: 'val_acc' reached 0.71168 (best 0.71168), saving model to '/nlsasfs/home/diabeticr/dineshm/reports/2022-06-09085501.190546_ce_512_1_0.2_0.0003.ckpt' as top 1\n"
     ]
    },
    {
     "data": {
      "application/vnd.jupyter.widget-view+json": {
       "model_id": "",
       "version_major": 2,
       "version_minor": 0
      },
      "text/plain": [
       "Validation: 0it [00:00, ?it/s]"
      ]
     },
     "metadata": {},
     "output_type": "display_data"
    },
    {
     "name": "stderr",
     "output_type": "stream",
     "text": [
      "Epoch 5, global step 252: 'val_acc' was not in top 1\n"
     ]
    },
    {
     "data": {
      "application/vnd.jupyter.widget-view+json": {
       "model_id": "",
       "version_major": 2,
       "version_minor": 0
      },
      "text/plain": [
       "Validation: 0it [00:00, ?it/s]"
      ]
     },
     "metadata": {},
     "output_type": "display_data"
    },
    {
     "name": "stderr",
     "output_type": "stream",
     "text": [
      "Epoch 6, global step 294: 'val_acc' was not in top 1\n"
     ]
    },
    {
     "data": {
      "application/vnd.jupyter.widget-view+json": {
       "model_id": "",
       "version_major": 2,
       "version_minor": 0
      },
      "text/plain": [
       "Validation: 0it [00:00, ?it/s]"
      ]
     },
     "metadata": {},
     "output_type": "display_data"
    },
    {
     "name": "stderr",
     "output_type": "stream",
     "text": [
      "Epoch 7, global step 336: 'val_acc' was not in top 1\n"
     ]
    },
    {
     "data": {
      "application/vnd.jupyter.widget-view+json": {
       "model_id": "",
       "version_major": 2,
       "version_minor": 0
      },
      "text/plain": [
       "Validation: 0it [00:00, ?it/s]"
      ]
     },
     "metadata": {},
     "output_type": "display_data"
    },
    {
     "name": "stderr",
     "output_type": "stream",
     "text": [
      "Epoch 8, global step 378: 'val_acc' reached 0.71472 (best 0.71472), saving model to '/nlsasfs/home/diabeticr/dineshm/reports/2022-06-09085501.190546_ce_512_1_0.2_0.0003.ckpt' as top 1\n"
     ]
    },
    {
     "data": {
      "application/vnd.jupyter.widget-view+json": {
       "model_id": "",
       "version_major": 2,
       "version_minor": 0
      },
      "text/plain": [
       "Validation: 0it [00:00, ?it/s]"
      ]
     },
     "metadata": {},
     "output_type": "display_data"
    },
    {
     "name": "stderr",
     "output_type": "stream",
     "text": [
      "Epoch 9, global step 420: 'val_acc' reached 0.74355 (best 0.74355), saving model to '/nlsasfs/home/diabeticr/dineshm/reports/2022-06-09085501.190546_ce_512_1_0.2_0.0003.ckpt' as top 1\n"
     ]
    },
    {
     "data": {
      "application/vnd.jupyter.widget-view+json": {
       "model_id": "",
       "version_major": 2,
       "version_minor": 0
      },
      "text/plain": [
       "Validation: 0it [00:00, ?it/s]"
      ]
     },
     "metadata": {},
     "output_type": "display_data"
    },
    {
     "name": "stderr",
     "output_type": "stream",
     "text": [
      "Epoch 10, global step 462: 'val_acc' was not in top 1\n"
     ]
    },
    {
     "data": {
      "application/vnd.jupyter.widget-view+json": {
       "model_id": "",
       "version_major": 2,
       "version_minor": 0
      },
      "text/plain": [
       "Validation: 0it [00:00, ?it/s]"
      ]
     },
     "metadata": {},
     "output_type": "display_data"
    },
    {
     "name": "stderr",
     "output_type": "stream",
     "text": [
      "Epoch 11, global step 504: 'val_acc' was not in top 1\n"
     ]
    },
    {
     "data": {
      "application/vnd.jupyter.widget-view+json": {
       "model_id": "",
       "version_major": 2,
       "version_minor": 0
      },
      "text/plain": [
       "Validation: 0it [00:00, ?it/s]"
      ]
     },
     "metadata": {},
     "output_type": "display_data"
    },
    {
     "name": "stderr",
     "output_type": "stream",
     "text": [
      "Epoch 12, global step 546: 'val_acc' reached 0.74507 (best 0.74507), saving model to '/nlsasfs/home/diabeticr/dineshm/reports/2022-06-09085501.190546_ce_512_1_0.2_0.0003.ckpt' as top 1\n"
     ]
    },
    {
     "data": {
      "application/vnd.jupyter.widget-view+json": {
       "model_id": "",
       "version_major": 2,
       "version_minor": 0
      },
      "text/plain": [
       "Validation: 0it [00:00, ?it/s]"
      ]
     },
     "metadata": {},
     "output_type": "display_data"
    },
    {
     "name": "stderr",
     "output_type": "stream",
     "text": [
      "Epoch 13, global step 588: 'val_acc' was not in top 1\n"
     ]
    },
    {
     "data": {
      "application/vnd.jupyter.widget-view+json": {
       "model_id": "",
       "version_major": 2,
       "version_minor": 0
      },
      "text/plain": [
       "Validation: 0it [00:00, ?it/s]"
      ]
     },
     "metadata": {},
     "output_type": "display_data"
    },
    {
     "name": "stderr",
     "output_type": "stream",
     "text": [
      "Epoch 14, global step 630: 'val_acc' was not in top 1\n"
     ]
    },
    {
     "data": {
      "application/vnd.jupyter.widget-view+json": {
       "model_id": "",
       "version_major": 2,
       "version_minor": 0
      },
      "text/plain": [
       "Validation: 0it [00:00, ?it/s]"
      ]
     },
     "metadata": {},
     "output_type": "display_data"
    },
    {
     "name": "stderr",
     "output_type": "stream",
     "text": [
      "Epoch 15, global step 672: 'val_acc' reached 0.76024 (best 0.76024), saving model to '/nlsasfs/home/diabeticr/dineshm/reports/2022-06-09085501.190546_ce_512_1_0.2_0.0003.ckpt' as top 1\n"
     ]
    },
    {
     "data": {
      "application/vnd.jupyter.widget-view+json": {
       "model_id": "",
       "version_major": 2,
       "version_minor": 0
      },
      "text/plain": [
       "Validation: 0it [00:00, ?it/s]"
      ]
     },
     "metadata": {},
     "output_type": "display_data"
    },
    {
     "name": "stderr",
     "output_type": "stream",
     "text": [
      "Epoch 16, global step 714: 'val_acc' reached 0.76328 (best 0.76328), saving model to '/nlsasfs/home/diabeticr/dineshm/reports/2022-06-09085501.190546_ce_512_1_0.2_0.0003.ckpt' as top 1\n"
     ]
    },
    {
     "data": {
      "application/vnd.jupyter.widget-view+json": {
       "model_id": "",
       "version_major": 2,
       "version_minor": 0
      },
      "text/plain": [
       "Validation: 0it [00:00, ?it/s]"
      ]
     },
     "metadata": {},
     "output_type": "display_data"
    },
    {
     "name": "stderr",
     "output_type": "stream",
     "text": [
      "Epoch 17, global step 756: 'val_acc' was not in top 1\n"
     ]
    },
    {
     "data": {
      "application/vnd.jupyter.widget-view+json": {
       "model_id": "",
       "version_major": 2,
       "version_minor": 0
      },
      "text/plain": [
       "Validation: 0it [00:00, ?it/s]"
      ]
     },
     "metadata": {},
     "output_type": "display_data"
    },
    {
     "name": "stderr",
     "output_type": "stream",
     "text": [
      "Epoch 18, global step 798: 'val_acc' was not in top 1\n"
     ]
    },
    {
     "data": {
      "application/vnd.jupyter.widget-view+json": {
       "model_id": "",
       "version_major": 2,
       "version_minor": 0
      },
      "text/plain": [
       "Validation: 0it [00:00, ?it/s]"
      ]
     },
     "metadata": {},
     "output_type": "display_data"
    },
    {
     "name": "stderr",
     "output_type": "stream",
     "text": [
      "Epoch 19, global step 840: 'val_acc' reached 0.76480 (best 0.76480), saving model to '/nlsasfs/home/diabeticr/dineshm/reports/2022-06-09085501.190546_ce_512_1_0.2_0.0003.ckpt' as top 1\n"
     ]
    },
    {
     "data": {
      "application/vnd.jupyter.widget-view+json": {
       "model_id": "",
       "version_major": 2,
       "version_minor": 0
      },
      "text/plain": [
       "Validation: 0it [00:00, ?it/s]"
      ]
     },
     "metadata": {},
     "output_type": "display_data"
    },
    {
     "name": "stderr",
     "output_type": "stream",
     "text": [
      "Epoch 20, global step 882: 'val_acc' was not in top 1\n"
     ]
    },
    {
     "data": {
      "application/vnd.jupyter.widget-view+json": {
       "model_id": "",
       "version_major": 2,
       "version_minor": 0
      },
      "text/plain": [
       "Validation: 0it [00:00, ?it/s]"
      ]
     },
     "metadata": {},
     "output_type": "display_data"
    },
    {
     "name": "stderr",
     "output_type": "stream",
     "text": [
      "Epoch 21, global step 924: 'val_acc' was not in top 1\n"
     ]
    },
    {
     "data": {
      "application/vnd.jupyter.widget-view+json": {
       "model_id": "",
       "version_major": 2,
       "version_minor": 0
      },
      "text/plain": [
       "Validation: 0it [00:00, ?it/s]"
      ]
     },
     "metadata": {},
     "output_type": "display_data"
    },
    {
     "name": "stderr",
     "output_type": "stream",
     "text": [
      "Epoch 22, global step 966: 'val_acc' was not in top 1\n"
     ]
    },
    {
     "data": {
      "application/vnd.jupyter.widget-view+json": {
       "model_id": "",
       "version_major": 2,
       "version_minor": 0
      },
      "text/plain": [
       "Validation: 0it [00:00, ?it/s]"
      ]
     },
     "metadata": {},
     "output_type": "display_data"
    },
    {
     "name": "stderr",
     "output_type": "stream",
     "text": [
      "Epoch 23, global step 1008: 'val_acc' reached 0.76783 (best 0.76783), saving model to '/nlsasfs/home/diabeticr/dineshm/reports/2022-06-09085501.190546_ce_512_1_0.2_0.0003.ckpt' as top 1\n"
     ]
    },
    {
     "data": {
      "application/vnd.jupyter.widget-view+json": {
       "model_id": "",
       "version_major": 2,
       "version_minor": 0
      },
      "text/plain": [
       "Validation: 0it [00:00, ?it/s]"
      ]
     },
     "metadata": {},
     "output_type": "display_data"
    },
    {
     "name": "stderr",
     "output_type": "stream",
     "text": [
      "Epoch 24, global step 1050: 'val_acc' reached 0.77086 (best 0.77086), saving model to '/nlsasfs/home/diabeticr/dineshm/reports/2022-06-09085501.190546_ce_512_1_0.2_0.0003.ckpt' as top 1\n"
     ]
    },
    {
     "data": {
      "application/vnd.jupyter.widget-view+json": {
       "model_id": "",
       "version_major": 2,
       "version_minor": 0
      },
      "text/plain": [
       "Validation: 0it [00:00, ?it/s]"
      ]
     },
     "metadata": {},
     "output_type": "display_data"
    },
    {
     "name": "stderr",
     "output_type": "stream",
     "text": [
      "Epoch 25, global step 1092: 'val_acc' reached 0.77542 (best 0.77542), saving model to '/nlsasfs/home/diabeticr/dineshm/reports/2022-06-09085501.190546_ce_512_1_0.2_0.0003.ckpt' as top 1\n"
     ]
    },
    {
     "data": {
      "application/vnd.jupyter.widget-view+json": {
       "model_id": "",
       "version_major": 2,
       "version_minor": 0
      },
      "text/plain": [
       "Validation: 0it [00:00, ?it/s]"
      ]
     },
     "metadata": {},
     "output_type": "display_data"
    },
    {
     "name": "stderr",
     "output_type": "stream",
     "text": [
      "Epoch 26, global step 1134: 'val_acc' was not in top 1\n"
     ]
    },
    {
     "data": {
      "application/vnd.jupyter.widget-view+json": {
       "model_id": "",
       "version_major": 2,
       "version_minor": 0
      },
      "text/plain": [
       "Validation: 0it [00:00, ?it/s]"
      ]
     },
     "metadata": {},
     "output_type": "display_data"
    },
    {
     "name": "stderr",
     "output_type": "stream",
     "text": [
      "Epoch 27, global step 1176: 'val_acc' was not in top 1\n"
     ]
    },
    {
     "data": {
      "application/vnd.jupyter.widget-view+json": {
       "model_id": "",
       "version_major": 2,
       "version_minor": 0
      },
      "text/plain": [
       "Validation: 0it [00:00, ?it/s]"
      ]
     },
     "metadata": {},
     "output_type": "display_data"
    },
    {
     "name": "stderr",
     "output_type": "stream",
     "text": [
      "Epoch 28, global step 1218: 'val_acc' was not in top 1\n"
     ]
    },
    {
     "data": {
      "application/vnd.jupyter.widget-view+json": {
       "model_id": "",
       "version_major": 2,
       "version_minor": 0
      },
      "text/plain": [
       "Validation: 0it [00:00, ?it/s]"
      ]
     },
     "metadata": {},
     "output_type": "display_data"
    },
    {
     "name": "stderr",
     "output_type": "stream",
     "text": [
      "Epoch 29, global step 1260: 'val_acc' reached 0.78149 (best 0.78149), saving model to '/nlsasfs/home/diabeticr/dineshm/reports/2022-06-09085501.190546_ce_512_1_0.2_0.0003.ckpt' as top 1\n"
     ]
    },
    {
     "data": {
      "application/vnd.jupyter.widget-view+json": {
       "model_id": "",
       "version_major": 2,
       "version_minor": 0
      },
      "text/plain": [
       "Validation: 0it [00:00, ?it/s]"
      ]
     },
     "metadata": {},
     "output_type": "display_data"
    },
    {
     "name": "stderr",
     "output_type": "stream",
     "text": [
      "Epoch 30, global step 1302: 'val_acc' reached 0.78300 (best 0.78300), saving model to '/nlsasfs/home/diabeticr/dineshm/reports/2022-06-09085501.190546_ce_512_1_0.2_0.0003.ckpt' as top 1\n"
     ]
    },
    {
     "data": {
      "application/vnd.jupyter.widget-view+json": {
       "model_id": "",
       "version_major": 2,
       "version_minor": 0
      },
      "text/plain": [
       "Validation: 0it [00:00, ?it/s]"
      ]
     },
     "metadata": {},
     "output_type": "display_data"
    },
    {
     "name": "stderr",
     "output_type": "stream",
     "text": [
      "Epoch 31, global step 1344: 'val_acc' was not in top 1\n"
     ]
    },
    {
     "data": {
      "application/vnd.jupyter.widget-view+json": {
       "model_id": "",
       "version_major": 2,
       "version_minor": 0
      },
      "text/plain": [
       "Validation: 0it [00:00, ?it/s]"
      ]
     },
     "metadata": {},
     "output_type": "display_data"
    },
    {
     "name": "stderr",
     "output_type": "stream",
     "text": [
      "Epoch 32, global step 1386: 'val_acc' was not in top 1\n"
     ]
    },
    {
     "data": {
      "application/vnd.jupyter.widget-view+json": {
       "model_id": "",
       "version_major": 2,
       "version_minor": 0
      },
      "text/plain": [
       "Validation: 0it [00:00, ?it/s]"
      ]
     },
     "metadata": {},
     "output_type": "display_data"
    },
    {
     "name": "stderr",
     "output_type": "stream",
     "text": [
      "Epoch 33, global step 1428: 'val_acc' reached 0.79059 (best 0.79059), saving model to '/nlsasfs/home/diabeticr/dineshm/reports/2022-06-09085501.190546_ce_512_1_0.2_0.0003.ckpt' as top 1\n"
     ]
    },
    {
     "data": {
      "application/vnd.jupyter.widget-view+json": {
       "model_id": "",
       "version_major": 2,
       "version_minor": 0
      },
      "text/plain": [
       "Validation: 0it [00:00, ?it/s]"
      ]
     },
     "metadata": {},
     "output_type": "display_data"
    },
    {
     "name": "stderr",
     "output_type": "stream",
     "text": [
      "Epoch 34, global step 1470: 'val_acc' was not in top 1\n"
     ]
    },
    {
     "data": {
      "application/vnd.jupyter.widget-view+json": {
       "model_id": "",
       "version_major": 2,
       "version_minor": 0
      },
      "text/plain": [
       "Validation: 0it [00:00, ?it/s]"
      ]
     },
     "metadata": {},
     "output_type": "display_data"
    },
    {
     "name": "stderr",
     "output_type": "stream",
     "text": [
      "Epoch 35, global step 1512: 'val_acc' was not in top 1\n"
     ]
    },
    {
     "data": {
      "application/vnd.jupyter.widget-view+json": {
       "model_id": "",
       "version_major": 2,
       "version_minor": 0
      },
      "text/plain": [
       "Validation: 0it [00:00, ?it/s]"
      ]
     },
     "metadata": {},
     "output_type": "display_data"
    },
    {
     "name": "stderr",
     "output_type": "stream",
     "text": [
      "Epoch 36, global step 1554: 'val_acc' was not in top 1\n"
     ]
    },
    {
     "data": {
      "application/vnd.jupyter.widget-view+json": {
       "model_id": "",
       "version_major": 2,
       "version_minor": 0
      },
      "text/plain": [
       "Validation: 0it [00:00, ?it/s]"
      ]
     },
     "metadata": {},
     "output_type": "display_data"
    },
    {
     "name": "stderr",
     "output_type": "stream",
     "text": [
      "Epoch 37, global step 1596: 'val_acc' was not in top 1\n"
     ]
    },
    {
     "data": {
      "application/vnd.jupyter.widget-view+json": {
       "model_id": "",
       "version_major": 2,
       "version_minor": 0
      },
      "text/plain": [
       "Validation: 0it [00:00, ?it/s]"
      ]
     },
     "metadata": {},
     "output_type": "display_data"
    },
    {
     "name": "stderr",
     "output_type": "stream",
     "text": [
      "Epoch 38, global step 1638: 'val_acc' was not in top 1\n"
     ]
    },
    {
     "data": {
      "application/vnd.jupyter.widget-view+json": {
       "model_id": "",
       "version_major": 2,
       "version_minor": 0
      },
      "text/plain": [
       "Validation: 0it [00:00, ?it/s]"
      ]
     },
     "metadata": {},
     "output_type": "display_data"
    },
    {
     "name": "stderr",
     "output_type": "stream",
     "text": [
      "Epoch 39, global step 1680: 'val_acc' was not in top 1\n"
     ]
    },
    {
     "name": "stdout",
     "output_type": "stream",
     "text": [
      "./reports/2022-06-09085501.190546_ce_512_1_0.2_0.0003\n"
     ]
    },
    {
     "name": "stderr",
     "output_type": "stream",
     "text": [
      "LOCAL_RANK: 0 - CUDA_VISIBLE_DEVICES: [0,1,2,3,4,5,6,7]\n"
     ]
    },
    {
     "data": {
      "application/vnd.jupyter.widget-view+json": {
       "model_id": "ab16ea433c344aa7a0a70aa11721c0fa",
       "version_major": 2,
       "version_minor": 0
      },
      "text/plain": [
       "Testing: 0it [00:00, ?it/s]"
      ]
     },
     "metadata": {},
     "output_type": "display_data"
    },
    {
     "name": "stdout",
     "output_type": "stream",
     "text": [
      "────────────────────────────────────────────────────────────────────────────────────────────────────────────────────────\n",
      "       Test metric             DataLoader 0\n",
      "────────────────────────────────────────────────────────────────────────────────────────────────────────────────────────\n",
      "      test_F1_score         0.5995425581932068\n",
      "      test_accuracy         0.7820163369178772\n",
      "       test_kappa           0.6715547442436218\n",
      "        test_loss           0.6559995412826538\n",
      "────────────────────────────────────────────────────────────────────────────────────────────────────────────────────────\n"
     ]
    },
    {
     "name": "stderr",
     "output_type": "stream",
     "text": [
      "100%|███████████████████████████████████████████████████████████████████████████████████████████████████████████████████████████████████████████████████████████████████████| 367/367 [00:35<00:00, 10.22it/s]\n",
      "100%|███████████████████████████████████████████████████████████████████████████████████████████████████████████████████████████████████████████████████████████████████████| 659/659 [00:49<00:00, 13.42it/s]\n"
     ]
    },
    {
     "data": {
      "image/png": "[encoded data removed]",
      "text/plain": [
       "<Figure size 432x288 with 1 Axes>"
      ]
     },
     "metadata": {
      "needs_background": "light"
     },
     "output_type": "display_data"
    },
    {
     "data": {
      "image/png": "[encoded data removed]",
      "text/plain": [
       "<Figure size 432x288 with 1 Axes>"
      ]
     },
     "metadata": {
      "needs_background": "light"
     },
     "output_type": "display_data"
    },
    {
     "data": {
      "text/html": [
       "Waiting for W&B process to finish... <strong style=\"color:green\">(success).</strong>"
      ],
      "text/plain": [
       "<IPython.core.display.HTML object>"
      ]
     },
     "metadata": {},
     "output_type": "display_data"
    },
    {
     "data": {
      "application/vnd.jupyter.widget-view+json": {
       "model_id": "",
       "version_major": 2,
       "version_minor": 0
      },
      "text/plain": [
       "VBox(children=(Label(value='0.021 MB of 0.021 MB uploaded (0.000 MB deduped)\\r'), FloatProgress(value=1.0, max…"
      ]
     },
     "metadata": {},
     "output_type": "display_data"
    },
    {
     "data": {
      "text/html": [
       "<style>\n",
       "    table.wandb td:nth-child(1) { padding: 0 10px; text-align: left ; width: auto;} td:nth-child(2) {text-align: left ; width: 100%}\n",
       "    .wandb-row { display: flex; flex-direction: row; flex-wrap: wrap; justify-content: flex-start; width: 100% }\n",
       "    .wandb-col { display: flex; flex-direction: column; flex-basis: 100%; flex: 1; padding: 10px; }\n",
       "    </style>\n",
       "<div class=\"wandb-row\"><div class=\"wandb-col\"><h3>Run history:</h3><br/><table class=\"wandb\"><tr><td>epoch</td><td>▁▁▁▂▂▂▂▂▂▃▃▃▃▃▃▄▄▄▄▅▅▅▅▅▅▆▆▆▆▆▆▇▇▇▇▇▇███</td></tr><tr><td>test_F1_score</td><td>▁</td></tr><tr><td>test_accuracy</td><td>▁</td></tr><tr><td>test_kappa</td><td>▁</td></tr><tr><td>test_loss</td><td>▁</td></tr><tr><td>train_acc_epoch</td><td>▁▃▃▄▄▅▅▅▅▅▆▅▆▆▆▆▇▆▇▇▇▇▇▇▇▇█▇▇▇▇█▇███████</td></tr><tr><td>train_acc_step</td><td>▁▃▃▃▄▆▆▅▄▆▅▆▆▆▇▆▆▆▇▆▅▇▆▅▆▇▇█▇▇▆█▇</td></tr><tr><td>train_kappa_epoch</td><td>▁▃▃▄▄▄▅▅▅▅▆▅▆▆▆▆▇▆▇▇▇▇▇▇▇▇█▇▇▇▇█▇███████</td></tr><tr><td>train_kappa_step</td><td>▁▃▃▃▄▆▆▅▄▆▅▆▆▆▇▆▆▆▇▆▅▇▆▅▆▇▇█▇▇▆█▇</td></tr><tr><td>train_loss_epoch</td><td>█▆▆▅▅▅▄▄▄▄▃▄▃▃▃▃▃▂▂▂▂▂▂▂▂▂▂▁▁▁▁▁▂▁▁▁▁▁▁▁</td></tr><tr><td>train_loss_step</td><td>█▆▆▆▅▄▃▃▅▄▄▃▃▃▂▃▃▃▁▂▃▂▂▃▃▂▂▁▂▂▂▁▂</td></tr><tr><td>trainer/global_step</td><td>▁▁▁▁▂▂▂▂▂▃▃▃▃▃▄▄▄▄▄▄▅▅▅▅▅▅▆▆▆▆▆▇▇▇▇▇▇███</td></tr><tr><td>val_acc</td><td>▁▄▄▅▆▅▄▅▆▇▆▆▇▆▇▇▇▇▆▇▇▇▇▇▇█▇▇▇██▇███▇▇█▇█</td></tr><tr><td>val_kappa</td><td>▁▄▄▅▆▅▄▅▆▇▆▆▇▆▇▇▇▇▇▇▇▇▇▇▇█▇▇▇██████▇▇█▇█</td></tr><tr><td>val_loss</td><td>█▆▅▄▄▄▅▄▃▂▃▃▂▃▂▂▁▂▂▁▂▂▂▂▁▁▁▁▁▂▁▁▁▁▁▁▁▁▁▁</td></tr><tr><td>valid_F1_score</td><td>▁▄▄▆▆▅▅▆▆▇▆▆▇▆▇▇▇▇▇▇█▇▇▇█▇▇▇███▇███▇█▇▇█</td></tr></table><br/></div><div class=\"wandb-col\"><h3>Run summary:</h3><br/><table class=\"wandb\"><tr><td>epoch</td><td>40</td></tr><tr><td>test_F1_score</td><td>0.59954</td></tr><tr><td>test_accuracy</td><td>0.78202</td></tr><tr><td>test_kappa</td><td>0.67155</td></tr><tr><td>test_loss</td><td>0.656</td></tr><tr><td>train_acc_epoch</td><td>0.78983</td></tr><tr><td>train_acc_step</td><td>0.78125</td></tr><tr><td>train_kappa_epoch</td><td>0.73517</td></tr><tr><td>train_kappa_step</td><td>0.72397</td></tr><tr><td>train_loss_epoch</td><td>0.53661</td></tr><tr><td>train_loss_step</td><td>0.62651</td></tr><tr><td>trainer/global_step</td><td>1680</td></tr><tr><td>val_acc</td><td>0.77845</td></tr><tr><td>val_kappa</td><td>0.66896</td></tr><tr><td>val_loss</td><td>0.61639</td></tr><tr><td>valid_F1_score</td><td>0.61404</td></tr></table><br/></div></div>"
      ],
      "text/plain": [
       "<IPython.core.display.HTML object>"
      ]
     },
     "metadata": {},
     "output_type": "display_data"
    },
    {
     "data": {
      "text/html": [
       "Synced <strong style=\"color:#cdcd00\">upbeat-eon-21</strong>: <a href=\"https://wandb.ai/dineswar_alt/Aptos_/runs/isdtqgh7\" target=\"_blank\">https://wandb.ai/dineswar_alt/Aptos_/runs/isdtqgh7</a><br/>Synced 6 W&B file(s), 1 media file(s), 0 artifact file(s) and 0 other file(s)"
      ],
      "text/plain": [
       "<IPython.core.display.HTML object>"
      ]
     },
     "metadata": {},
     "output_type": "display_data"
    },
    {
     "data": {
      "text/html": [
       "Find logs at: <code>./wandb/run-20220609_085501-isdtqgh7/logs</code>"
      ],
      "text/plain": [
       "<IPython.core.display.HTML object>"
      ]
     },
     "metadata": {},
     "output_type": "display_data"
    },
    {
     "name": "stdout",
     "output_type": "stream",
     "text": [
      "[0 1 3 4 0 0 0 4 2 2 0 0 2 2 2 0 0 0 0 0 0 0 4 1 1 2 2 1 1 0 2 2 0 0 0 4 0\n",
      " 0 2 0 4 4 0 1 2 4 0 3 0 2 0 2 0 3 0 2 0 0 2 2 4 3 2 0 2 0 0 0 0 0 1 0 2 2\n",
      " 2 0 0 0 2 0 0 0 2 1 2 2 0 2 0 0 4 0 0 4 2 0 3 4 0 0 0 3 0 2 0 2 0 2 0 1 2\n",
      " 4 2 2 0 2 1 2 0 0 0 2 1 2 2 0 0 0 2 2 0 4 0 0 0 2 0 0 0 0 2 4 1 2 1 2 2 0\n",
      " 3 4 0 0 0 0 0 0 0 3 2 0 0 0 0 1 0 0 0 0 2 0 0 4 0 2 0 2 0 0 2 0 0 0 3 2 0\n",
      " 0 0 0 0 0 2 3 0 2 2 4 3 3 4 4 4 0 0 2 0 3 1 0 2 1 2 0 2 0 2 2 0 0 2 0 3 2\n",
      " 0 2 0 1 1 0 2 0 2 2 0 4 0 2 0 4 2 2 0 0 2 0 2 1 1 0 2 0 2 0 2 1 4 3 1 0 0\n",
      " 0 0 0 2 0 1 4 0 2 2 2 1 0 0 0 2 0 0 0 3 4 0 2 4 1 0 3 2 0 0 2 1 0 2 0 1 0\n",
      " 2 2 2 1 2 3 1 4 0 2 0 0 0 2 0 0 4 0 0 0 1 2 0 2 0 1 2 0 2 0 2 2 0 1 4 0 2\n",
      " 0 2 4 0 0 2 2 2 2 0 1 0 0 2 0 0 2 2 0 0 0 1 0 0 2 2 0 0 4 4 0 4 2 2]\n",
      "[3 2 3 0 4 4 2 0 2 2 0 0 4 1 4 2 2 0 1 0 2 0 0 0 0 2 0 4 0 1 0 2 0 3 0 2 2\n",
      " 0 0 0 0 0 0 0 2 2 0 2 0 2 0 1 0 4 2 2 0 4 0 0 2 0 2 0 2 0 0 0 1 0 0 2 4 1\n",
      " 1 0 2 2 0 0 0 3 0 0 0 0 0 0 4 1 3 2 0 2 0 0 0 4 2 0 4 0 0 2 2 0 2 2 0 2 0\n",
      " 2 4 0 2 0 2 0 1 0 0 4 0 0 0 4 2 2 0 1 0 1 0 0 0 2 0 2 2 4 0 0 3 0 2 2 3 4\n",
      " 0 0 0 0 2 0 2 4 2 1 0 0 2 0 1 2 1 2 0 1 1 2 0 0 2 4 3 2 0 0 0 3 1 0 3 1 2\n",
      " 2 2 3 0 0 2 2 2 0 0 1 0 1 4 0 0 2 2 1 1 0 0 0 0 0 2 2 3 0 1 2 0 0 0 1 2 2\n",
      " 0 0 0 3 0 2 0 1 2 2 0 2 0 2 0 0 0 0 2 2 0 0 0 0 0 0 0 2 0 2 0 2 0 0 2 0 0\n",
      " 3 4 0 0 2 0 1 0 0 1 0 1 0 3 1 2 2 0 1 2 0 0 4 0 0 2 2 2 4 0 2 2 0 2 1 2 1\n",
      " 3 1 1 1 0 4 0 0 0 1 2 0 0 2 4 0 2 0 0 0 0 2 3 0 1 0 0 3 0 1 0 2 0 0 0 0 0\n",
      " 3 2 0 0 1 2 2 2 1 2 0 0 1 2 2 0 0 2 0 0 0 0 0 0 2 1 0 2 0 0 2 0 0 0 0 2 2\n",
      " 2 0 0 1 4 2 0 0 4 0 2 1 2 2 2 2 0 4 3 0 0 4 0 0 0 4 4 0 2 0 0 0 2 0 3 0 0\n",
      " 2 4 1 0 2 0 2 0 4 0 0 0 4 2 1 0 2 0 0 2 0 0 0 2 2 0 2 0 0 3 0 0 0 4 0 2 0\n",
      " 2 0 2 0 0 1 4 4 0 2 0 2 0 2 2 0 4 4 0 0 0 4 0 0 0 2 0 0 0 0 3 1 2 2 1 0 0\n",
      " 0 0 0 0 1 3 0 1 2 4 2 0 0 0 0 0 3 2 4 0 2 2 2 2 0 1 2 0 1 3 0 4 4 4 0 0 0\n",
      " 2 2 2 2 0 0 0 1 0 3 0 0 2 2 3 3 0 0 1 0 4 0 0 0 2 0 0 0 0 0 2 0 2 2 2 0 0\n",
      " 2 0 0 2 0 0 0 0 2 0 0 2 2 3 0 2 4 2 2 4 0 0 0 0 1 0 2 4 1 0 3 0 0 0 2 2 2\n",
      " 2 0 0 0 0 0 3 2 2 0 0 0 0 0 3 0 1 1 1 1 2 1 2 4 2 0 2 3 1 2 2 0 0 1 0 2 1\n",
      " 1 0 0 4 0 0 2 0 2 0 0 0 4 0 0 0 2 3 0 0 4 2 2 0 1 1 0 0 2 0]\n"
     ]
    }
   ],
   "source": [
    "PATH = 'aptos/'\n",
    "IMG_PATH = 'aptos/train_images_resize'\n",
    "df = pd.read_csv(PATH+'train.csv')\n",
    "\n",
    "dfx,df_test = train_test_split(df,train_size=0.9,random_state=42)\n",
    "\n",
    "skf = StratifiedKFold(n_splits=5, random_state=42, shuffle=True)\n",
    "dfx['fold'] = 0\n",
    "for idx,(_, test_index) in enumerate(skf.split(dfx['id_code'], dfx['diagnosis'])):\n",
    "    print(len(test_index))\n",
    "    print(idx)\n",
    "    dfx.iloc[test_index,2] = idx\n",
    "\n",
    "for i in range(5):\n",
    "    for j in range(5):\n",
    "        df_test[f'{i}_{j}'] = 0\n",
    "    dfx[f'{i}'] = 0\n",
    "    \n",
    "for i in range(5):\n",
    "    print(f\"Fold {i}\")\n",
    "    df_train = dfx[dfx['fold'] != i]\n",
    "    df_valid = dfx[dfx['fold'] == i]\n",
    "    cv(df_test,df_train,df_valid,i)"
   ]
  },
  {
   "cell_type": "code",
   "execution_count": null,
   "id": "c20b8960",
   "metadata": {},
   "outputs": [],
   "source": [
    "import numpy as np\n",
    "from scipy.special import softmax\n",
    "from sklearn.metrics import accuracy_score\n",
    "\n",
    "for i in range(5):\n",
    "    preds = []\n",
    "    for j in range(5):\n",
    "        preds.append(df_test[f\"{j}_{i}\"].values)\n",
    "    df_test[f\"{i}\"] = np.mean(np.array(preds),axis=0)\n",
    "    \n",
    "dfx.to_csv('train_df.csv',index=False)\n",
    "df_test.to_csv('test_df.csv',index=False)\n",
    "\n",
    "print(accuracy_score(np.argmax(softmax(df_test.iloc[:,27:32].values,axis=1),axis=1),df_test.iloc[:,1].values))"
   ]
  }
 ],
 "metadata": {
  "kernelspec": {
   "display_name": "Python 3.8.5 ('base')",
   "language": "python",
   "name": "python3"
  },
  "language_info": {
   "codemirror_mode": {
    "name": "ipython",
    "version": 3
   },
   "file_extension": ".py",
   "mimetype": "text/x-python",
   "name": "python",
   "nbconvert_exporter": "python",
   "pygments_lexer": "ipython3",
   "version": "3.8.5"
  },
  "vscode": {
   "interpreter": {
    "hash": "d520ab231c01d0547f20eca0610860640c0d39f5bdbf961acd291b6770781336"
   }
  }
 },
 "nbformat": 4,
 "nbformat_minor": 5
}
