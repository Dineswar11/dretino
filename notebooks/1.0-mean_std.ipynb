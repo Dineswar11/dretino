{
 "cells": [
  {
   "cell_type": "code",
   "execution_count": null,
   "metadata": {},
   "outputs": [],
   "source": [
    "import os\n",
    "import torch\n",
    "from tqdm import tqdm\n",
    "\n",
    "import numpy as np\n",
    "import pandas as pd\n",
    "import matplotlib.pyplot as plt\n",
    "\n",
    "import albumentations as A\n",
    "from albumentations.pytorch import ToTensorV2\n",
    "\n",
    "from dretino.dataloader.utils import CustomDataset\n",
    "from torch.utils.data import DataLoader"
   ]
  },
  {
   "cell_type": "code",
   "execution_count": null,
   "metadata": {},
   "outputs": [],
   "source": [
    "PATH = '../data/processed/'\n",
    "df = pd.read_csv(PATH + '2.Groundtruths/a.IDRiD_Disease_Grading_Training_Labels.csv')\n",
    "\n",
    "train_data = CustomDataset(df,\n",
    "                           PATH+'images_resized',\n",
    "                           transform=A.Compose([\n",
    "                                   A.Resize(width=224, height=224),\n",
    "                                   A.Normalize(mean=(0,0,0),\n",
    "                                               std =(1,1,1)),\n",
    "                                   ToTensorV2()\n",
    "                            ]))\n",
    "\n",
    "train_dataloader = DataLoader(train_data,\n",
    "                              batch_size=32,\n",
    "                              num_workers=4,\n",
    "                              shuffle=False)"
   ]
  },
  {
   "cell_type": "code",
   "execution_count": null,
   "metadata": {},
   "outputs": [],
   "source": [
    "for batch_idx, inputs in enumerate(train_dataloader):\n",
    "    fig = plt.figure(figsize = (14, 7))\n",
    "    for i in range(8):\n",
    "        ax = fig.add_subplot(2, 4, i + 1, xticks = [], yticks = [])     \n",
    "        plt.imshow(inputs[0][i].numpy().transpose(1, 2, 0))\n",
    "    break"
   ]
  },
  {
   "cell_type": "code",
   "execution_count": null,
   "metadata": {},
   "outputs": [],
   "source": [
    "psum    = torch.tensor([0.0, 0.0, 0.0])\n",
    "psum_sq = torch.tensor([0.0, 0.0, 0.0])\n",
    "\n",
    "for inputs,_ in tqdm(train_dataloader):\n",
    "    psum    += inputs.sum(axis        = [0, 2, 3])\n",
    "    psum_sq += (inputs ** 2).sum(axis = [0, 2, 3])"
   ]
  },
  {
   "cell_type": "code",
   "execution_count": null,
   "metadata": {},
   "outputs": [],
   "source": [
    "count = len(df) * 224 * 224\n",
    "\n",
    "# mean and std\n",
    "total_mean = psum / count\n",
    "total_var  = (psum_sq / count) - (total_mean ** 2)\n",
    "total_std  = torch.sqrt(total_var)\n",
    "\n",
    "# output\n",
    "print('mean: '  + str(total_mean))\n",
    "print('std:  '  + str(total_std))"
   ]
  },
  {
   "cell_type": "code",
   "execution_count": null,
   "metadata": {},
   "outputs": [],
   "source": [
    "train_data = CustomDataset(df,\n",
    "                           PATH+'images_resized',\n",
    "                           transform=A.Compose([\n",
    "                                   A.Resize(width=224, height=224),\n",
    "                                   A.Normalize(mean=(0.5237, 0.2542, 0.0853),\n",
    "                                               std =(0.2649, 0.1497, 0.0876)),\n",
    "                                    # A.Normalize(mean=(0.5211, 0.2514, 0.0809),\n",
    "                                    #            std =(0.2653, 0.1499, 0.0861)),\n",
    "                                   ToTensorV2()\n",
    "                            ]))\n",
    "\n",
    "train_dataloader = DataLoader(train_data,\n",
    "                              batch_size=32,\n",
    "                              num_workers=4,\n",
    "                              shuffle=False)\n",
    "\n",
    "for batch_idx, (inputs,label) in enumerate(train_dataloader):\n",
    "    fig = plt.figure(figsize = (20, 20))\n",
    "    plt.tight_layout()\n",
    "    try:\n",
    "        for i in range(32):\n",
    "            ax = fig.add_subplot(8, 4, i + 1, xticks = [], yticks = [])  \n",
    "            plt.imshow(inputs[i].numpy().transpose(1, 2, 0))\n",
    "            plt.title(str(np.argmax(label[i].numpy()))) \n",
    "        plt.savefig(str(batch_idx)+'.png')\n",
    "    except IndexError:\n",
    "        for i in range(29):\n",
    "            ax = fig.add_subplot(8, 4, i + 1, xticks = [], yticks = [])     \n",
    "            plt.imshow(inputs[i].numpy().transpose(1, 2, 0))\n",
    "            plt.title(str(np.argmax(label[i].numpy())))\n",
    "        plt.savefig(str(batch_idx)+'.png')\n",
    "    break\n",
    "plt.show()"
   ]
  }
 ],
 "metadata": {
  "interpreter": {
   "hash": "271a976e78fe5c306cc2bca39f7b06ef6f3468d2fdab80f05f7318d014b2009c"
  },
  "kernelspec": {
   "display_name": "Python 3.8.12 ('PytorchLightning')",
   "language": "python",
   "name": "python3"
  },
  "language_info": {
   "codemirror_mode": {
    "name": "ipython",
    "version": 3
   },
   "file_extension": ".py",
   "mimetype": "text/x-python",
   "name": "python",
   "nbconvert_exporter": "python",
   "pygments_lexer": "ipython3",
   "version": "3.8.12"
  },
  "orig_nbformat": 4
 },
 "nbformat": 4,
 "nbformat_minor": 2
}
