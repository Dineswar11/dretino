{
 "cells": [
  {
   "cell_type": "code",
   "execution_count": null,
   "metadata": {},
   "outputs": [],
   "source": [
    "import os\n",
    "import numpy as np\n",
    "import torch\n",
    "import pandas as pd\n",
    "from tqdm import tqdm\n",
    "\n",
    "from sklearn.model_selection import train_test_split\n",
    "\n",
    "import albumentations as A\n",
    "from albumentations.pytorch import ToTensorV2\n",
    "\n",
    "import torch.nn as nn\n",
    "import torch.nn.functional as F\n",
    "\n",
    "from torchmetrics import Accuracy, F1Score ,CohenKappa\n",
    "\n",
    "from dretino.dataloader.build_features import DRDataModule\n",
    "from dretino.models.mseloss import ModelMSE\n",
    "from dretino.models.train_model import Model, train\n",
    "from dretino.visualization.visualize import show_images, cal_mean, plot_metrics"
   ]
  },
  {
   "cell_type": "code",
   "execution_count": null,
   "metadata": {},
   "outputs": [],
   "source": [
    "PATH = '../data/processed/'\n",
    "\n",
    "dfx = pd.read_csv(PATH + '2.Groundtruths/a.IDRiD_Disease_Grading_Training_Labels.csv',usecols = ['Image name','Retinopathy grade'])\n",
    "df_test = pd.read_csv(PATH + '2.Groundtruths/b.IDRiD_Disease_Grading_Testing_Labels.csv',usecols = ['Image name','Retinopathy grade'])\n",
    "\n",
    "dfx.head()"
   ]
  },
  {
   "cell_type": "code",
   "execution_count": null,
   "metadata": {},
   "outputs": [],
   "source": [
    "df_train, df_valid = train_test_split(\n",
    "        dfx,\n",
    "        test_size=0.1, \n",
    "        random_state=42, \n",
    "        stratify=dfx['Retinopathy grade'].values\n",
    "    )\n",
    "\n",
    "df_train = df_train.reset_index(drop=True)\n",
    "df_valid = df_valid.reset_index(drop=True)\n",
    "\n",
    "df_train.head()"
   ]
  },
  {
   "cell_type": "code",
   "execution_count": null,
   "metadata": {},
   "outputs": [],
   "source": [
    "train_transforms = A.Compose(\n",
    "    [\n",
    "        A.Resize(width=250, height=250),\n",
    "        A.RandomCrop(height=224, width=224),\n",
    "        A.Normalize(\n",
    "            mean=(0.5237, 0.2542, 0.0853),\n",
    "            std=(0.2649, 0.1497, 0.0876),\n",
    "            max_pixel_value=255.0,\n",
    "        ),\n",
    "        ToTensorV2(),\n",
    "    ]\n",
    ")\n",
    "\n",
    "val_transforms = A.Compose(\n",
    "    [\n",
    "        A.Resize(height=224, width=224),\n",
    "        A.Normalize(\n",
    "            mean=(0.5237, 0.2542, 0.0853),\n",
    "            std=(0.2649, 0.1497, 0.0876),\n",
    "            max_pixel_value=255.0,\n",
    "        ),\n",
    "        ToTensorV2(),\n",
    "    ]\n",
    ")\n",
    "\n",
    "test_transforms = A.Compose(\n",
    "    [\n",
    "        A.Resize(height=224, width=224),\n",
    "        A.Normalize(\n",
    "            mean=(0.5237, 0.2542, 0.0853),\n",
    "            std=(0.2649, 0.1497, 0.0876),\n",
    "            max_pixel_value=255.0,\n",
    "        ),\n",
    "        ToTensorV2(),\n",
    "    ]\n",
    ")"
   ]
  },
  {
   "cell_type": "code",
   "execution_count": null,
   "metadata": {},
   "outputs": [],
   "source": [
    "dm = DRDataModule(df_train, df_valid, df_test,\n",
    "                      train_path=PATH + 'images_resized',\n",
    "                      valid_path=PATH + 'images_resized',\n",
    "                      test_path=PATH + 'test_images_resized',\n",
    "                      train_transforms=train_transforms,\n",
    "                      val_transforms=val_transforms,\n",
    "                      test_transforms=test_transforms,\n",
    "                      num_workers=4,\n",
    "                      batch_size=4)\n",
    "\n",
    "show_images(dm.train_dataloader())"
   ]
  },
  {
   "cell_type": "code",
   "execution_count": null,
   "metadata": {},
   "outputs": [],
   "source": [
    "model = ModelMSE(model_name='resnet50d',\n",
    "                 num_classes=5,\n",
    "                 additional_layers=False)\n",
    "\n",
    "print(model)"
   ]
  },
  {
   "cell_type": "code",
   "execution_count": null,
   "metadata": {},
   "outputs": [],
   "source": [
    "def train_one_epoch(model,dataloader,optimizer,loss_fn):\n",
    "    loss_ = 0\n",
    "    acc_ = []\n",
    "    f1_ = []\n",
    "    kappa_ = []\n",
    "    for idx,(x,y) in tqdm(enumerate(dataloader)):\n",
    "        optimizer.zero_grad()\n",
    "        y = torch.argmax(y,dim=-1)\n",
    "        y = torch.unsqueeze(y,1).to(torch.float32)\n",
    "        logits = model(x)\n",
    "        loss = loss_fn(y,logits)\n",
    "        loss_+=loss.item()\n",
    "        loss.backward()\n",
    "        optimizer.step()\n",
    "        predictions = logits.data\n",
    "        predictions[predictions < 0.5] = 0\n",
    "        predictions[(predictions >= 0.5) & (predictions < 1.5)] = 1\n",
    "        predictions[(predictions >= 1.5) & (predictions < 2.5)] = 2\n",
    "        predictions[(predictions >= 2.5) & (predictions < 3.5)] = 3\n",
    "        predictions[(predictions >= 3.5) & (predictions < 1000000000000)] = 4\n",
    "        preds = predictions.long().view(-1)\n",
    "        acc_.append(accuracy(preds, y.to(torch.int16).view(-1)))\n",
    "        f1_.append(metric(preds, y.to(torch.int16).view(-1)))\n",
    "        kappa_.append(kappametric(preds, y.to(torch.int16).view(-1)))\n",
    "    print(f\"loss : {loss_/idx}\\n\",\n",
    "          f\"acc :  {np.array(acc_).mean()}\\n\",\n",
    "          f\"f1 :  {np.array(f1_).mean()}\\n\",\n",
    "          f\"kappa :  {np.array(kappa_).mean()}\")\n"
   ]
  },
  {
   "cell_type": "code",
   "execution_count": null,
   "metadata": {},
   "outputs": [],
   "source": [
    "accuracy = Accuracy()\n",
    "metric = F1Score(num_classes=5)\n",
    "kappametric = CohenKappa(num_classes=5)\n",
    "\n",
    "optimizer = torch.optim.Adam(model.parameters(),lr=3e-4)\n",
    "loss_fn = nn.MSELoss()\n",
    "\n",
    "train_one_epoch(model,dm.train_dataloader(),optimizer,loss_fn)"
   ]
  }
 ],
 "metadata": {
  "interpreter": {
   "hash": "271a976e78fe5c306cc2bca39f7b06ef6f3468d2fdab80f05f7318d014b2009c"
  },
  "kernelspec": {
   "display_name": "Python 3.8.12 ('PytorchLightning')",
   "language": "python",
   "name": "python3"
  },
  "language_info": {
   "codemirror_mode": {
    "name": "ipython",
    "version": 3
   },
   "file_extension": ".py",
   "mimetype": "text/x-python",
   "name": "python",
   "nbconvert_exporter": "python",
   "pygments_lexer": "ipython3",
   "version": "3.8.12"
  },
  "orig_nbformat": 4
 },
 "nbformat": 4,
 "nbformat_minor": 2
}
